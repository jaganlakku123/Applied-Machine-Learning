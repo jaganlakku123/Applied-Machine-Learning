{
  "cells": [
    {
      "cell_type": "markdown",
      "metadata": {
        "id": "263xHFN8TshC"
      },
      "source": [
        "# Download Data"
      ]
    },
    {
      "cell_type": "code",
      "execution_count": null,
      "metadata": {
        "colab": {
          "base_uri": "https://localhost:8080/",
          "height": 73,
          "resources": {
            "http://localhost:8080/nbextensions/google.colab/files.js": {
              "data": "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",
              "headers": [
                [
                  "content-type",
                  "application/javascript"
                ]
              ],
              "ok": true,
              "status": 200,
              "status_text": ""
            }
          }
        },
        "id": "Er3y5HiNTglo",
        "outputId": "a13888fd-16c5-46c1-9553-9b1b82a4156c"
      },
      "outputs": [
        {
          "output_type": "display_data",
          "data": {
            "text/html": [
              "\n",
              "     <input type=\"file\" id=\"files-37c559af-6614-4b3a-aed2-b70b36ef7c68\" name=\"files[]\" multiple disabled\n",
              "        style=\"border:none\" />\n",
              "     <output id=\"result-37c559af-6614-4b3a-aed2-b70b36ef7c68\">\n",
              "      Upload widget is only available when the cell has been executed in the\n",
              "      current browser session. Please rerun this cell to enable.\n",
              "      </output>\n",
              "      <script src=\"/nbextensions/google.colab/files.js\"></script> "
            ],
            "text/plain": [
              "<IPython.core.display.HTML object>"
            ]
          },
          "metadata": {}
        },
        {
          "output_type": "stream",
          "name": "stdout",
          "text": [
            "Saving kaggle.json to kaggle.json\n"
          ]
        }
      ],
      "source": [
        "# For Google Colab. If not on Colab, make sure kaggle.json is it the right location\n",
        "from google.colab import files\n",
        "\n",
        "# upload kaggle.json\n",
        "uploaded = files.upload()"
      ]
    },
    {
      "cell_type": "code",
      "execution_count": null,
      "metadata": {
        "colab": {
          "base_uri": "https://localhost:8080/"
        },
        "id": "EKGRbjeKTkkG",
        "outputId": "4c745d79-667e-40c5-eac2-73078844a0c8"
      },
      "outputs": [
        {
          "output_type": "stream",
          "name": "stdout",
          "text": [
            "kaggle.json  sample_data\n"
          ]
        }
      ],
      "source": [
        "# move kaggle.json to the right location\n",
        "!pip install -q kaggle\n",
        "!ls\n",
        "!mkdir ~/.kaggle\n",
        "!cp kaggle.json ~/.kaggle/kaggle.json"
      ]
    },
    {
      "cell_type": "code",
      "execution_count": null,
      "metadata": {
        "colab": {
          "base_uri": "https://localhost:8080/"
        },
        "id": "-PwI42xfToSW",
        "outputId": "b88dc624-15b1-461d-f7ac-f79bbdb438eb"
      },
      "outputs": [
        {
          "output_type": "stream",
          "name": "stdout",
          "text": [
            "Warning: Your Kaggle API key is readable by other users on this system! To fix this, you can run 'chmod 600 /root/.kaggle/kaggle.json'\n",
            "Warning: Looks like you're using an outdated API Version, please consider updating (server 1.5.12 / client 1.5.4)\n",
            "Downloading previous_application.csv.zip to home-credit-default-risk\n",
            " 85% 65.0M/76.3M [00:00<00:00, 106MB/s] \n",
            "100% 76.3M/76.3M [00:00<00:00, 119MB/s]\n",
            "Downloading sample_submission.csv to home-credit-default-risk\n",
            "  0% 0.00/524k [00:00<?, ?B/s]\n",
            "100% 524k/524k [00:00<00:00, 73.5MB/s]\n",
            "Downloading bureau.csv.zip to home-credit-default-risk\n",
            " 95% 35.0M/36.8M [00:00<00:00, 68.1MB/s]\n",
            "100% 36.8M/36.8M [00:00<00:00, 82.9MB/s]\n",
            "Downloading POS_CASH_balance.csv.zip to home-credit-default-risk\n",
            " 89% 97.0M/109M [00:01<00:00, 75.1MB/s]\n",
            "100% 109M/109M [00:01<00:00, 89.1MB/s] \n",
            "Downloading HomeCredit_columns_description.csv to home-credit-default-risk\n",
            "  0% 0.00/36.5k [00:00<?, ?B/s]\n",
            "100% 36.5k/36.5k [00:00<00:00, 55.2MB/s]\n",
            "Downloading application_test.csv.zip to home-credit-default-risk\n",
            " 86% 5.00M/5.81M [00:00<00:00, 41.0MB/s]\n",
            "100% 5.81M/5.81M [00:00<00:00, 36.8MB/s]\n",
            "Downloading bureau_balance.csv.zip to home-credit-default-risk\n",
            " 86% 49.0M/56.8M [00:00<00:00, 61.8MB/s]\n",
            "100% 56.8M/56.8M [00:00<00:00, 83.2MB/s]\n",
            "Downloading application_train.csv.zip to home-credit-default-risk\n",
            " 91% 33.0M/36.1M [00:00<00:00, 72.4MB/s]\n",
            "100% 36.1M/36.1M [00:00<00:00, 81.0MB/s]\n",
            "Downloading installments_payments.csv.zip to home-credit-default-risk\n",
            " 96% 261M/271M [00:02<00:00, 120MB/s]\n",
            "100% 271M/271M [00:02<00:00, 126MB/s]\n",
            "Downloading credit_card_balance.csv.zip to home-credit-default-risk\n",
            " 99% 96.0M/96.7M [00:00<00:00, 119MB/s]\n",
            "100% 96.7M/96.7M [00:00<00:00, 132MB/s]\n"
          ]
        }
      ],
      "source": [
        "# download our dataset using the Kaggle api\n",
        "!kaggle competitions download home-credit-default-risk -p \"home-credit-default-risk\""
      ]
    },
    {
      "cell_type": "code",
      "execution_count": null,
      "metadata": {
        "id": "yCRlx797TpvH"
      },
      "outputs": [],
      "source": [
        "import os\n",
        "import zipfile\n",
        "import numpy as np\n",
        "import pandas as pd\n",
        "\n",
        "zip_ref = zipfile.ZipFile('home-credit-default-risk/application_train.csv.zip', 'r')\n",
        "zip_ref.extractall('datasets')\n",
        "zip_ref.close()\n",
        "zip_ref = zipfile.ZipFile('home-credit-default-risk/application_test.csv.zip', 'r')\n",
        "zip_ref.extractall('datasets')\n",
        "zip_ref.close()\n",
        "zip_ref = zipfile.ZipFile('home-credit-default-risk/bureau_balance.csv.zip', 'r')\n",
        "zip_ref.extractall('datasets')\n",
        "zip_ref.close()\n",
        "zip_ref = zipfile.ZipFile('home-credit-default-risk/bureau.csv.zip', 'r')\n",
        "zip_ref.extractall('datasets')\n",
        "zip_ref.close()\n",
        "zip_ref = zipfile.ZipFile('home-credit-default-risk/credit_card_balance.csv.zip', 'r')\n",
        "zip_ref.extractall('datasets')\n",
        "zip_ref.close()\n",
        "zip_ref = zipfile.ZipFile('home-credit-default-risk/installments_payments.csv.zip', 'r')\n",
        "zip_ref.extractall('datasets')\n",
        "zip_ref.close()\n",
        "zip_ref = zipfile.ZipFile('home-credit-default-risk/POS_CASH_balance.csv.zip', 'r')\n",
        "zip_ref.extractall('datasets')\n",
        "zip_ref.close()\n",
        "zip_ref = zipfile.ZipFile('home-credit-default-risk/previous_application.csv.zip', 'r')\n",
        "zip_ref.extractall('datasets')\n",
        "zip_ref.close()"
      ]
    },
    {
      "cell_type": "markdown",
      "metadata": {
        "id": "EL5mnemGTvw6"
      },
      "source": [
        "# Load Datasets From Files"
      ]
    },
    {
      "cell_type": "code",
      "execution_count": null,
      "metadata": {
        "colab": {
          "base_uri": "https://localhost:8080/",
          "height": 1000
        },
        "id": "qvdj65ysTq5P",
        "outputId": "0b1e8bee-f63d-4750-b2fa-b3f2b0548e35"
      },
      "outputs": [
        {
          "output_type": "stream",
          "name": "stdout",
          "text": [
            "application_train: shape is (307511, 122)\n",
            "<class 'pandas.core.frame.DataFrame'>\n",
            "RangeIndex: 307511 entries, 0 to 307510\n",
            "Columns: 122 entries, SK_ID_CURR to AMT_REQ_CREDIT_BUREAU_YEAR\n",
            "dtypes: float64(65), int64(41), object(16)\n",
            "memory usage: 286.2+ MB\n",
            "None\n"
          ]
        },
        {
          "output_type": "display_data",
          "data": {
            "text/html": [
              "<div>\n",
              "<style scoped>\n",
              "    .dataframe tbody tr th:only-of-type {\n",
              "        vertical-align: middle;\n",
              "    }\n",
              "\n",
              "    .dataframe tbody tr th {\n",
              "        vertical-align: top;\n",
              "    }\n",
              "\n",
              "    .dataframe thead th {\n",
              "        text-align: right;\n",
              "    }\n",
              "</style>\n",
              "<table border=\"1\" class=\"dataframe\">\n",
              "  <thead>\n",
              "    <tr style=\"text-align: right;\">\n",
              "      <th></th>\n",
              "      <th>SK_ID_CURR</th>\n",
              "      <th>TARGET</th>\n",
              "      <th>NAME_CONTRACT_TYPE</th>\n",
              "      <th>CODE_GENDER</th>\n",
              "      <th>FLAG_OWN_CAR</th>\n",
              "      <th>FLAG_OWN_REALTY</th>\n",
              "      <th>CNT_CHILDREN</th>\n",
              "      <th>AMT_INCOME_TOTAL</th>\n",
              "      <th>AMT_CREDIT</th>\n",
              "      <th>AMT_ANNUITY</th>\n",
              "      <th>AMT_GOODS_PRICE</th>\n",
              "      <th>NAME_TYPE_SUITE</th>\n",
              "      <th>NAME_INCOME_TYPE</th>\n",
              "      <th>NAME_EDUCATION_TYPE</th>\n",
              "      <th>NAME_FAMILY_STATUS</th>\n",
              "      <th>NAME_HOUSING_TYPE</th>\n",
              "      <th>REGION_POPULATION_RELATIVE</th>\n",
              "      <th>DAYS_BIRTH</th>\n",
              "      <th>DAYS_EMPLOYED</th>\n",
              "      <th>DAYS_REGISTRATION</th>\n",
              "      <th>DAYS_ID_PUBLISH</th>\n",
              "      <th>OWN_CAR_AGE</th>\n",
              "      <th>FLAG_MOBIL</th>\n",
              "      <th>FLAG_EMP_PHONE</th>\n",
              "      <th>FLAG_WORK_PHONE</th>\n",
              "      <th>FLAG_CONT_MOBILE</th>\n",
              "      <th>FLAG_PHONE</th>\n",
              "      <th>FLAG_EMAIL</th>\n",
              "      <th>OCCUPATION_TYPE</th>\n",
              "      <th>CNT_FAM_MEMBERS</th>\n",
              "      <th>REGION_RATING_CLIENT</th>\n",
              "      <th>REGION_RATING_CLIENT_W_CITY</th>\n",
              "      <th>WEEKDAY_APPR_PROCESS_START</th>\n",
              "      <th>HOUR_APPR_PROCESS_START</th>\n",
              "      <th>REG_REGION_NOT_LIVE_REGION</th>\n",
              "      <th>REG_REGION_NOT_WORK_REGION</th>\n",
              "      <th>LIVE_REGION_NOT_WORK_REGION</th>\n",
              "      <th>REG_CITY_NOT_LIVE_CITY</th>\n",
              "      <th>REG_CITY_NOT_WORK_CITY</th>\n",
              "      <th>LIVE_CITY_NOT_WORK_CITY</th>\n",
              "      <th>...</th>\n",
              "      <th>LIVINGAPARTMENTS_MEDI</th>\n",
              "      <th>LIVINGAREA_MEDI</th>\n",
              "      <th>NONLIVINGAPARTMENTS_MEDI</th>\n",
              "      <th>NONLIVINGAREA_MEDI</th>\n",
              "      <th>FONDKAPREMONT_MODE</th>\n",
              "      <th>HOUSETYPE_MODE</th>\n",
              "      <th>TOTALAREA_MODE</th>\n",
              "      <th>WALLSMATERIAL_MODE</th>\n",
              "      <th>EMERGENCYSTATE_MODE</th>\n",
              "      <th>OBS_30_CNT_SOCIAL_CIRCLE</th>\n",
              "      <th>DEF_30_CNT_SOCIAL_CIRCLE</th>\n",
              "      <th>OBS_60_CNT_SOCIAL_CIRCLE</th>\n",
              "      <th>DEF_60_CNT_SOCIAL_CIRCLE</th>\n",
              "      <th>DAYS_LAST_PHONE_CHANGE</th>\n",
              "      <th>FLAG_DOCUMENT_2</th>\n",
              "      <th>FLAG_DOCUMENT_3</th>\n",
              "      <th>FLAG_DOCUMENT_4</th>\n",
              "      <th>FLAG_DOCUMENT_5</th>\n",
              "      <th>FLAG_DOCUMENT_6</th>\n",
              "      <th>FLAG_DOCUMENT_7</th>\n",
              "      <th>FLAG_DOCUMENT_8</th>\n",
              "      <th>FLAG_DOCUMENT_9</th>\n",
              "      <th>FLAG_DOCUMENT_10</th>\n",
              "      <th>FLAG_DOCUMENT_11</th>\n",
              "      <th>FLAG_DOCUMENT_12</th>\n",
              "      <th>FLAG_DOCUMENT_13</th>\n",
              "      <th>FLAG_DOCUMENT_14</th>\n",
              "      <th>FLAG_DOCUMENT_15</th>\n",
              "      <th>FLAG_DOCUMENT_16</th>\n",
              "      <th>FLAG_DOCUMENT_17</th>\n",
              "      <th>FLAG_DOCUMENT_18</th>\n",
              "      <th>FLAG_DOCUMENT_19</th>\n",
              "      <th>FLAG_DOCUMENT_20</th>\n",
              "      <th>FLAG_DOCUMENT_21</th>\n",
              "      <th>AMT_REQ_CREDIT_BUREAU_HOUR</th>\n",
              "      <th>AMT_REQ_CREDIT_BUREAU_DAY</th>\n",
              "      <th>AMT_REQ_CREDIT_BUREAU_WEEK</th>\n",
              "      <th>AMT_REQ_CREDIT_BUREAU_MON</th>\n",
              "      <th>AMT_REQ_CREDIT_BUREAU_QRT</th>\n",
              "      <th>AMT_REQ_CREDIT_BUREAU_YEAR</th>\n",
              "    </tr>\n",
              "  </thead>\n",
              "  <tbody>\n",
              "    <tr>\n",
              "      <th>0</th>\n",
              "      <td>100002</td>\n",
              "      <td>1</td>\n",
              "      <td>Cash loans</td>\n",
              "      <td>M</td>\n",
              "      <td>N</td>\n",
              "      <td>Y</td>\n",
              "      <td>0</td>\n",
              "      <td>202500.0</td>\n",
              "      <td>406597.5</td>\n",
              "      <td>24700.5</td>\n",
              "      <td>351000.0</td>\n",
              "      <td>Unaccompanied</td>\n",
              "      <td>Working</td>\n",
              "      <td>Secondary / secondary special</td>\n",
              "      <td>Single / not married</td>\n",
              "      <td>House / apartment</td>\n",
              "      <td>0.018801</td>\n",
              "      <td>-9461</td>\n",
              "      <td>-637</td>\n",
              "      <td>-3648.0</td>\n",
              "      <td>-2120</td>\n",
              "      <td>NaN</td>\n",
              "      <td>1</td>\n",
              "      <td>1</td>\n",
              "      <td>0</td>\n",
              "      <td>1</td>\n",
              "      <td>1</td>\n",
              "      <td>0</td>\n",
              "      <td>Laborers</td>\n",
              "      <td>1.0</td>\n",
              "      <td>2</td>\n",
              "      <td>2</td>\n",
              "      <td>WEDNESDAY</td>\n",
              "      <td>10</td>\n",
              "      <td>0</td>\n",
              "      <td>0</td>\n",
              "      <td>0</td>\n",
              "      <td>0</td>\n",
              "      <td>0</td>\n",
              "      <td>0</td>\n",
              "      <td>...</td>\n",
              "      <td>0.0205</td>\n",
              "      <td>0.0193</td>\n",
              "      <td>0.0000</td>\n",
              "      <td>0.00</td>\n",
              "      <td>reg oper account</td>\n",
              "      <td>block of flats</td>\n",
              "      <td>0.0149</td>\n",
              "      <td>Stone, brick</td>\n",
              "      <td>No</td>\n",
              "      <td>2.0</td>\n",
              "      <td>2.0</td>\n",
              "      <td>2.0</td>\n",
              "      <td>2.0</td>\n",
              "      <td>-1134.0</td>\n",
              "      <td>0</td>\n",
              "      <td>1</td>\n",
              "      <td>0</td>\n",
              "      <td>0</td>\n",
              "      <td>0</td>\n",
              "      <td>0</td>\n",
              "      <td>0</td>\n",
              "      <td>0</td>\n",
              "      <td>0</td>\n",
              "      <td>0</td>\n",
              "      <td>0</td>\n",
              "      <td>0</td>\n",
              "      <td>0</td>\n",
              "      <td>0</td>\n",
              "      <td>0</td>\n",
              "      <td>0</td>\n",
              "      <td>0</td>\n",
              "      <td>0</td>\n",
              "      <td>0</td>\n",
              "      <td>0</td>\n",
              "      <td>0.0</td>\n",
              "      <td>0.0</td>\n",
              "      <td>0.0</td>\n",
              "      <td>0.0</td>\n",
              "      <td>0.0</td>\n",
              "      <td>1.0</td>\n",
              "    </tr>\n",
              "    <tr>\n",
              "      <th>1</th>\n",
              "      <td>100003</td>\n",
              "      <td>0</td>\n",
              "      <td>Cash loans</td>\n",
              "      <td>F</td>\n",
              "      <td>N</td>\n",
              "      <td>N</td>\n",
              "      <td>0</td>\n",
              "      <td>270000.0</td>\n",
              "      <td>1293502.5</td>\n",
              "      <td>35698.5</td>\n",
              "      <td>1129500.0</td>\n",
              "      <td>Family</td>\n",
              "      <td>State servant</td>\n",
              "      <td>Higher education</td>\n",
              "      <td>Married</td>\n",
              "      <td>House / apartment</td>\n",
              "      <td>0.003541</td>\n",
              "      <td>-16765</td>\n",
              "      <td>-1188</td>\n",
              "      <td>-1186.0</td>\n",
              "      <td>-291</td>\n",
              "      <td>NaN</td>\n",
              "      <td>1</td>\n",
              "      <td>1</td>\n",
              "      <td>0</td>\n",
              "      <td>1</td>\n",
              "      <td>1</td>\n",
              "      <td>0</td>\n",
              "      <td>Core staff</td>\n",
              "      <td>2.0</td>\n",
              "      <td>1</td>\n",
              "      <td>1</td>\n",
              "      <td>MONDAY</td>\n",
              "      <td>11</td>\n",
              "      <td>0</td>\n",
              "      <td>0</td>\n",
              "      <td>0</td>\n",
              "      <td>0</td>\n",
              "      <td>0</td>\n",
              "      <td>0</td>\n",
              "      <td>...</td>\n",
              "      <td>0.0787</td>\n",
              "      <td>0.0558</td>\n",
              "      <td>0.0039</td>\n",
              "      <td>0.01</td>\n",
              "      <td>reg oper account</td>\n",
              "      <td>block of flats</td>\n",
              "      <td>0.0714</td>\n",
              "      <td>Block</td>\n",
              "      <td>No</td>\n",
              "      <td>1.0</td>\n",
              "      <td>0.0</td>\n",
              "      <td>1.0</td>\n",
              "      <td>0.0</td>\n",
              "      <td>-828.0</td>\n",
              "      <td>0</td>\n",
              "      <td>1</td>\n",
              "      <td>0</td>\n",
              "      <td>0</td>\n",
              "      <td>0</td>\n",
              "      <td>0</td>\n",
              "      <td>0</td>\n",
              "      <td>0</td>\n",
              "      <td>0</td>\n",
              "      <td>0</td>\n",
              "      <td>0</td>\n",
              "      <td>0</td>\n",
              "      <td>0</td>\n",
              "      <td>0</td>\n",
              "      <td>0</td>\n",
              "      <td>0</td>\n",
              "      <td>0</td>\n",
              "      <td>0</td>\n",
              "      <td>0</td>\n",
              "      <td>0</td>\n",
              "      <td>0.0</td>\n",
              "      <td>0.0</td>\n",
              "      <td>0.0</td>\n",
              "      <td>0.0</td>\n",
              "      <td>0.0</td>\n",
              "      <td>0.0</td>\n",
              "    </tr>\n",
              "    <tr>\n",
              "      <th>2</th>\n",
              "      <td>100004</td>\n",
              "      <td>0</td>\n",
              "      <td>Revolving loans</td>\n",
              "      <td>M</td>\n",
              "      <td>Y</td>\n",
              "      <td>Y</td>\n",
              "      <td>0</td>\n",
              "      <td>67500.0</td>\n",
              "      <td>135000.0</td>\n",
              "      <td>6750.0</td>\n",
              "      <td>135000.0</td>\n",
              "      <td>Unaccompanied</td>\n",
              "      <td>Working</td>\n",
              "      <td>Secondary / secondary special</td>\n",
              "      <td>Single / not married</td>\n",
              "      <td>House / apartment</td>\n",
              "      <td>0.010032</td>\n",
              "      <td>-19046</td>\n",
              "      <td>-225</td>\n",
              "      <td>-4260.0</td>\n",
              "      <td>-2531</td>\n",
              "      <td>26.0</td>\n",
              "      <td>1</td>\n",
              "      <td>1</td>\n",
              "      <td>1</td>\n",
              "      <td>1</td>\n",
              "      <td>1</td>\n",
              "      <td>0</td>\n",
              "      <td>Laborers</td>\n",
              "      <td>1.0</td>\n",
              "      <td>2</td>\n",
              "      <td>2</td>\n",
              "      <td>MONDAY</td>\n",
              "      <td>9</td>\n",
              "      <td>0</td>\n",
              "      <td>0</td>\n",
              "      <td>0</td>\n",
              "      <td>0</td>\n",
              "      <td>0</td>\n",
              "      <td>0</td>\n",
              "      <td>...</td>\n",
              "      <td>NaN</td>\n",
              "      <td>NaN</td>\n",
              "      <td>NaN</td>\n",
              "      <td>NaN</td>\n",
              "      <td>NaN</td>\n",
              "      <td>NaN</td>\n",
              "      <td>NaN</td>\n",
              "      <td>NaN</td>\n",
              "      <td>NaN</td>\n",
              "      <td>0.0</td>\n",
              "      <td>0.0</td>\n",
              "      <td>0.0</td>\n",
              "      <td>0.0</td>\n",
              "      <td>-815.0</td>\n",
              "      <td>0</td>\n",
              "      <td>0</td>\n",
              "      <td>0</td>\n",
              "      <td>0</td>\n",
              "      <td>0</td>\n",
              "      <td>0</td>\n",
              "      <td>0</td>\n",
              "      <td>0</td>\n",
              "      <td>0</td>\n",
              "      <td>0</td>\n",
              "      <td>0</td>\n",
              "      <td>0</td>\n",
              "      <td>0</td>\n",
              "      <td>0</td>\n",
              "      <td>0</td>\n",
              "      <td>0</td>\n",
              "      <td>0</td>\n",
              "      <td>0</td>\n",
              "      <td>0</td>\n",
              "      <td>0</td>\n",
              "      <td>0.0</td>\n",
              "      <td>0.0</td>\n",
              "      <td>0.0</td>\n",
              "      <td>0.0</td>\n",
              "      <td>0.0</td>\n",
              "      <td>0.0</td>\n",
              "    </tr>\n",
              "  </tbody>\n",
              "</table>\n",
              "<p>3 rows × 122 columns</p>\n",
              "</div>"
            ],
            "text/plain": [
              "   SK_ID_CURR  TARGET  ... AMT_REQ_CREDIT_BUREAU_QRT AMT_REQ_CREDIT_BUREAU_YEAR\n",
              "0      100002       1  ...                       0.0                        1.0\n",
              "1      100003       0  ...                       0.0                        0.0\n",
              "2      100004       0  ...                       0.0                        0.0\n",
              "\n",
              "[3 rows x 122 columns]"
            ]
          },
          "metadata": {}
        },
        {
          "output_type": "stream",
          "name": "stdout",
          "text": [
            "application_test: shape is (48744, 121)\n",
            "<class 'pandas.core.frame.DataFrame'>\n",
            "RangeIndex: 48744 entries, 0 to 48743\n",
            "Columns: 121 entries, SK_ID_CURR to AMT_REQ_CREDIT_BUREAU_YEAR\n",
            "dtypes: float64(65), int64(40), object(16)\n",
            "memory usage: 45.0+ MB\n",
            "None\n"
          ]
        },
        {
          "output_type": "display_data",
          "data": {
            "text/html": [
              "<div>\n",
              "<style scoped>\n",
              "    .dataframe tbody tr th:only-of-type {\n",
              "        vertical-align: middle;\n",
              "    }\n",
              "\n",
              "    .dataframe tbody tr th {\n",
              "        vertical-align: top;\n",
              "    }\n",
              "\n",
              "    .dataframe thead th {\n",
              "        text-align: right;\n",
              "    }\n",
              "</style>\n",
              "<table border=\"1\" class=\"dataframe\">\n",
              "  <thead>\n",
              "    <tr style=\"text-align: right;\">\n",
              "      <th></th>\n",
              "      <th>SK_ID_CURR</th>\n",
              "      <th>NAME_CONTRACT_TYPE</th>\n",
              "      <th>CODE_GENDER</th>\n",
              "      <th>FLAG_OWN_CAR</th>\n",
              "      <th>FLAG_OWN_REALTY</th>\n",
              "      <th>CNT_CHILDREN</th>\n",
              "      <th>AMT_INCOME_TOTAL</th>\n",
              "      <th>AMT_CREDIT</th>\n",
              "      <th>AMT_ANNUITY</th>\n",
              "      <th>AMT_GOODS_PRICE</th>\n",
              "      <th>NAME_TYPE_SUITE</th>\n",
              "      <th>NAME_INCOME_TYPE</th>\n",
              "      <th>NAME_EDUCATION_TYPE</th>\n",
              "      <th>NAME_FAMILY_STATUS</th>\n",
              "      <th>NAME_HOUSING_TYPE</th>\n",
              "      <th>REGION_POPULATION_RELATIVE</th>\n",
              "      <th>DAYS_BIRTH</th>\n",
              "      <th>DAYS_EMPLOYED</th>\n",
              "      <th>DAYS_REGISTRATION</th>\n",
              "      <th>DAYS_ID_PUBLISH</th>\n",
              "      <th>OWN_CAR_AGE</th>\n",
              "      <th>FLAG_MOBIL</th>\n",
              "      <th>FLAG_EMP_PHONE</th>\n",
              "      <th>FLAG_WORK_PHONE</th>\n",
              "      <th>FLAG_CONT_MOBILE</th>\n",
              "      <th>FLAG_PHONE</th>\n",
              "      <th>FLAG_EMAIL</th>\n",
              "      <th>OCCUPATION_TYPE</th>\n",
              "      <th>CNT_FAM_MEMBERS</th>\n",
              "      <th>REGION_RATING_CLIENT</th>\n",
              "      <th>REGION_RATING_CLIENT_W_CITY</th>\n",
              "      <th>WEEKDAY_APPR_PROCESS_START</th>\n",
              "      <th>HOUR_APPR_PROCESS_START</th>\n",
              "      <th>REG_REGION_NOT_LIVE_REGION</th>\n",
              "      <th>REG_REGION_NOT_WORK_REGION</th>\n",
              "      <th>LIVE_REGION_NOT_WORK_REGION</th>\n",
              "      <th>REG_CITY_NOT_LIVE_CITY</th>\n",
              "      <th>REG_CITY_NOT_WORK_CITY</th>\n",
              "      <th>LIVE_CITY_NOT_WORK_CITY</th>\n",
              "      <th>ORGANIZATION_TYPE</th>\n",
              "      <th>...</th>\n",
              "      <th>LIVINGAPARTMENTS_MEDI</th>\n",
              "      <th>LIVINGAREA_MEDI</th>\n",
              "      <th>NONLIVINGAPARTMENTS_MEDI</th>\n",
              "      <th>NONLIVINGAREA_MEDI</th>\n",
              "      <th>FONDKAPREMONT_MODE</th>\n",
              "      <th>HOUSETYPE_MODE</th>\n",
              "      <th>TOTALAREA_MODE</th>\n",
              "      <th>WALLSMATERIAL_MODE</th>\n",
              "      <th>EMERGENCYSTATE_MODE</th>\n",
              "      <th>OBS_30_CNT_SOCIAL_CIRCLE</th>\n",
              "      <th>DEF_30_CNT_SOCIAL_CIRCLE</th>\n",
              "      <th>OBS_60_CNT_SOCIAL_CIRCLE</th>\n",
              "      <th>DEF_60_CNT_SOCIAL_CIRCLE</th>\n",
              "      <th>DAYS_LAST_PHONE_CHANGE</th>\n",
              "      <th>FLAG_DOCUMENT_2</th>\n",
              "      <th>FLAG_DOCUMENT_3</th>\n",
              "      <th>FLAG_DOCUMENT_4</th>\n",
              "      <th>FLAG_DOCUMENT_5</th>\n",
              "      <th>FLAG_DOCUMENT_6</th>\n",
              "      <th>FLAG_DOCUMENT_7</th>\n",
              "      <th>FLAG_DOCUMENT_8</th>\n",
              "      <th>FLAG_DOCUMENT_9</th>\n",
              "      <th>FLAG_DOCUMENT_10</th>\n",
              "      <th>FLAG_DOCUMENT_11</th>\n",
              "      <th>FLAG_DOCUMENT_12</th>\n",
              "      <th>FLAG_DOCUMENT_13</th>\n",
              "      <th>FLAG_DOCUMENT_14</th>\n",
              "      <th>FLAG_DOCUMENT_15</th>\n",
              "      <th>FLAG_DOCUMENT_16</th>\n",
              "      <th>FLAG_DOCUMENT_17</th>\n",
              "      <th>FLAG_DOCUMENT_18</th>\n",
              "      <th>FLAG_DOCUMENT_19</th>\n",
              "      <th>FLAG_DOCUMENT_20</th>\n",
              "      <th>FLAG_DOCUMENT_21</th>\n",
              "      <th>AMT_REQ_CREDIT_BUREAU_HOUR</th>\n",
              "      <th>AMT_REQ_CREDIT_BUREAU_DAY</th>\n",
              "      <th>AMT_REQ_CREDIT_BUREAU_WEEK</th>\n",
              "      <th>AMT_REQ_CREDIT_BUREAU_MON</th>\n",
              "      <th>AMT_REQ_CREDIT_BUREAU_QRT</th>\n",
              "      <th>AMT_REQ_CREDIT_BUREAU_YEAR</th>\n",
              "    </tr>\n",
              "  </thead>\n",
              "  <tbody>\n",
              "    <tr>\n",
              "      <th>0</th>\n",
              "      <td>100001</td>\n",
              "      <td>Cash loans</td>\n",
              "      <td>F</td>\n",
              "      <td>N</td>\n",
              "      <td>Y</td>\n",
              "      <td>0</td>\n",
              "      <td>135000.0</td>\n",
              "      <td>568800.0</td>\n",
              "      <td>20560.5</td>\n",
              "      <td>450000.0</td>\n",
              "      <td>Unaccompanied</td>\n",
              "      <td>Working</td>\n",
              "      <td>Higher education</td>\n",
              "      <td>Married</td>\n",
              "      <td>House / apartment</td>\n",
              "      <td>0.018850</td>\n",
              "      <td>-19241</td>\n",
              "      <td>-2329</td>\n",
              "      <td>-5170.0</td>\n",
              "      <td>-812</td>\n",
              "      <td>NaN</td>\n",
              "      <td>1</td>\n",
              "      <td>1</td>\n",
              "      <td>0</td>\n",
              "      <td>1</td>\n",
              "      <td>0</td>\n",
              "      <td>1</td>\n",
              "      <td>NaN</td>\n",
              "      <td>2.0</td>\n",
              "      <td>2</td>\n",
              "      <td>2</td>\n",
              "      <td>TUESDAY</td>\n",
              "      <td>18</td>\n",
              "      <td>0</td>\n",
              "      <td>0</td>\n",
              "      <td>0</td>\n",
              "      <td>0</td>\n",
              "      <td>0</td>\n",
              "      <td>0</td>\n",
              "      <td>Kindergarten</td>\n",
              "      <td>...</td>\n",
              "      <td>NaN</td>\n",
              "      <td>0.0514</td>\n",
              "      <td>NaN</td>\n",
              "      <td>NaN</td>\n",
              "      <td>NaN</td>\n",
              "      <td>block of flats</td>\n",
              "      <td>0.0392</td>\n",
              "      <td>Stone, brick</td>\n",
              "      <td>No</td>\n",
              "      <td>0.0</td>\n",
              "      <td>0.0</td>\n",
              "      <td>0.0</td>\n",
              "      <td>0.0</td>\n",
              "      <td>-1740.0</td>\n",
              "      <td>0</td>\n",
              "      <td>1</td>\n",
              "      <td>0</td>\n",
              "      <td>0</td>\n",
              "      <td>0</td>\n",
              "      <td>0</td>\n",
              "      <td>0</td>\n",
              "      <td>0</td>\n",
              "      <td>0</td>\n",
              "      <td>0</td>\n",
              "      <td>0</td>\n",
              "      <td>0</td>\n",
              "      <td>0</td>\n",
              "      <td>0</td>\n",
              "      <td>0</td>\n",
              "      <td>0</td>\n",
              "      <td>0</td>\n",
              "      <td>0</td>\n",
              "      <td>0</td>\n",
              "      <td>0</td>\n",
              "      <td>0.0</td>\n",
              "      <td>0.0</td>\n",
              "      <td>0.0</td>\n",
              "      <td>0.0</td>\n",
              "      <td>0.0</td>\n",
              "      <td>0.0</td>\n",
              "    </tr>\n",
              "    <tr>\n",
              "      <th>1</th>\n",
              "      <td>100005</td>\n",
              "      <td>Cash loans</td>\n",
              "      <td>M</td>\n",
              "      <td>N</td>\n",
              "      <td>Y</td>\n",
              "      <td>0</td>\n",
              "      <td>99000.0</td>\n",
              "      <td>222768.0</td>\n",
              "      <td>17370.0</td>\n",
              "      <td>180000.0</td>\n",
              "      <td>Unaccompanied</td>\n",
              "      <td>Working</td>\n",
              "      <td>Secondary / secondary special</td>\n",
              "      <td>Married</td>\n",
              "      <td>House / apartment</td>\n",
              "      <td>0.035792</td>\n",
              "      <td>-18064</td>\n",
              "      <td>-4469</td>\n",
              "      <td>-9118.0</td>\n",
              "      <td>-1623</td>\n",
              "      <td>NaN</td>\n",
              "      <td>1</td>\n",
              "      <td>1</td>\n",
              "      <td>0</td>\n",
              "      <td>1</td>\n",
              "      <td>0</td>\n",
              "      <td>0</td>\n",
              "      <td>Low-skill Laborers</td>\n",
              "      <td>2.0</td>\n",
              "      <td>2</td>\n",
              "      <td>2</td>\n",
              "      <td>FRIDAY</td>\n",
              "      <td>9</td>\n",
              "      <td>0</td>\n",
              "      <td>0</td>\n",
              "      <td>0</td>\n",
              "      <td>0</td>\n",
              "      <td>0</td>\n",
              "      <td>0</td>\n",
              "      <td>Self-employed</td>\n",
              "      <td>...</td>\n",
              "      <td>NaN</td>\n",
              "      <td>NaN</td>\n",
              "      <td>NaN</td>\n",
              "      <td>NaN</td>\n",
              "      <td>NaN</td>\n",
              "      <td>NaN</td>\n",
              "      <td>NaN</td>\n",
              "      <td>NaN</td>\n",
              "      <td>NaN</td>\n",
              "      <td>0.0</td>\n",
              "      <td>0.0</td>\n",
              "      <td>0.0</td>\n",
              "      <td>0.0</td>\n",
              "      <td>0.0</td>\n",
              "      <td>0</td>\n",
              "      <td>1</td>\n",
              "      <td>0</td>\n",
              "      <td>0</td>\n",
              "      <td>0</td>\n",
              "      <td>0</td>\n",
              "      <td>0</td>\n",
              "      <td>0</td>\n",
              "      <td>0</td>\n",
              "      <td>0</td>\n",
              "      <td>0</td>\n",
              "      <td>0</td>\n",
              "      <td>0</td>\n",
              "      <td>0</td>\n",
              "      <td>0</td>\n",
              "      <td>0</td>\n",
              "      <td>0</td>\n",
              "      <td>0</td>\n",
              "      <td>0</td>\n",
              "      <td>0</td>\n",
              "      <td>0.0</td>\n",
              "      <td>0.0</td>\n",
              "      <td>0.0</td>\n",
              "      <td>0.0</td>\n",
              "      <td>0.0</td>\n",
              "      <td>3.0</td>\n",
              "    </tr>\n",
              "    <tr>\n",
              "      <th>2</th>\n",
              "      <td>100013</td>\n",
              "      <td>Cash loans</td>\n",
              "      <td>M</td>\n",
              "      <td>Y</td>\n",
              "      <td>Y</td>\n",
              "      <td>0</td>\n",
              "      <td>202500.0</td>\n",
              "      <td>663264.0</td>\n",
              "      <td>69777.0</td>\n",
              "      <td>630000.0</td>\n",
              "      <td>NaN</td>\n",
              "      <td>Working</td>\n",
              "      <td>Higher education</td>\n",
              "      <td>Married</td>\n",
              "      <td>House / apartment</td>\n",
              "      <td>0.019101</td>\n",
              "      <td>-20038</td>\n",
              "      <td>-4458</td>\n",
              "      <td>-2175.0</td>\n",
              "      <td>-3503</td>\n",
              "      <td>5.0</td>\n",
              "      <td>1</td>\n",
              "      <td>1</td>\n",
              "      <td>0</td>\n",
              "      <td>1</td>\n",
              "      <td>0</td>\n",
              "      <td>0</td>\n",
              "      <td>Drivers</td>\n",
              "      <td>2.0</td>\n",
              "      <td>2</td>\n",
              "      <td>2</td>\n",
              "      <td>MONDAY</td>\n",
              "      <td>14</td>\n",
              "      <td>0</td>\n",
              "      <td>0</td>\n",
              "      <td>0</td>\n",
              "      <td>0</td>\n",
              "      <td>0</td>\n",
              "      <td>0</td>\n",
              "      <td>Transport: type 3</td>\n",
              "      <td>...</td>\n",
              "      <td>NaN</td>\n",
              "      <td>NaN</td>\n",
              "      <td>NaN</td>\n",
              "      <td>NaN</td>\n",
              "      <td>NaN</td>\n",
              "      <td>NaN</td>\n",
              "      <td>NaN</td>\n",
              "      <td>NaN</td>\n",
              "      <td>NaN</td>\n",
              "      <td>0.0</td>\n",
              "      <td>0.0</td>\n",
              "      <td>0.0</td>\n",
              "      <td>0.0</td>\n",
              "      <td>-856.0</td>\n",
              "      <td>0</td>\n",
              "      <td>0</td>\n",
              "      <td>0</td>\n",
              "      <td>0</td>\n",
              "      <td>0</td>\n",
              "      <td>0</td>\n",
              "      <td>1</td>\n",
              "      <td>0</td>\n",
              "      <td>0</td>\n",
              "      <td>0</td>\n",
              "      <td>0</td>\n",
              "      <td>0</td>\n",
              "      <td>0</td>\n",
              "      <td>0</td>\n",
              "      <td>0</td>\n",
              "      <td>0</td>\n",
              "      <td>0</td>\n",
              "      <td>0</td>\n",
              "      <td>0</td>\n",
              "      <td>0</td>\n",
              "      <td>0.0</td>\n",
              "      <td>0.0</td>\n",
              "      <td>0.0</td>\n",
              "      <td>0.0</td>\n",
              "      <td>1.0</td>\n",
              "      <td>4.0</td>\n",
              "    </tr>\n",
              "  </tbody>\n",
              "</table>\n",
              "<p>3 rows × 121 columns</p>\n",
              "</div>"
            ],
            "text/plain": [
              "   SK_ID_CURR  ... AMT_REQ_CREDIT_BUREAU_YEAR\n",
              "0      100001  ...                        0.0\n",
              "1      100005  ...                        3.0\n",
              "2      100013  ...                        4.0\n",
              "\n",
              "[3 rows x 121 columns]"
            ]
          },
          "metadata": {}
        },
        {
          "output_type": "stream",
          "name": "stdout",
          "text": [
            "bureau: shape is (1716428, 17)\n",
            "<class 'pandas.core.frame.DataFrame'>\n",
            "RangeIndex: 1716428 entries, 0 to 1716427\n",
            "Data columns (total 17 columns):\n",
            " #   Column                  Dtype  \n",
            "---  ------                  -----  \n",
            " 0   SK_ID_CURR              int64  \n",
            " 1   SK_ID_BUREAU            int64  \n",
            " 2   CREDIT_ACTIVE           object \n",
            " 3   CREDIT_CURRENCY         object \n",
            " 4   DAYS_CREDIT             int64  \n",
            " 5   CREDIT_DAY_OVERDUE      int64  \n",
            " 6   DAYS_CREDIT_ENDDATE     float64\n",
            " 7   DAYS_ENDDATE_FACT       float64\n",
            " 8   AMT_CREDIT_MAX_OVERDUE  float64\n",
            " 9   CNT_CREDIT_PROLONG      int64  \n",
            " 10  AMT_CREDIT_SUM          float64\n",
            " 11  AMT_CREDIT_SUM_DEBT     float64\n",
            " 12  AMT_CREDIT_SUM_LIMIT    float64\n",
            " 13  AMT_CREDIT_SUM_OVERDUE  float64\n",
            " 14  CREDIT_TYPE             object \n",
            " 15  DAYS_CREDIT_UPDATE      int64  \n",
            " 16  AMT_ANNUITY             float64\n",
            "dtypes: float64(8), int64(6), object(3)\n",
            "memory usage: 222.6+ MB\n",
            "None\n"
          ]
        },
        {
          "output_type": "display_data",
          "data": {
            "text/html": [
              "<div>\n",
              "<style scoped>\n",
              "    .dataframe tbody tr th:only-of-type {\n",
              "        vertical-align: middle;\n",
              "    }\n",
              "\n",
              "    .dataframe tbody tr th {\n",
              "        vertical-align: top;\n",
              "    }\n",
              "\n",
              "    .dataframe thead th {\n",
              "        text-align: right;\n",
              "    }\n",
              "</style>\n",
              "<table border=\"1\" class=\"dataframe\">\n",
              "  <thead>\n",
              "    <tr style=\"text-align: right;\">\n",
              "      <th></th>\n",
              "      <th>SK_ID_CURR</th>\n",
              "      <th>SK_ID_BUREAU</th>\n",
              "      <th>CREDIT_ACTIVE</th>\n",
              "      <th>CREDIT_CURRENCY</th>\n",
              "      <th>DAYS_CREDIT</th>\n",
              "      <th>CREDIT_DAY_OVERDUE</th>\n",
              "      <th>DAYS_CREDIT_ENDDATE</th>\n",
              "      <th>DAYS_ENDDATE_FACT</th>\n",
              "      <th>AMT_CREDIT_MAX_OVERDUE</th>\n",
              "      <th>CNT_CREDIT_PROLONG</th>\n",
              "      <th>AMT_CREDIT_SUM</th>\n",
              "      <th>AMT_CREDIT_SUM_DEBT</th>\n",
              "      <th>AMT_CREDIT_SUM_LIMIT</th>\n",
              "      <th>AMT_CREDIT_SUM_OVERDUE</th>\n",
              "      <th>CREDIT_TYPE</th>\n",
              "      <th>DAYS_CREDIT_UPDATE</th>\n",
              "      <th>AMT_ANNUITY</th>\n",
              "    </tr>\n",
              "  </thead>\n",
              "  <tbody>\n",
              "    <tr>\n",
              "      <th>0</th>\n",
              "      <td>215354</td>\n",
              "      <td>5714462</td>\n",
              "      <td>Closed</td>\n",
              "      <td>currency 1</td>\n",
              "      <td>-497</td>\n",
              "      <td>0</td>\n",
              "      <td>-153.0</td>\n",
              "      <td>-153.0</td>\n",
              "      <td>NaN</td>\n",
              "      <td>0</td>\n",
              "      <td>91323.0</td>\n",
              "      <td>0.0</td>\n",
              "      <td>NaN</td>\n",
              "      <td>0.0</td>\n",
              "      <td>Consumer credit</td>\n",
              "      <td>-131</td>\n",
              "      <td>NaN</td>\n",
              "    </tr>\n",
              "    <tr>\n",
              "      <th>1</th>\n",
              "      <td>215354</td>\n",
              "      <td>5714463</td>\n",
              "      <td>Active</td>\n",
              "      <td>currency 1</td>\n",
              "      <td>-208</td>\n",
              "      <td>0</td>\n",
              "      <td>1075.0</td>\n",
              "      <td>NaN</td>\n",
              "      <td>NaN</td>\n",
              "      <td>0</td>\n",
              "      <td>225000.0</td>\n",
              "      <td>171342.0</td>\n",
              "      <td>NaN</td>\n",
              "      <td>0.0</td>\n",
              "      <td>Credit card</td>\n",
              "      <td>-20</td>\n",
              "      <td>NaN</td>\n",
              "    </tr>\n",
              "    <tr>\n",
              "      <th>2</th>\n",
              "      <td>215354</td>\n",
              "      <td>5714464</td>\n",
              "      <td>Active</td>\n",
              "      <td>currency 1</td>\n",
              "      <td>-203</td>\n",
              "      <td>0</td>\n",
              "      <td>528.0</td>\n",
              "      <td>NaN</td>\n",
              "      <td>NaN</td>\n",
              "      <td>0</td>\n",
              "      <td>464323.5</td>\n",
              "      <td>NaN</td>\n",
              "      <td>NaN</td>\n",
              "      <td>0.0</td>\n",
              "      <td>Consumer credit</td>\n",
              "      <td>-16</td>\n",
              "      <td>NaN</td>\n",
              "    </tr>\n",
              "  </tbody>\n",
              "</table>\n",
              "</div>"
            ],
            "text/plain": [
              "   SK_ID_CURR  SK_ID_BUREAU  ... DAYS_CREDIT_UPDATE AMT_ANNUITY\n",
              "0      215354       5714462  ...               -131         NaN\n",
              "1      215354       5714463  ...                -20         NaN\n",
              "2      215354       5714464  ...                -16         NaN\n",
              "\n",
              "[3 rows x 17 columns]"
            ]
          },
          "metadata": {}
        },
        {
          "output_type": "stream",
          "name": "stdout",
          "text": [
            "bureau_balance: shape is (27299925, 3)\n",
            "<class 'pandas.core.frame.DataFrame'>\n",
            "RangeIndex: 27299925 entries, 0 to 27299924\n",
            "Data columns (total 3 columns):\n",
            " #   Column          Dtype \n",
            "---  ------          ----- \n",
            " 0   SK_ID_BUREAU    int64 \n",
            " 1   MONTHS_BALANCE  int64 \n",
            " 2   STATUS          object\n",
            "dtypes: int64(2), object(1)\n",
            "memory usage: 624.8+ MB\n",
            "None\n"
          ]
        },
        {
          "output_type": "display_data",
          "data": {
            "text/html": [
              "<div>\n",
              "<style scoped>\n",
              "    .dataframe tbody tr th:only-of-type {\n",
              "        vertical-align: middle;\n",
              "    }\n",
              "\n",
              "    .dataframe tbody tr th {\n",
              "        vertical-align: top;\n",
              "    }\n",
              "\n",
              "    .dataframe thead th {\n",
              "        text-align: right;\n",
              "    }\n",
              "</style>\n",
              "<table border=\"1\" class=\"dataframe\">\n",
              "  <thead>\n",
              "    <tr style=\"text-align: right;\">\n",
              "      <th></th>\n",
              "      <th>SK_ID_BUREAU</th>\n",
              "      <th>MONTHS_BALANCE</th>\n",
              "      <th>STATUS</th>\n",
              "    </tr>\n",
              "  </thead>\n",
              "  <tbody>\n",
              "    <tr>\n",
              "      <th>0</th>\n",
              "      <td>5715448</td>\n",
              "      <td>0</td>\n",
              "      <td>C</td>\n",
              "    </tr>\n",
              "    <tr>\n",
              "      <th>1</th>\n",
              "      <td>5715448</td>\n",
              "      <td>-1</td>\n",
              "      <td>C</td>\n",
              "    </tr>\n",
              "    <tr>\n",
              "      <th>2</th>\n",
              "      <td>5715448</td>\n",
              "      <td>-2</td>\n",
              "      <td>C</td>\n",
              "    </tr>\n",
              "  </tbody>\n",
              "</table>\n",
              "</div>"
            ],
            "text/plain": [
              "   SK_ID_BUREAU  MONTHS_BALANCE STATUS\n",
              "0       5715448               0      C\n",
              "1       5715448              -1      C\n",
              "2       5715448              -2      C"
            ]
          },
          "metadata": {}
        },
        {
          "output_type": "stream",
          "name": "stdout",
          "text": [
            "credit_card_balance: shape is (3840312, 23)\n",
            "<class 'pandas.core.frame.DataFrame'>\n",
            "RangeIndex: 3840312 entries, 0 to 3840311\n",
            "Data columns (total 23 columns):\n",
            " #   Column                      Dtype  \n",
            "---  ------                      -----  \n",
            " 0   SK_ID_PREV                  int64  \n",
            " 1   SK_ID_CURR                  int64  \n",
            " 2   MONTHS_BALANCE              int64  \n",
            " 3   AMT_BALANCE                 float64\n",
            " 4   AMT_CREDIT_LIMIT_ACTUAL     int64  \n",
            " 5   AMT_DRAWINGS_ATM_CURRENT    float64\n",
            " 6   AMT_DRAWINGS_CURRENT        float64\n",
            " 7   AMT_DRAWINGS_OTHER_CURRENT  float64\n",
            " 8   AMT_DRAWINGS_POS_CURRENT    float64\n",
            " 9   AMT_INST_MIN_REGULARITY     float64\n",
            " 10  AMT_PAYMENT_CURRENT         float64\n",
            " 11  AMT_PAYMENT_TOTAL_CURRENT   float64\n",
            " 12  AMT_RECEIVABLE_PRINCIPAL    float64\n",
            " 13  AMT_RECIVABLE               float64\n",
            " 14  AMT_TOTAL_RECEIVABLE        float64\n",
            " 15  CNT_DRAWINGS_ATM_CURRENT    float64\n",
            " 16  CNT_DRAWINGS_CURRENT        int64  \n",
            " 17  CNT_DRAWINGS_OTHER_CURRENT  float64\n",
            " 18  CNT_DRAWINGS_POS_CURRENT    float64\n",
            " 19  CNT_INSTALMENT_MATURE_CUM   float64\n",
            " 20  NAME_CONTRACT_STATUS        object \n",
            " 21  SK_DPD                      int64  \n",
            " 22  SK_DPD_DEF                  int64  \n",
            "dtypes: float64(15), int64(7), object(1)\n",
            "memory usage: 673.9+ MB\n",
            "None\n"
          ]
        },
        {
          "output_type": "display_data",
          "data": {
            "text/html": [
              "<div>\n",
              "<style scoped>\n",
              "    .dataframe tbody tr th:only-of-type {\n",
              "        vertical-align: middle;\n",
              "    }\n",
              "\n",
              "    .dataframe tbody tr th {\n",
              "        vertical-align: top;\n",
              "    }\n",
              "\n",
              "    .dataframe thead th {\n",
              "        text-align: right;\n",
              "    }\n",
              "</style>\n",
              "<table border=\"1\" class=\"dataframe\">\n",
              "  <thead>\n",
              "    <tr style=\"text-align: right;\">\n",
              "      <th></th>\n",
              "      <th>SK_ID_PREV</th>\n",
              "      <th>SK_ID_CURR</th>\n",
              "      <th>MONTHS_BALANCE</th>\n",
              "      <th>AMT_BALANCE</th>\n",
              "      <th>AMT_CREDIT_LIMIT_ACTUAL</th>\n",
              "      <th>AMT_DRAWINGS_ATM_CURRENT</th>\n",
              "      <th>AMT_DRAWINGS_CURRENT</th>\n",
              "      <th>AMT_DRAWINGS_OTHER_CURRENT</th>\n",
              "      <th>AMT_DRAWINGS_POS_CURRENT</th>\n",
              "      <th>AMT_INST_MIN_REGULARITY</th>\n",
              "      <th>AMT_PAYMENT_CURRENT</th>\n",
              "      <th>AMT_PAYMENT_TOTAL_CURRENT</th>\n",
              "      <th>AMT_RECEIVABLE_PRINCIPAL</th>\n",
              "      <th>AMT_RECIVABLE</th>\n",
              "      <th>AMT_TOTAL_RECEIVABLE</th>\n",
              "      <th>CNT_DRAWINGS_ATM_CURRENT</th>\n",
              "      <th>CNT_DRAWINGS_CURRENT</th>\n",
              "      <th>CNT_DRAWINGS_OTHER_CURRENT</th>\n",
              "      <th>CNT_DRAWINGS_POS_CURRENT</th>\n",
              "      <th>CNT_INSTALMENT_MATURE_CUM</th>\n",
              "      <th>NAME_CONTRACT_STATUS</th>\n",
              "      <th>SK_DPD</th>\n",
              "      <th>SK_DPD_DEF</th>\n",
              "    </tr>\n",
              "  </thead>\n",
              "  <tbody>\n",
              "    <tr>\n",
              "      <th>0</th>\n",
              "      <td>2562384</td>\n",
              "      <td>378907</td>\n",
              "      <td>-6</td>\n",
              "      <td>56.970</td>\n",
              "      <td>135000</td>\n",
              "      <td>0.0</td>\n",
              "      <td>877.5</td>\n",
              "      <td>0.0</td>\n",
              "      <td>877.5</td>\n",
              "      <td>1700.325</td>\n",
              "      <td>1800.0</td>\n",
              "      <td>1800.0</td>\n",
              "      <td>0.000</td>\n",
              "      <td>0.000</td>\n",
              "      <td>0.000</td>\n",
              "      <td>0.0</td>\n",
              "      <td>1</td>\n",
              "      <td>0.0</td>\n",
              "      <td>1.0</td>\n",
              "      <td>35.0</td>\n",
              "      <td>Active</td>\n",
              "      <td>0</td>\n",
              "      <td>0</td>\n",
              "    </tr>\n",
              "    <tr>\n",
              "      <th>1</th>\n",
              "      <td>2582071</td>\n",
              "      <td>363914</td>\n",
              "      <td>-1</td>\n",
              "      <td>63975.555</td>\n",
              "      <td>45000</td>\n",
              "      <td>2250.0</td>\n",
              "      <td>2250.0</td>\n",
              "      <td>0.0</td>\n",
              "      <td>0.0</td>\n",
              "      <td>2250.000</td>\n",
              "      <td>2250.0</td>\n",
              "      <td>2250.0</td>\n",
              "      <td>60175.080</td>\n",
              "      <td>64875.555</td>\n",
              "      <td>64875.555</td>\n",
              "      <td>1.0</td>\n",
              "      <td>1</td>\n",
              "      <td>0.0</td>\n",
              "      <td>0.0</td>\n",
              "      <td>69.0</td>\n",
              "      <td>Active</td>\n",
              "      <td>0</td>\n",
              "      <td>0</td>\n",
              "    </tr>\n",
              "    <tr>\n",
              "      <th>2</th>\n",
              "      <td>1740877</td>\n",
              "      <td>371185</td>\n",
              "      <td>-7</td>\n",
              "      <td>31815.225</td>\n",
              "      <td>450000</td>\n",
              "      <td>0.0</td>\n",
              "      <td>0.0</td>\n",
              "      <td>0.0</td>\n",
              "      <td>0.0</td>\n",
              "      <td>2250.000</td>\n",
              "      <td>2250.0</td>\n",
              "      <td>2250.0</td>\n",
              "      <td>26926.425</td>\n",
              "      <td>31460.085</td>\n",
              "      <td>31460.085</td>\n",
              "      <td>0.0</td>\n",
              "      <td>0</td>\n",
              "      <td>0.0</td>\n",
              "      <td>0.0</td>\n",
              "      <td>30.0</td>\n",
              "      <td>Active</td>\n",
              "      <td>0</td>\n",
              "      <td>0</td>\n",
              "    </tr>\n",
              "  </tbody>\n",
              "</table>\n",
              "</div>"
            ],
            "text/plain": [
              "   SK_ID_PREV  SK_ID_CURR  ...  SK_DPD  SK_DPD_DEF\n",
              "0     2562384      378907  ...       0           0\n",
              "1     2582071      363914  ...       0           0\n",
              "2     1740877      371185  ...       0           0\n",
              "\n",
              "[3 rows x 23 columns]"
            ]
          },
          "metadata": {}
        },
        {
          "output_type": "stream",
          "name": "stdout",
          "text": [
            "installments_payments: shape is (13605401, 8)\n",
            "<class 'pandas.core.frame.DataFrame'>\n",
            "RangeIndex: 13605401 entries, 0 to 13605400\n",
            "Data columns (total 8 columns):\n",
            " #   Column                  Dtype  \n",
            "---  ------                  -----  \n",
            " 0   SK_ID_PREV              int64  \n",
            " 1   SK_ID_CURR              int64  \n",
            " 2   NUM_INSTALMENT_VERSION  float64\n",
            " 3   NUM_INSTALMENT_NUMBER   int64  \n",
            " 4   DAYS_INSTALMENT         float64\n",
            " 5   DAYS_ENTRY_PAYMENT      float64\n",
            " 6   AMT_INSTALMENT          float64\n",
            " 7   AMT_PAYMENT             float64\n",
            "dtypes: float64(5), int64(3)\n",
            "memory usage: 830.4 MB\n",
            "None\n"
          ]
        },
        {
          "output_type": "display_data",
          "data": {
            "text/html": [
              "<div>\n",
              "<style scoped>\n",
              "    .dataframe tbody tr th:only-of-type {\n",
              "        vertical-align: middle;\n",
              "    }\n",
              "\n",
              "    .dataframe tbody tr th {\n",
              "        vertical-align: top;\n",
              "    }\n",
              "\n",
              "    .dataframe thead th {\n",
              "        text-align: right;\n",
              "    }\n",
              "</style>\n",
              "<table border=\"1\" class=\"dataframe\">\n",
              "  <thead>\n",
              "    <tr style=\"text-align: right;\">\n",
              "      <th></th>\n",
              "      <th>SK_ID_PREV</th>\n",
              "      <th>SK_ID_CURR</th>\n",
              "      <th>NUM_INSTALMENT_VERSION</th>\n",
              "      <th>NUM_INSTALMENT_NUMBER</th>\n",
              "      <th>DAYS_INSTALMENT</th>\n",
              "      <th>DAYS_ENTRY_PAYMENT</th>\n",
              "      <th>AMT_INSTALMENT</th>\n",
              "      <th>AMT_PAYMENT</th>\n",
              "    </tr>\n",
              "  </thead>\n",
              "  <tbody>\n",
              "    <tr>\n",
              "      <th>0</th>\n",
              "      <td>1054186</td>\n",
              "      <td>161674</td>\n",
              "      <td>1.0</td>\n",
              "      <td>6</td>\n",
              "      <td>-1180.0</td>\n",
              "      <td>-1187.0</td>\n",
              "      <td>6948.360</td>\n",
              "      <td>6948.360</td>\n",
              "    </tr>\n",
              "    <tr>\n",
              "      <th>1</th>\n",
              "      <td>1330831</td>\n",
              "      <td>151639</td>\n",
              "      <td>0.0</td>\n",
              "      <td>34</td>\n",
              "      <td>-2156.0</td>\n",
              "      <td>-2156.0</td>\n",
              "      <td>1716.525</td>\n",
              "      <td>1716.525</td>\n",
              "    </tr>\n",
              "    <tr>\n",
              "      <th>2</th>\n",
              "      <td>2085231</td>\n",
              "      <td>193053</td>\n",
              "      <td>2.0</td>\n",
              "      <td>1</td>\n",
              "      <td>-63.0</td>\n",
              "      <td>-63.0</td>\n",
              "      <td>25425.000</td>\n",
              "      <td>25425.000</td>\n",
              "    </tr>\n",
              "  </tbody>\n",
              "</table>\n",
              "</div>"
            ],
            "text/plain": [
              "   SK_ID_PREV  SK_ID_CURR  ...  AMT_INSTALMENT  AMT_PAYMENT\n",
              "0     1054186      161674  ...        6948.360     6948.360\n",
              "1     1330831      151639  ...        1716.525     1716.525\n",
              "2     2085231      193053  ...       25425.000    25425.000\n",
              "\n",
              "[3 rows x 8 columns]"
            ]
          },
          "metadata": {}
        },
        {
          "output_type": "stream",
          "name": "stdout",
          "text": [
            "previous_application: shape is (1670214, 37)\n",
            "<class 'pandas.core.frame.DataFrame'>\n",
            "RangeIndex: 1670214 entries, 0 to 1670213\n",
            "Data columns (total 37 columns):\n",
            " #   Column                       Non-Null Count    Dtype  \n",
            "---  ------                       --------------    -----  \n",
            " 0   SK_ID_PREV                   1670214 non-null  int64  \n",
            " 1   SK_ID_CURR                   1670214 non-null  int64  \n",
            " 2   NAME_CONTRACT_TYPE           1670214 non-null  object \n",
            " 3   AMT_ANNUITY                  1297979 non-null  float64\n",
            " 4   AMT_APPLICATION              1670214 non-null  float64\n",
            " 5   AMT_CREDIT                   1670213 non-null  float64\n",
            " 6   AMT_DOWN_PAYMENT             774370 non-null   float64\n",
            " 7   AMT_GOODS_PRICE              1284699 non-null  float64\n",
            " 8   WEEKDAY_APPR_PROCESS_START   1670214 non-null  object \n",
            " 9   HOUR_APPR_PROCESS_START      1670214 non-null  int64  \n",
            " 10  FLAG_LAST_APPL_PER_CONTRACT  1670214 non-null  object \n",
            " 11  NFLAG_LAST_APPL_IN_DAY       1670214 non-null  int64  \n",
            " 12  RATE_DOWN_PAYMENT            774370 non-null   float64\n",
            " 13  RATE_INTEREST_PRIMARY        5951 non-null     float64\n",
            " 14  RATE_INTEREST_PRIVILEGED     5951 non-null     float64\n",
            " 15  NAME_CASH_LOAN_PURPOSE       1670214 non-null  object \n",
            " 16  NAME_CONTRACT_STATUS         1670214 non-null  object \n",
            " 17  DAYS_DECISION                1670214 non-null  int64  \n",
            " 18  NAME_PAYMENT_TYPE            1670214 non-null  object \n",
            " 19  CODE_REJECT_REASON           1670214 non-null  object \n",
            " 20  NAME_TYPE_SUITE              849809 non-null   object \n",
            " 21  NAME_CLIENT_TYPE             1670214 non-null  object \n",
            " 22  NAME_GOODS_CATEGORY          1670214 non-null  object \n",
            " 23  NAME_PORTFOLIO               1670214 non-null  object \n",
            " 24  NAME_PRODUCT_TYPE            1670214 non-null  object \n",
            " 25  CHANNEL_TYPE                 1670214 non-null  object \n",
            " 26  SELLERPLACE_AREA             1670214 non-null  int64  \n",
            " 27  NAME_SELLER_INDUSTRY         1670214 non-null  object \n",
            " 28  CNT_PAYMENT                  1297984 non-null  float64\n",
            " 29  NAME_YIELD_GROUP             1670214 non-null  object \n",
            " 30  PRODUCT_COMBINATION          1669868 non-null  object \n",
            " 31  DAYS_FIRST_DRAWING           997149 non-null   float64\n",
            " 32  DAYS_FIRST_DUE               997149 non-null   float64\n",
            " 33  DAYS_LAST_DUE_1ST_VERSION    997149 non-null   float64\n",
            " 34  DAYS_LAST_DUE                997149 non-null   float64\n",
            " 35  DAYS_TERMINATION             997149 non-null   float64\n",
            " 36  NFLAG_INSURED_ON_APPROVAL    997149 non-null   float64\n",
            "dtypes: float64(15), int64(6), object(16)\n",
            "memory usage: 471.5+ MB\n",
            "None\n"
          ]
        },
        {
          "output_type": "display_data",
          "data": {
            "text/html": [
              "<div>\n",
              "<style scoped>\n",
              "    .dataframe tbody tr th:only-of-type {\n",
              "        vertical-align: middle;\n",
              "    }\n",
              "\n",
              "    .dataframe tbody tr th {\n",
              "        vertical-align: top;\n",
              "    }\n",
              "\n",
              "    .dataframe thead th {\n",
              "        text-align: right;\n",
              "    }\n",
              "</style>\n",
              "<table border=\"1\" class=\"dataframe\">\n",
              "  <thead>\n",
              "    <tr style=\"text-align: right;\">\n",
              "      <th></th>\n",
              "      <th>SK_ID_PREV</th>\n",
              "      <th>SK_ID_CURR</th>\n",
              "      <th>NAME_CONTRACT_TYPE</th>\n",
              "      <th>AMT_ANNUITY</th>\n",
              "      <th>AMT_APPLICATION</th>\n",
              "      <th>AMT_CREDIT</th>\n",
              "      <th>AMT_DOWN_PAYMENT</th>\n",
              "      <th>AMT_GOODS_PRICE</th>\n",
              "      <th>WEEKDAY_APPR_PROCESS_START</th>\n",
              "      <th>HOUR_APPR_PROCESS_START</th>\n",
              "      <th>FLAG_LAST_APPL_PER_CONTRACT</th>\n",
              "      <th>NFLAG_LAST_APPL_IN_DAY</th>\n",
              "      <th>RATE_DOWN_PAYMENT</th>\n",
              "      <th>RATE_INTEREST_PRIMARY</th>\n",
              "      <th>RATE_INTEREST_PRIVILEGED</th>\n",
              "      <th>NAME_CASH_LOAN_PURPOSE</th>\n",
              "      <th>NAME_CONTRACT_STATUS</th>\n",
              "      <th>DAYS_DECISION</th>\n",
              "      <th>NAME_PAYMENT_TYPE</th>\n",
              "      <th>CODE_REJECT_REASON</th>\n",
              "      <th>NAME_TYPE_SUITE</th>\n",
              "      <th>NAME_CLIENT_TYPE</th>\n",
              "      <th>NAME_GOODS_CATEGORY</th>\n",
              "      <th>NAME_PORTFOLIO</th>\n",
              "      <th>NAME_PRODUCT_TYPE</th>\n",
              "      <th>CHANNEL_TYPE</th>\n",
              "      <th>SELLERPLACE_AREA</th>\n",
              "      <th>NAME_SELLER_INDUSTRY</th>\n",
              "      <th>CNT_PAYMENT</th>\n",
              "      <th>NAME_YIELD_GROUP</th>\n",
              "      <th>PRODUCT_COMBINATION</th>\n",
              "      <th>DAYS_FIRST_DRAWING</th>\n",
              "      <th>DAYS_FIRST_DUE</th>\n",
              "      <th>DAYS_LAST_DUE_1ST_VERSION</th>\n",
              "      <th>DAYS_LAST_DUE</th>\n",
              "      <th>DAYS_TERMINATION</th>\n",
              "      <th>NFLAG_INSURED_ON_APPROVAL</th>\n",
              "    </tr>\n",
              "  </thead>\n",
              "  <tbody>\n",
              "    <tr>\n",
              "      <th>0</th>\n",
              "      <td>2030495</td>\n",
              "      <td>271877</td>\n",
              "      <td>Consumer loans</td>\n",
              "      <td>1730.430</td>\n",
              "      <td>17145.0</td>\n",
              "      <td>17145.0</td>\n",
              "      <td>0.0</td>\n",
              "      <td>17145.0</td>\n",
              "      <td>SATURDAY</td>\n",
              "      <td>15</td>\n",
              "      <td>Y</td>\n",
              "      <td>1</td>\n",
              "      <td>0.0</td>\n",
              "      <td>0.182832</td>\n",
              "      <td>0.867336</td>\n",
              "      <td>XAP</td>\n",
              "      <td>Approved</td>\n",
              "      <td>-73</td>\n",
              "      <td>Cash through the bank</td>\n",
              "      <td>XAP</td>\n",
              "      <td>NaN</td>\n",
              "      <td>Repeater</td>\n",
              "      <td>Mobile</td>\n",
              "      <td>POS</td>\n",
              "      <td>XNA</td>\n",
              "      <td>Country-wide</td>\n",
              "      <td>35</td>\n",
              "      <td>Connectivity</td>\n",
              "      <td>12.0</td>\n",
              "      <td>middle</td>\n",
              "      <td>POS mobile with interest</td>\n",
              "      <td>365243.0</td>\n",
              "      <td>-42.0</td>\n",
              "      <td>300.0</td>\n",
              "      <td>-42.0</td>\n",
              "      <td>-37.0</td>\n",
              "      <td>0.0</td>\n",
              "    </tr>\n",
              "    <tr>\n",
              "      <th>1</th>\n",
              "      <td>2802425</td>\n",
              "      <td>108129</td>\n",
              "      <td>Cash loans</td>\n",
              "      <td>25188.615</td>\n",
              "      <td>607500.0</td>\n",
              "      <td>679671.0</td>\n",
              "      <td>NaN</td>\n",
              "      <td>607500.0</td>\n",
              "      <td>THURSDAY</td>\n",
              "      <td>11</td>\n",
              "      <td>Y</td>\n",
              "      <td>1</td>\n",
              "      <td>NaN</td>\n",
              "      <td>NaN</td>\n",
              "      <td>NaN</td>\n",
              "      <td>XNA</td>\n",
              "      <td>Approved</td>\n",
              "      <td>-164</td>\n",
              "      <td>XNA</td>\n",
              "      <td>XAP</td>\n",
              "      <td>Unaccompanied</td>\n",
              "      <td>Repeater</td>\n",
              "      <td>XNA</td>\n",
              "      <td>Cash</td>\n",
              "      <td>x-sell</td>\n",
              "      <td>Contact center</td>\n",
              "      <td>-1</td>\n",
              "      <td>XNA</td>\n",
              "      <td>36.0</td>\n",
              "      <td>low_action</td>\n",
              "      <td>Cash X-Sell: low</td>\n",
              "      <td>365243.0</td>\n",
              "      <td>-134.0</td>\n",
              "      <td>916.0</td>\n",
              "      <td>365243.0</td>\n",
              "      <td>365243.0</td>\n",
              "      <td>1.0</td>\n",
              "    </tr>\n",
              "    <tr>\n",
              "      <th>2</th>\n",
              "      <td>2523466</td>\n",
              "      <td>122040</td>\n",
              "      <td>Cash loans</td>\n",
              "      <td>15060.735</td>\n",
              "      <td>112500.0</td>\n",
              "      <td>136444.5</td>\n",
              "      <td>NaN</td>\n",
              "      <td>112500.0</td>\n",
              "      <td>TUESDAY</td>\n",
              "      <td>11</td>\n",
              "      <td>Y</td>\n",
              "      <td>1</td>\n",
              "      <td>NaN</td>\n",
              "      <td>NaN</td>\n",
              "      <td>NaN</td>\n",
              "      <td>XNA</td>\n",
              "      <td>Approved</td>\n",
              "      <td>-301</td>\n",
              "      <td>Cash through the bank</td>\n",
              "      <td>XAP</td>\n",
              "      <td>Spouse, partner</td>\n",
              "      <td>Repeater</td>\n",
              "      <td>XNA</td>\n",
              "      <td>Cash</td>\n",
              "      <td>x-sell</td>\n",
              "      <td>Credit and cash offices</td>\n",
              "      <td>-1</td>\n",
              "      <td>XNA</td>\n",
              "      <td>12.0</td>\n",
              "      <td>high</td>\n",
              "      <td>Cash X-Sell: high</td>\n",
              "      <td>365243.0</td>\n",
              "      <td>-271.0</td>\n",
              "      <td>59.0</td>\n",
              "      <td>365243.0</td>\n",
              "      <td>365243.0</td>\n",
              "      <td>1.0</td>\n",
              "    </tr>\n",
              "  </tbody>\n",
              "</table>\n",
              "</div>"
            ],
            "text/plain": [
              "   SK_ID_PREV  SK_ID_CURR  ... DAYS_TERMINATION  NFLAG_INSURED_ON_APPROVAL\n",
              "0     2030495      271877  ...            -37.0                        0.0\n",
              "1     2802425      108129  ...         365243.0                        1.0\n",
              "2     2523466      122040  ...         365243.0                        1.0\n",
              "\n",
              "[3 rows x 37 columns]"
            ]
          },
          "metadata": {}
        },
        {
          "output_type": "stream",
          "name": "stdout",
          "text": [
            "POS_CASH_balance: shape is (10001358, 8)\n",
            "<class 'pandas.core.frame.DataFrame'>\n",
            "RangeIndex: 10001358 entries, 0 to 10001357\n",
            "Data columns (total 8 columns):\n",
            " #   Column                 Dtype  \n",
            "---  ------                 -----  \n",
            " 0   SK_ID_PREV             int64  \n",
            " 1   SK_ID_CURR             int64  \n",
            " 2   MONTHS_BALANCE         int64  \n",
            " 3   CNT_INSTALMENT         float64\n",
            " 4   CNT_INSTALMENT_FUTURE  float64\n",
            " 5   NAME_CONTRACT_STATUS   object \n",
            " 6   SK_DPD                 int64  \n",
            " 7   SK_DPD_DEF             int64  \n",
            "dtypes: float64(2), int64(5), object(1)\n",
            "memory usage: 610.4+ MB\n",
            "None\n"
          ]
        },
        {
          "output_type": "display_data",
          "data": {
            "text/html": [
              "<div>\n",
              "<style scoped>\n",
              "    .dataframe tbody tr th:only-of-type {\n",
              "        vertical-align: middle;\n",
              "    }\n",
              "\n",
              "    .dataframe tbody tr th {\n",
              "        vertical-align: top;\n",
              "    }\n",
              "\n",
              "    .dataframe thead th {\n",
              "        text-align: right;\n",
              "    }\n",
              "</style>\n",
              "<table border=\"1\" class=\"dataframe\">\n",
              "  <thead>\n",
              "    <tr style=\"text-align: right;\">\n",
              "      <th></th>\n",
              "      <th>SK_ID_PREV</th>\n",
              "      <th>SK_ID_CURR</th>\n",
              "      <th>MONTHS_BALANCE</th>\n",
              "      <th>CNT_INSTALMENT</th>\n",
              "      <th>CNT_INSTALMENT_FUTURE</th>\n",
              "      <th>NAME_CONTRACT_STATUS</th>\n",
              "      <th>SK_DPD</th>\n",
              "      <th>SK_DPD_DEF</th>\n",
              "    </tr>\n",
              "  </thead>\n",
              "  <tbody>\n",
              "    <tr>\n",
              "      <th>0</th>\n",
              "      <td>1803195</td>\n",
              "      <td>182943</td>\n",
              "      <td>-31</td>\n",
              "      <td>48.0</td>\n",
              "      <td>45.0</td>\n",
              "      <td>Active</td>\n",
              "      <td>0</td>\n",
              "      <td>0</td>\n",
              "    </tr>\n",
              "    <tr>\n",
              "      <th>1</th>\n",
              "      <td>1715348</td>\n",
              "      <td>367990</td>\n",
              "      <td>-33</td>\n",
              "      <td>36.0</td>\n",
              "      <td>35.0</td>\n",
              "      <td>Active</td>\n",
              "      <td>0</td>\n",
              "      <td>0</td>\n",
              "    </tr>\n",
              "    <tr>\n",
              "      <th>2</th>\n",
              "      <td>1784872</td>\n",
              "      <td>397406</td>\n",
              "      <td>-32</td>\n",
              "      <td>12.0</td>\n",
              "      <td>9.0</td>\n",
              "      <td>Active</td>\n",
              "      <td>0</td>\n",
              "      <td>0</td>\n",
              "    </tr>\n",
              "  </tbody>\n",
              "</table>\n",
              "</div>"
            ],
            "text/plain": [
              "   SK_ID_PREV  SK_ID_CURR  ...  SK_DPD  SK_DPD_DEF\n",
              "0     1803195      182943  ...       0           0\n",
              "1     1715348      367990  ...       0           0\n",
              "2     1784872      397406  ...       0           0\n",
              "\n",
              "[3 rows x 8 columns]"
            ]
          },
          "metadata": {}
        },
        {
          "output_type": "stream",
          "name": "stdout",
          "text": [
            "dataset application_train       : [    307,511, 122]\n",
            "dataset application_test        : [     48,744, 121]\n",
            "dataset bureau                  : [  1,716,428, 17]\n",
            "dataset bureau_balance          : [ 27,299,925, 3]\n",
            "dataset credit_card_balance     : [  3,840,312, 23]\n",
            "dataset installments_payments   : [ 13,605,401, 8]\n",
            "dataset previous_application    : [  1,670,214, 37]\n",
            "dataset POS_CASH_balance        : [ 10,001,358, 8]\n"
          ]
        }
      ],
      "source": [
        "import numpy as np\n",
        "import pandas as pd \n",
        "import os\n",
        "import zipfile\n",
        "import warnings\n",
        "warnings.filterwarnings('ignore')\n",
        "\n",
        "def load_data(in_path, name):\n",
        "    df = pd.read_csv(in_path)\n",
        "    print(f\"{name}: shape is {df.shape}\")\n",
        "    print(df.info())\n",
        "    display(df.head(3))\n",
        "    return df\n",
        "\n",
        "datasets={}  # lets store the datasets in a dictionary so we can keep track of them easily\n",
        "DATA_DIR = \"datasets\" # folder where unzipped files are\n",
        "\n",
        "ds_names = (\"application_train\", \"application_test\", \"bureau\",\"bureau_balance\",\"credit_card_balance\",\"installments_payments\",\n",
        "            \"previous_application\",\"POS_CASH_balance\")\n",
        "\n",
        "for ds_name in ds_names:\n",
        "    datasets[ds_name] = load_data(os.path.join(DATA_DIR, f'{ds_name}.csv'), ds_name)\n",
        "for ds_name in datasets.keys():\n",
        "    print(f'dataset {ds_name:24}: [ {datasets[ds_name].shape[0]:10,}, {datasets[ds_name].shape[1]}]')"
      ]
    },
    {
      "cell_type": "code",
      "execution_count": null,
      "metadata": {
        "colab": {
          "base_uri": "https://localhost:8080/"
        },
        "id": "4ojrvMmmTzfT",
        "outputId": "b2178120-abf4-43c9-edea-2298f2403afe"
      },
      "outputs": [
        {
          "output_type": "execute_result",
          "data": {
            "text/plain": [
              "dict_keys(['application_train', 'application_test', 'bureau', 'bureau_balance', 'credit_card_balance', 'installments_payments', 'previous_application', 'POS_CASH_balance'])"
            ]
          },
          "metadata": {},
          "execution_count": 6
        }
      ],
      "source": [
        "# datasets that we have\n",
        "datasets.keys()"
      ]
    },
    {
      "cell_type": "markdown",
      "metadata": {
        "id": "d0TrgGRAT4qV"
      },
      "source": [
        "# Load In Datasets"
      ]
    },
    {
      "cell_type": "markdown",
      "metadata": {
        "id": "nRT6nB2ZUBBp"
      },
      "source": [
        "## Previous Applications"
      ]
    },
    {
      "cell_type": "code",
      "execution_count": null,
      "metadata": {
        "id": "F3dumpA4T1Cr"
      },
      "outputs": [],
      "source": [
        "PA_df = datasets['previous_application'].groupby('SK_ID_CURR').agg({\n",
        "    \"AMT_APPLICATION\": \"mean\",\n",
        "    \"CNT_PAYMENT\": \"max\",\n",
        "    \"DAYS_TERMINATION\":\"mean\",\n",
        "\n",
        "    \"NAME_PORTFOLIO\": \"max\",\n",
        "    \"NAME_GOODS_CATEGORY\": \"max\",\n",
        "    \"NAME_SELLER_INDUSTRY\": \"max\",\n",
        "})"
      ]
    },
    {
      "cell_type": "code",
      "execution_count": null,
      "metadata": {
        "id": "kHQt069rT--W"
      },
      "outputs": [],
      "source": [
        "PCB_df_copy = datasets['POS_CASH_balance'].groupby('SK_ID_PREV').agg({\n",
        "    \"CNT_INSTALMENT\": \"count\",\n",
        "    \"CNT_INSTALMENT_FUTURE\": \"mean\",\n",
        "    \"MONTHS_BALANCE\": \"min\",\n",
        "})\n",
        "POS_to_PA_df =  datasets['previous_application'].merge(PCB_df_copy, how='left', on='SK_ID_PREV')\n",
        "PCB_df_temp = POS_to_PA_df.groupby('SK_ID_CURR').agg({\n",
        "    \"CNT_INSTALMENT\": \"count\",\n",
        "    \"CNT_INSTALMENT_FUTURE\": \"mean\",\n",
        "    \"MONTHS_BALANCE\": \"min\",\n",
        "})\n",
        "PCB_df_temp=PCB_df_temp.rename({\"CNT_INSTALMENT\":\"PREV_CNT_INSTALMENT\",\"CNT_INSTALMENT_FUTURE\":\"PREV_CNT_INSTALMENT_FUTURE\",\"MONTHS_BALANCE\":\"PREV_PCB_MONTHS_BALANCE\" }, axis='columns')\n",
        "PA_df = pd.concat([PA_df, PCB_df_temp], axis=1)"
      ]
    },
    {
      "cell_type": "code",
      "execution_count": null,
      "metadata": {
        "id": "6Bp0QgXDUHRB"
      },
      "outputs": [],
      "source": [
        "IP_df_copy = datasets['installments_payments'].groupby('SK_ID_PREV').agg({\n",
        "    \"AMT_INSTALMENT\": \"sum\",\n",
        "    \"AMT_PAYMENT\": \"sum\",\n",
        "    \"DAYS_INSTALMENT\": \"min\",\n",
        "    \"DAYS_ENTRY_PAYMENT\": \"min\",\n",
        "})\n",
        "IP_df_copy[\"SUM_MISSED\"] = IP_df_copy[\"AMT_INSTALMENT\"] - IP_df_copy[\"AMT_PAYMENT\"]\n",
        "IP_to_PA_df =  datasets['previous_application'].merge(IP_df_copy, how='left', on='SK_ID_PREV')\n",
        "IP_df_temp = IP_to_PA_df.groupby('SK_ID_CURR').agg({\n",
        "    \"AMT_INSTALMENT\": \"sum\",\n",
        "    \"AMT_PAYMENT\": \"sum\",\n",
        "    \"DAYS_INSTALMENT\": \"min\",\n",
        "    \"DAYS_ENTRY_PAYMENT\": \"min\"\n",
        "})\n",
        "IP_df_temp = IP_df_temp.rename({\"AMT_INSTALMENT\":\"PREV_AMT_INSTALMENT\", \"AMT_PAYMENT\":\"PREV_AMT_PAYMENT\", \"DAYS_INSTALMENT\":\"PREV_DAYS_INSTALMENT\",  \"DAYS_ENTRY_PAYMENT\": \"PREV_DAYS_ENTRY_PAYMENT\"}, axis = 'columns')\n",
        "PA_df = pd.concat([PA_df, IP_df_temp], axis=1)"
      ]
    },
    {
      "cell_type": "code",
      "execution_count": null,
      "metadata": {
        "id": "pVUAasteUODM"
      },
      "outputs": [],
      "source": [
        "CCB_df_copy = datasets['credit_card_balance'].groupby('SK_ID_PREV').agg({\n",
        "    \"AMT_BALANCE\": \"mean\",\n",
        "    \"MONTHS_BALANCE\": \"min\",\n",
        "    \"AMT_CREDIT_LIMIT_ACTUAL\": \"count\",\n",
        "})\n",
        "CCB_to_PA_df =  datasets['previous_application'].merge(CCB_df_copy, how='left', on='SK_ID_PREV')\n",
        "CCB_df_temp = CCB_to_PA_df.groupby('SK_ID_CURR').agg({\n",
        "    \"AMT_BALANCE\": \"mean\",\n",
        "    \"MONTHS_BALANCE\": \"min\",\n",
        "    \"AMT_CREDIT_LIMIT_ACTUAL\": \"count\"\n",
        "})\n",
        "CCB_df_temp = CCB_df_temp.rename({\"AMT_BALANCE\":\"PREV_AMT_BALANCE\", \"MONTHS_BALANCE\": \"PREV_CCB_MONTHS_BALANCE\",\"AMT_CREDIT_LIMIT_ACTUAL\":\"PREV_AMT_CREDIT_LIMIT_ACTUAL\"}, axis ='columns')\n",
        "PA_df = pd.concat([PA_df, CCB_df_temp], axis=1)"
      ]
    },
    {
      "cell_type": "markdown",
      "metadata": {
        "id": "FsffAiyxUU85"
      },
      "source": [
        "## POS Cash Balances"
      ]
    },
    {
      "cell_type": "code",
      "execution_count": null,
      "metadata": {
        "id": "b8XF7ttVUVN_"
      },
      "outputs": [],
      "source": [
        "PCB_df = datasets['POS_CASH_balance'].groupby('SK_ID_CURR').agg({\n",
        "    \"CNT_INSTALMENT\": \"count\",\n",
        "    \"CNT_INSTALMENT_FUTURE\": \"mean\",\n",
        "    \"MONTHS_BALANCE\": \"min\",\n",
        "})"
      ]
    },
    {
      "cell_type": "markdown",
      "metadata": {
        "id": "5RP4H2yYUZiq"
      },
      "source": [
        "## Instalment Payments"
      ]
    },
    {
      "cell_type": "code",
      "execution_count": null,
      "metadata": {
        "id": "PoMOtHEaUW4Q"
      },
      "outputs": [],
      "source": [
        "IP_df = datasets['installments_payments'].groupby('SK_ID_CURR').agg({\n",
        "    \"AMT_INSTALMENT\": \"sum\",\n",
        "    \"AMT_PAYMENT\": \"sum\",\n",
        "    \"DAYS_INSTALMENT\": \"min\",\n",
        "    \"DAYS_ENTRY_PAYMENT\": \"min\",\n",
        "})\n",
        "IP_df[\"SUM_MISSED\"] = IP_df[\"AMT_INSTALMENT\"] - IP_df[\"AMT_PAYMENT\"]"
      ]
    },
    {
      "cell_type": "markdown",
      "metadata": {
        "id": "22pzjprTUcnT"
      },
      "source": [
        "## Bureau"
      ]
    },
    {
      "cell_type": "code",
      "execution_count": null,
      "metadata": {
        "id": "xMBzfJN0UdOa"
      },
      "outputs": [],
      "source": [
        "B_df = datasets['bureau'].groupby('SK_ID_CURR').agg({\n",
        "    \"CREDIT_TYPE\": \"min\",\n",
        "    \"CREDIT_ACTIVE\": \"max\",\n",
        "    \"DAYS_CREDIT\": \"mean\",\n",
        "    \"AMT_CREDIT_SUM\": \"max\",\n",
        "})"
      ]
    },
    {
      "cell_type": "code",
      "execution_count": null,
      "metadata": {
        "id": "myajAgkPUePi"
      },
      "outputs": [],
      "source": [
        "BB_df = datasets['bureau_balance'].groupby('SK_ID_BUREAU').agg({\n",
        "    \"MONTHS_BALANCE\": \"min\",\n",
        "    \"STATUS\": [\"max\", \"min\", \"count\"] \n",
        "})\n",
        "temp = pd.DataFrame({\"MONTHS_BALANCE_MIN\": BB_df[\"MONTHS_BALANCE\"][\"min\"],  \"STATUS_MAX\": BB_df[\"STATUS\"][\"max\"], \"STATUS_MIN\":BB_df[\"STATUS\"][\"min\"], \"STATUS_COUNT\": BB_df[\"STATUS\"][\"count\"]})\n",
        "BB_df = temp\n",
        "BB_to_B_df =  datasets['bureau'].merge(BB_df, how='left', on='SK_ID_BUREAU')\n",
        "BB_to_B_df = BB_to_B_df.dropna(subset = [\"STATUS_MAX\",\"STATUS_MIN\"])\n",
        "B_df_temp = BB_to_B_df.groupby('SK_ID_CURR').agg({\n",
        "    \"MONTHS_BALANCE_MIN\": \"min\",\n",
        "    \"STATUS_MIN\": \"min\",\n",
        "    \"STATUS_MAX\" : 'max',\n",
        "    \"STATUS_COUNT\": \"count\"\n",
        "})\n",
        "B_df = pd.concat([B_df, B_df_temp], axis=1)"
      ]
    },
    {
      "cell_type": "code",
      "execution_count": null,
      "metadata": {
        "id": "IJnTXjdgRpY7"
      },
      "outputs": [],
      "source": [
        "CCB_df = datasets['credit_card_balance'].groupby('SK_ID_CURR').agg({\n",
        "    \"AMT_BALANCE\": \"mean\",\n",
        "    \"MONTHS_BALANCE\": \"min\",\n",
        "    \"AMT_CREDIT_LIMIT_ACTUAL\": \"count\",\n",
        "})"
      ]
    },
    {
      "cell_type": "code",
      "execution_count": null,
      "metadata": {
        "id": "2gbxzt0rVFb8"
      },
      "outputs": [],
      "source": [
        "# initialize results table\n",
        "results = pd.DataFrame(columns=[\"ExpID\", \"ROC AUC Score\", \"Cross fold train accuracy\", \"Test Accuracy\", \"Train Time(s)\", \"Test Time(s)\", \"Experiment description\"])"
      ]
    },
    {
      "cell_type": "markdown",
      "metadata": {
        "id": "cbi0Z1Y9Ul-3"
      },
      "source": [
        "# Deep Learning Model"
      ]
    },
    {
      "cell_type": "code",
      "execution_count": null,
      "metadata": {
        "id": "RiF37-1mUm7m"
      },
      "outputs": [],
      "source": [
        "import torch\n",
        "import torch.nn as nn\n",
        "import numpy as np\n",
        "import torch.optim as optim\n",
        "from sklearn.model_selection import train_test_split\n",
        "from time import time\n",
        "\n",
        "app = datasets[\"application_train\"]\n",
        "train_x = app.loc[:, app.columns != \"TARGET\"]\n",
        "train_y = app[\"TARGET\"]\n",
        "train_x, test_x, train_y, test_y = train_test_split(train_x, train_y, test_size=0.15, random_state=30)\n"
      ]
    },
    {
      "cell_type": "code",
      "execution_count": null,
      "metadata": {
        "id": "Mm_nyZh9UryP"
      },
      "outputs": [],
      "source": [
        "from sklearn.base import BaseEstimator, TransformerMixin\n",
        "from sklearn.pipeline import Pipeline\n",
        "from sklearn.pipeline import FeatureUnion\n",
        "from sklearn.preprocessing import StandardScaler\n",
        "from sklearn.impute import SimpleImputer\n",
        "from sklearn.preprocessing import OneHotEncoder\n",
        "from sklearn.metrics import roc_auc_score\n",
        "\n",
        "# preprocess data\n",
        "cat_features = [\n",
        "  \"FLAG_DOCUMENT_3\", \"REGION_RATING_CLIENT\", \"REGION_RATING_CLIENT_W_CITY\",\n",
        "  \"NAME_INCOME_TYPE\", \"NAME_EDUCATION_TYPE\", \"HOUR_APPR_PROCESS_START\",\n",
        "  \"OCCUPATION_TYPE\"\n",
        "]\n",
        "\n",
        "num_features = [\n",
        "  \"EXT_SOURCE_3\", \"EXT_SOURCE_2\", \"EXT_SOURCE_1\", \"FLOORSMAX_AVG\",\n",
        "  \"AMT_GOODS_PRICE\", \"REGION_POPULATION_RELATIVE\",\n",
        "  \"ELEVATORS_AVG\", \"DAYS_LAST_PHONE_CHANGE\", \"DAYS_BIRTH\", \"DAYS_ID_PUBLISH\"\n",
        "]\n",
        "\n",
        "# custom layer to get columns we want from DataFrame\n",
        "class DataFrameSelector(BaseEstimator, TransformerMixin):\n",
        "  def __init__(self, attribute_names):\n",
        "    self.attribute_names = attribute_names\n",
        "  def fit(self, X, y=None):\n",
        "    return self\n",
        "  def transform(self, X):\n",
        "    return X[self.attribute_names].values\n",
        "def pct(x):\n",
        "    return round(100*x,1)\n",
        "num_pipeline = Pipeline([\n",
        "  ('selector', DataFrameSelector(num_features)),\n",
        "  ('imputer', SimpleImputer(strategy='median')),\n",
        "  ('std_scaler', StandardScaler()),\n",
        "])\n",
        "\n",
        "cat_pipeline = Pipeline([\n",
        "  ('selector', DataFrameSelector(cat_features)),\n",
        "  ('imputer', SimpleImputer(strategy='most_frequent')),\n",
        "  ('ohe', OneHotEncoder(sparse=False, handle_unknown=\"ignore\")),\n",
        "])\n",
        "\n",
        "preprocess_pipeline = FeatureUnion(transformer_list=[\n",
        "  (\"num_pipeline\", num_pipeline),\n",
        "  (\"cat_pipeline\", cat_pipeline),\n",
        "])\n",
        "\n",
        "scaler = preprocess_pipeline.fit(train_x, train_y)\n",
        "\n",
        "train_x = scaler.transform(train_x)\n",
        "test_x = scaler.transform(test_x)"
      ]
    },
    {
      "cell_type": "code",
      "execution_count": null,
      "metadata": {
        "id": "ckTy0HxTUr-H"
      },
      "outputs": [],
      "source": [
        "# to tensors\n",
        "train_x_tensor = torch.from_numpy(train_x).float()\n",
        "test_x_tensor = torch.from_numpy(test_x).float()\n",
        "train_y_tensor = torch.from_numpy(np.array(train_y)).float()\n",
        "test_y_tensor = torch.from_numpy(np.array(test_y)).float()"
      ]
    },
    {
      "cell_type": "code",
      "execution_count": null,
      "metadata": {
        "id": "fMKFHybkUtIo"
      },
      "outputs": [],
      "source": [
        "# globals\n",
        "batch_size = 64\n",
        "num_epochs = 100\n",
        "num_in = train_x.shape[1]\n",
        "num_layer_1 = 20\n",
        "num_output = 2"
      ]
    },
    {
      "cell_type": "code",
      "execution_count": null,
      "metadata": {
        "id": "5HWuFT4nUuA4"
      },
      "outputs": [],
      "source": [
        "# create data loaders\n",
        "train_set = torch.utils.data.TensorDataset(train_x_tensor, train_y_tensor)\n",
        "data_loader = torch.utils.data.DataLoader(train_set, batch_size=batch_size, shuffle=True)"
      ]
    },
    {
      "cell_type": "code",
      "execution_count": null,
      "metadata": {
        "id": "UIGO0hFUUvGx"
      },
      "outputs": [],
      "source": [
        "class CustomModel(nn.Module):\n",
        "  def __init__(self):\n",
        "    super().__init__()\n",
        "    self.linear = nn.Sequential(\n",
        "        nn.Linear(num_in, num_layer_1),\n",
        "        nn.ReLU(),\n",
        "        nn.Linear(num_layer_1, num_output)\n",
        "    )\n",
        "\n",
        "  def forward(self, x):\n",
        "    out = self.linear(x)\n",
        "    return nn.functional.softmax(out)\n",
        "\n",
        "model = CustomModel()\n",
        "opt = optim.SGD(model.parameters(), lr=0.01)\n",
        "loss_fn = nn.BCELoss()"
      ]
    },
    {
      "cell_type": "code",
      "execution_count": null,
      "metadata": {
        "id": "tD1zjFjzUwMR"
      },
      "outputs": [],
      "source": [
        "from time import time\n",
        "\n",
        "losses = []\n",
        "test_losses = []\n",
        "roc_scores = []\n",
        "test_roc_scores = []\n",
        "epochs = num_epochs\n",
        "\n",
        "start = time()\n",
        "for epoch in range(epochs):\n",
        "  running_loss = 0.0\n",
        "  running_auc = 0.0\n",
        "  num_train_auc = 0\n",
        "  for batch, data in enumerate(data_loader):\n",
        "    input, labels = data[0], data[1]\n",
        "\n",
        "    opt.zero_grad()\n",
        "    pred = model(input)[:, 0]\n",
        "    loss = loss_fn(pred, labels)\n",
        "    loss.backward()\n",
        "    opt.step()\n",
        "\n",
        "    running_loss += loss.detach()\n",
        "    try:\n",
        "      running_auc += roc_auc_score(labels, pred.detach().numpy())\n",
        "      num_train_auc += 1\n",
        "    except: pass\n",
        "\n",
        "  losses.append(running_loss/batch_size)\n",
        "  roc_scores.append(running_auc/num_train_auc)\n",
        "  preds = model(test_x_tensor)[:,0].detach().numpy()\n",
        "  test_roc_scores.append(roc_auc_score(test_y, preds))\n",
        "train_time = time() - start"
      ]
    },
    {
      "cell_type": "code",
      "execution_count": null,
      "metadata": {
        "colab": {
          "base_uri": "https://localhost:8080/",
          "height": 282
        },
        "id": "Cm_F9rzaUxNJ",
        "outputId": "b270d019-dd05-4559-b047-8257a06ea999"
      },
      "outputs": [
        {
          "output_type": "execute_result",
          "data": {
            "text/plain": [
              "[<matplotlib.lines.Line2D at 0x7fa9125f2050>]"
            ]
          },
          "metadata": {},
          "execution_count": 47
        },
        {
          "output_type": "display_data",
          "data": {
            "image/png": "[encoded data removed]",
            "text/plain": [
              "<Figure size 432x288 with 1 Axes>"
            ]
          },
          "metadata": {
            "needs_background": "light"
          }
        }
      ],
      "source": [
        "import matplotlib.pyplot as plt\n",
        "plt.plot(range(epochs), losses, label=\"train loss\")"
      ]
    },
    {
      "cell_type": "code",
      "source": [
        "plt.plot(range(epochs), roc_scores, label=\"train AUC\")\n",
        "plt.plot(range(epochs), test_roc_scores, label=\"test AUC\")\n",
        "plt.legend()"
      ],
      "metadata": {
        "colab": {
          "base_uri": "https://localhost:8080/",
          "height": 282
        },
        "id": "PpwUyVgxKYGb",
        "outputId": "dd645ce7-6585-4d51-d982-e6457c86160a"
      },
      "execution_count": null,
      "outputs": [
        {
          "output_type": "execute_result",
          "data": {
            "text/plain": [
              "<matplotlib.legend.Legend at 0x7fa9132746d0>"
            ]
          },
          "metadata": {},
          "execution_count": 48
        },
        {
          "output_type": "display_data",
          "data": {
            "image/png": "[encoded data removed]",
            "text/plain": [
              "<Figure size 432x288 with 1 Axes>"
            ]
          },
          "metadata": {
            "needs_background": "light"
          }
        }
      ]
    },
    {
      "cell_type": "code",
      "execution_count": null,
      "metadata": {
        "id": "gwW8uRo6UyHq"
      },
      "outputs": [],
      "source": [
        "from sklearn.metrics import roc_auc_score\n",
        "\n",
        "start = time()\n",
        "preds = model(test_x_tensor)[:,0].detach().numpy()\n",
        "roc = roc_auc_score(test_y, preds)\n",
        "test_time = time() - start"
      ]
    },
    {
      "cell_type": "code",
      "execution_count": null,
      "metadata": {
        "colab": {
          "base_uri": "https://localhost:8080/",
          "height": 81
        },
        "id": "BubEVXXeW5zc",
        "outputId": "a7a7bec2-829d-4074-f454-7bab689a6bf9"
      },
      "outputs": [
        {
          "output_type": "execute_result",
          "data": {
            "text/html": [
              "<div>\n",
              "<style scoped>\n",
              "    .dataframe tbody tr th:only-of-type {\n",
              "        vertical-align: middle;\n",
              "    }\n",
              "\n",
              "    .dataframe tbody tr th {\n",
              "        vertical-align: top;\n",
              "    }\n",
              "\n",
              "    .dataframe thead th {\n",
              "        text-align: right;\n",
              "    }\n",
              "</style>\n",
              "<table border=\"1\" class=\"dataframe\">\n",
              "  <thead>\n",
              "    <tr style=\"text-align: right;\">\n",
              "      <th></th>\n",
              "      <th>ExpID</th>\n",
              "      <th>ROC AUC Score</th>\n",
              "      <th>Cross fold train accuracy</th>\n",
              "      <th>Test Accuracy</th>\n",
              "      <th>Train Time(s)</th>\n",
              "      <th>Test Time(s)</th>\n",
              "      <th>Experiment description</th>\n",
              "    </tr>\n",
              "  </thead>\n",
              "  <tbody>\n",
              "    <tr>\n",
              "      <th>0</th>\n",
              "      <td>Deep Learning</td>\n",
              "      <td>0.739418</td>\n",
              "      <td>--</td>\n",
              "      <td>--</td>\n",
              "      <td>1075.331878</td>\n",
              "      <td>0.037791</td>\n",
              "      <td>Deep Learning w/ Application Data</td>\n",
              "    </tr>\n",
              "  </tbody>\n",
              "</table>\n",
              "</div>"
            ],
            "text/plain": [
              "           ExpID  ...             Experiment description\n",
              "0  Deep Learning  ...  Deep Learning w/ Application Data\n",
              "\n",
              "[1 rows x 7 columns]"
            ]
          },
          "metadata": {},
          "execution_count": 50
        }
      ],
      "source": [
        "results.loc[0] = [\"Deep Learning\", roc, \"--\", \"--\", \n",
        "                   train_time, test_time, \"Deep Learning w/ Application Data\"]\n",
        "\n",
        "results"
      ]
    },
    {
      "cell_type": "markdown",
      "metadata": {
        "id": "dkb_7if8ZnUm"
      },
      "source": [
        "# Adding All Features"
      ]
    },
    {
      "cell_type": "code",
      "execution_count": null,
      "metadata": {
        "id": "MleSnUHUX247"
      },
      "outputs": [],
      "source": [
        "train = datasets['application_train']\n",
        "train = train.merge(PA_df, how='left', on='SK_ID_CURR')\n",
        "train = train.merge(PCB_df, how='left', on='SK_ID_CURR')\n",
        "train = train.merge(IP_df, how='left', on='SK_ID_CURR')\n",
        "train = train.merge(B_df, how='left', on='SK_ID_CURR')\n",
        "train = train.merge(CCB_df, how='left', on='SK_ID_CURR')\n",
        "\n",
        "train[\"REGION_POPULATION_RELATIVE*DAYS_ID_PUBLISH\"] = train['REGION_POPULATION_RELATIVE'] * train['DAYS_ID_PUBLISH']\n",
        "train[\"AMT_CREDIT/AMT_GOODS_PRICE\"] = train['AMT_CREDIT'] / train['AMT_GOODS_PRICE']\n",
        "train[\"DEF_30_CNT_SOCIAL_CIRCLE/OBS_30_CNT_SOCIAL_CIRCLE\"] = train['DEF_30_CNT_SOCIAL_CIRCLE'] / train['OBS_30_CNT_SOCIAL_CIRCLE']\n",
        "train[\"DAYS_BIRTH+DAYS_LAST_PHONE_CHANGE\"] = train['DAYS_BIRTH'] + train['DAYS_LAST_PHONE_CHANGE']\n",
        "train[\"DEF_30_CNT_SOCIAL_CIRCLE+DEF_60_CNT_SOCIAL_CIRCLE\"] = train['DEF_30_CNT_SOCIAL_CIRCLE'] + train['DEF_60_CNT_SOCIAL_CIRCLE']\n",
        "train[\"AMT_GOODS_PRICE+DAYS_EMPLOYED\"] = train['AMT_GOODS_PRICE'] + train['DAYS_EMPLOYED']\n",
        "train[\"REGION_POPULATION_RELATIVE*AMT_GOODS_PRICE\"] = train['REGION_POPULATION_RELATIVE'] * train['AMT_GOODS_PRICE']\n",
        "\n",
        "train[\"DAYS_LAST_PHONE_CHANGE+CNT_PAYMENT\"] = train[\"DAYS_LAST_PHONE_CHANGE\"] + train[\"CNT_PAYMENT\"]\n",
        "train[\"DAYS_BIRTH+MONTHS_BALANCE\"] = train[\"DAYS_BIRTH\"] + train[\"MONTHS_BALANCE_x\"]\n",
        "train[\"DAYS_LAST_PHONE_CHANGE+DAYS_ENTRY_PAYMENT\"] = train[\"DAYS_LAST_PHONE_CHANGE\"] + train[\"DAYS_ENTRY_PAYMENT\"]\n",
        "train[\"DAYS_BIRTH*DAYS_CREDIT\"] = train[\"DAYS_BIRTH\"] * train[\"DAYS_CREDIT\"]"
      ]
    },
    {
      "cell_type": "code",
      "execution_count": null,
      "metadata": {
        "id": "wXeB04uEN_Io"
      },
      "outputs": [],
      "source": [
        "cat_features = [\n",
        "  \"FLAG_DOCUMENT_3\", \"REGION_RATING_CLIENT\", \"REGION_RATING_CLIENT_W_CITY\",\n",
        "  \"NAME_INCOME_TYPE\", \"NAME_EDUCATION_TYPE\", \"HOUR_APPR_PROCESS_START\",\n",
        "  \"OCCUPATION_TYPE\", \"FLAG_DOCUMENT_4\",\n",
        "  \"REG_CITY_NOT_WORK_CITY\", \"REG_CITY_NOT_LIVE_CITY\",\n",
        "\n",
        "  \"NAME_SELLER_INDUSTRY\", \"NAME_PORTFOLIO\", \"CREDIT_TYPE\", \"CREDIT_ACTIVE\",\n",
        "\n",
        "  \"STATUS_MIN\", \"STATUS_MAX\"\n",
        "]\n",
        "\n",
        "num_features = [\n",
        "  \"EXT_SOURCE_3\", \"EXT_SOURCE_2\", \"EXT_SOURCE_1\", \"FLOORSMAX_AVG\",\n",
        "  \"AMT_GOODS_PRICE\", \"REGION_POPULATION_RELATIVE\",\n",
        "  \"ELEVATORS_AVG\", \"DAYS_LAST_PHONE_CHANGE\", \"DAYS_BIRTH\", \"DAYS_ID_PUBLISH\",\n",
        "  \"DAYS_EMPLOYED\", \"FLOORSMIN_AVG\", \"TOTALAREA_MODE\", \"APARTMENTS_AVG\",\n",
        "  \"LIVINGAPARTMENTS_AVG\", \"DAYS_REGISTRATION\", \"OWN_CAR_AGE\",\n",
        "  \"DEF_30_CNT_SOCIAL_CIRCLE\", \"DEF_60_CNT_SOCIAL_CIRCLE\",\n",
        "\n",
        "  \"REGION_POPULATION_RELATIVE*DAYS_ID_PUBLISH\", \"AMT_CREDIT/AMT_GOODS_PRICE\",\n",
        "  \"DEF_30_CNT_SOCIAL_CIRCLE/OBS_30_CNT_SOCIAL_CIRCLE\",\n",
        "  \"DAYS_BIRTH+DAYS_LAST_PHONE_CHANGE\",\n",
        "  \"DEF_30_CNT_SOCIAL_CIRCLE+DEF_60_CNT_SOCIAL_CIRCLE\",\n",
        "  \"AMT_GOODS_PRICE+DAYS_EMPLOYED\", \"REGION_POPULATION_RELATIVE*AMT_GOODS_PRICE\",\n",
        "\n",
        "  \"CNT_INSTALMENT\", \"MONTHS_BALANCE_x\", \"DAYS_ENTRY_PAYMENT\", \"DAYS_INSTALMENT\",\n",
        "  \"DAYS_CREDIT\", \"AMT_BALANCE\", \"MONTHS_BALANCE_y\", \"AMT_CREDIT_LIMIT_ACTUAL\",\n",
        "\n",
        "  \"DAYS_LAST_PHONE_CHANGE+CNT_PAYMENT\", \"DAYS_BIRTH+MONTHS_BALANCE\",\n",
        "  \"DAYS_LAST_PHONE_CHANGE+DAYS_ENTRY_PAYMENT\", \"DAYS_BIRTH*DAYS_CREDIT\",\n",
        "\n",
        "  \"PREV_CNT_INSTALMENT\",\"PREV_CNT_INSTALMENT_FUTURE\",\n",
        "  \"PREV_PCB_MONTHS_BALANCE\",\"PREV_AMT_INSTALMENT\",\"PREV_AMT_PAYMENT\",\n",
        "  \"PREV_DAYS_INSTALMENT\",\"PREV_DAYS_ENTRY_PAYMENT\",\"PREV_AMT_BALANCE\",\n",
        "  \"PREV_CCB_MONTHS_BALANCE\",\"PREV_AMT_CREDIT_LIMIT_ACTUAL\",\n",
        "  \"MONTHS_BALANCE_MIN\",\"STATUS_COUNT\"\n",
        "]"
      ]
    },
    {
      "cell_type": "code",
      "execution_count": null,
      "metadata": {
        "id": "CBK7oqVlOIZJ"
      },
      "outputs": [],
      "source": [
        "import torch\n",
        "import torch.nn as nn\n",
        "import numpy as np\n",
        "import torch.optim as optim\n",
        "from sklearn.model_selection import train_test_split\n",
        "train_x = train.loc[:, train.columns != \"TARGET\"]\n",
        "train_y = train['TARGET']\n",
        "train_x, test_x, train_y, test_y = train_test_split(train_x, train_y, test_size=0.15, random_state=30)\n"
      ]
    },
    {
      "cell_type": "code",
      "execution_count": null,
      "metadata": {
        "id": "xu487PDcON1F"
      },
      "outputs": [],
      "source": [
        "from sklearn.base import BaseEstimator, TransformerMixin\n",
        "from sklearn.pipeline import Pipeline\n",
        "from sklearn.pipeline import FeatureUnion\n",
        "from sklearn.preprocessing import StandardScaler\n",
        "from sklearn.impute import SimpleImputer\n",
        "from sklearn.preprocessing import OneHotEncoder\n",
        "from sklearn.linear_model import LogisticRegression\n",
        "\n",
        "# custom layer to get columns we want from DataFrame\n",
        "class DataFrameSelector(BaseEstimator, TransformerMixin):\n",
        "  def __init__(self, attribute_names):\n",
        "    self.attribute_names = attribute_names\n",
        "  def fit(self, X, y=None):\n",
        "    return self\n",
        "  def transform(self, X):\n",
        "    return X[self.attribute_names].values\n",
        "def pct(x):\n",
        "    return round(100*x,1)\n",
        "num_pipeline = Pipeline([\n",
        "  ('selector', DataFrameSelector(num_features)),\n",
        "  ('imputer', SimpleImputer(strategy='median')),\n",
        "  ('std_scaler', StandardScaler()),\n",
        "])\n",
        "\n",
        "cat_pipeline = Pipeline([\n",
        "  ('selector', DataFrameSelector(cat_features)),\n",
        "  ('imputer', SimpleImputer(strategy='constant')),\n",
        "  ('ohe', OneHotEncoder(sparse=False, handle_unknown=\"ignore\")),\n",
        "])\n",
        "\n",
        "preprocess_pipeline = FeatureUnion(transformer_list=[\n",
        "  (\"num_pipeline\", num_pipeline),\n",
        "  (\"cat_pipeline\", cat_pipeline),\n",
        "])\n",
        "\n",
        "\n",
        "scaler = preprocess_pipeline.fit(train_x, train_y)\n",
        "\n",
        "train_x = scaler.transform(train_x)\n",
        "test_x = scaler.transform(test_x)"
      ]
    },
    {
      "cell_type": "code",
      "execution_count": null,
      "metadata": {
        "id": "ihqE6W83OQ2r"
      },
      "outputs": [],
      "source": [
        "train_x_tensor = torch.from_numpy(train_x).float()\n",
        "test_x_tensor = torch.from_numpy(test_x).float()\n",
        "train_y_tensor = torch.from_numpy(np.array(train_y)).float()\n",
        "test_y_tensor = torch.from_numpy(np.array(test_y)).float()"
      ]
    },
    {
      "cell_type": "code",
      "execution_count": null,
      "metadata": {
        "id": "mzg2EYblOTG-"
      },
      "outputs": [],
      "source": [
        "batch_size = 64\n",
        "num_epochs = 100\n",
        "num_in = train_x.shape[1]\n",
        "num_layer_1 = 20\n",
        "num_output = 2"
      ]
    },
    {
      "cell_type": "code",
      "execution_count": null,
      "metadata": {
        "id": "RfVBCJiVOVvm"
      },
      "outputs": [],
      "source": [
        "train_set = torch.utils.data.TensorDataset(train_x_tensor, train_y_tensor)\n",
        "data_loader = torch.utils.data.DataLoader(train_set, batch_size=batch_size, shuffle=True)"
      ]
    },
    {
      "cell_type": "code",
      "execution_count": null,
      "metadata": {
        "id": "jpfXfKCsOZJr"
      },
      "outputs": [],
      "source": [
        "class CustomModel(nn.Module):\n",
        "  def __init__(self):\n",
        "    super().__init__()\n",
        "    self.linear = nn.Sequential(\n",
        "        nn.Linear(num_in, num_layer_1),\n",
        "        nn.ReLU(),\n",
        "        nn.Linear(num_layer_1, num_output)\n",
        "    )\n",
        "\n",
        "  def forward(self, x):\n",
        "    out = self.linear(x)\n",
        "    return nn.functional.softmax(out)\n",
        "\n",
        "model = CustomModel()\n",
        "opt = optim.SGD(model.parameters(), lr=0.01)\n",
        "loss_fn = nn.BCELoss()"
      ]
    },
    {
      "cell_type": "code",
      "execution_count": null,
      "metadata": {
        "id": "7xN_3uSaOb8b"
      },
      "outputs": [],
      "source": [
        "from time import time\n",
        "\n",
        "losses = []\n",
        "roc_scores = []\n",
        "test_roc_scores = []\n",
        "epochs = num_epochs\n",
        "\n",
        "start = time()\n",
        "for epoch in range(epochs):\n",
        "  running_loss = 0.0\n",
        "  running_auc = 0.0\n",
        "  num_train_auc = 0\n",
        "  for batch, data in enumerate(data_loader):\n",
        "    input, labels = data[0], data[1]\n",
        "\n",
        "    opt.zero_grad()\n",
        "    pred = model(input)[:, 0]\n",
        "    loss = loss_fn(pred, labels)\n",
        "    loss.backward()\n",
        "    opt.step()\n",
        "\n",
        "    running_loss += loss.detach()\n",
        "    try:\n",
        "      running_auc += roc_auc_score(labels, pred.detach().numpy())\n",
        "      num_train_auc += 1\n",
        "    except: pass\n",
        "\n",
        "  losses.append(running_loss/batch_size)\n",
        "  roc_scores.append(running_auc/num_train_auc)\n",
        "  preds = model(test_x_tensor)[:,0].detach().numpy()\n",
        "  test_roc_scores.append(roc_auc_score(test_y, preds))\n",
        "train_time = time() - start"
      ]
    },
    {
      "cell_type": "code",
      "execution_count": null,
      "metadata": {
        "colab": {
          "base_uri": "https://localhost:8080/",
          "height": 282
        },
        "id": "W8ZoGjClOeTW",
        "outputId": "ffc27a3d-c9e3-403a-dd30-dc6c14601f47"
      },
      "outputs": [
        {
          "output_type": "execute_result",
          "data": {
            "text/plain": [
              "[<matplotlib.lines.Line2D at 0x7fa9125bf190>]"
            ]
          },
          "metadata": {},
          "execution_count": 60
        },
        {
          "output_type": "display_data",
          "data": {
            "image/png": "[encoded data removed]",
            "text/plain": [
              "<Figure size 432x288 with 1 Axes>"
            ]
          },
          "metadata": {
            "needs_background": "light"
          }
        }
      ],
      "source": [
        "import matplotlib.pyplot as plt\n",
        "\n",
        "plt.plot(range(epochs), losses)"
      ]
    },
    {
      "cell_type": "code",
      "source": [
        "plt.plot(range(epochs), roc_scores, label=\"train AUC\")\n",
        "plt.plot(range(epochs), test_roc_scores, label=\"test AUC\")\n",
        "plt.legend()"
      ],
      "metadata": {
        "colab": {
          "base_uri": "https://localhost:8080/",
          "height": 282
        },
        "id": "sWqkFTiDlQ4C",
        "outputId": "88430c91-a3ef-4d7c-eb6a-4203f4723086"
      },
      "execution_count": null,
      "outputs": [
        {
          "output_type": "execute_result",
          "data": {
            "text/plain": [
              "<matplotlib.legend.Legend at 0x7fa9125816d0>"
            ]
          },
          "metadata": {},
          "execution_count": 61
        },
        {
          "output_type": "display_data",
          "data": {
            "image/png": "[encoded data removed]",
            "text/plain": [
              "<Figure size 432x288 with 1 Axes>"
            ]
          },
          "metadata": {
            "needs_background": "light"
          }
        }
      ]
    },
    {
      "cell_type": "code",
      "execution_count": null,
      "metadata": {
        "id": "1ZYTeDgwOge7"
      },
      "outputs": [],
      "source": [
        "from sklearn.metrics import roc_auc_score\n",
        "\n",
        "start = time()\n",
        "preds = model(test_x_tensor)[:,0].detach().numpy()\n",
        "roc = roc_auc_score(test_y, preds)\n",
        "test_time = time() - start"
      ]
    },
    {
      "cell_type": "code",
      "execution_count": null,
      "metadata": {
        "colab": {
          "base_uri": "https://localhost:8080/",
          "height": 112
        },
        "id": "3Xwoa3VZOjEZ",
        "outputId": "6d7d6df6-ad8c-468f-f9f5-5390646f91e0"
      },
      "outputs": [
        {
          "output_type": "execute_result",
          "data": {
            "text/html": [
              "<div>\n",
              "<style scoped>\n",
              "    .dataframe tbody tr th:only-of-type {\n",
              "        vertical-align: middle;\n",
              "    }\n",
              "\n",
              "    .dataframe tbody tr th {\n",
              "        vertical-align: top;\n",
              "    }\n",
              "\n",
              "    .dataframe thead th {\n",
              "        text-align: right;\n",
              "    }\n",
              "</style>\n",
              "<table border=\"1\" class=\"dataframe\">\n",
              "  <thead>\n",
              "    <tr style=\"text-align: right;\">\n",
              "      <th></th>\n",
              "      <th>ExpID</th>\n",
              "      <th>ROC AUC Score</th>\n",
              "      <th>Cross fold train accuracy</th>\n",
              "      <th>Test Accuracy</th>\n",
              "      <th>Train Time(s)</th>\n",
              "      <th>Test Time(s)</th>\n",
              "      <th>Experiment description</th>\n",
              "    </tr>\n",
              "  </thead>\n",
              "  <tbody>\n",
              "    <tr>\n",
              "      <th>0</th>\n",
              "      <td>Deep Learning</td>\n",
              "      <td>0.739418</td>\n",
              "      <td>--</td>\n",
              "      <td>--</td>\n",
              "      <td>1075.331878</td>\n",
              "      <td>0.037791</td>\n",
              "      <td>Deep Learning w/ Application Data</td>\n",
              "    </tr>\n",
              "    <tr>\n",
              "      <th>1</th>\n",
              "      <td>Deep Learning</td>\n",
              "      <td>0.758407</td>\n",
              "      <td>--</td>\n",
              "      <td>--</td>\n",
              "      <td>1400.716561</td>\n",
              "      <td>0.048049</td>\n",
              "      <td>Deep Learning w/ all other data</td>\n",
              "    </tr>\n",
              "  </tbody>\n",
              "</table>\n",
              "</div>"
            ],
            "text/plain": [
              "           ExpID  ...             Experiment description\n",
              "0  Deep Learning  ...  Deep Learning w/ Application Data\n",
              "1  Deep Learning  ...    Deep Learning w/ all other data\n",
              "\n",
              "[2 rows x 7 columns]"
            ]
          },
          "metadata": {},
          "execution_count": 63
        }
      ],
      "source": [
        "results.loc[1] = [\"Deep Learning\", roc, \"--\", \"--\", \n",
        "                   train_time, test_time, \"Deep Learning w/ all other data\"]\n",
        "\n",
        "results"
      ]
    },
    {
      "cell_type": "markdown",
      "metadata": {
        "id": "GjJCDRNZbwTA"
      },
      "source": [
        "# Adam Optimizer"
      ]
    },
    {
      "cell_type": "code",
      "execution_count": null,
      "metadata": {
        "id": "zBHQU4xJbx8h"
      },
      "outputs": [],
      "source": [
        "train = datasets['application_train']\n",
        "train = train.merge(PA_df, how='left', on='SK_ID_CURR')\n",
        "train = train.merge(PCB_df, how='left', on='SK_ID_CURR')\n",
        "train = train.merge(IP_df, how='left', on='SK_ID_CURR')\n",
        "train = train.merge(B_df, how='left', on='SK_ID_CURR')\n",
        "train = train.merge(CCB_df, how='left', on='SK_ID_CURR')\n",
        "\n",
        "train[\"REGION_POPULATION_RELATIVE*DAYS_ID_PUBLISH\"] = train['REGION_POPULATION_RELATIVE'] * train['DAYS_ID_PUBLISH']\n",
        "train[\"AMT_CREDIT/AMT_GOODS_PRICE\"] = train['AMT_CREDIT'] / train['AMT_GOODS_PRICE']\n",
        "train[\"DEF_30_CNT_SOCIAL_CIRCLE/OBS_30_CNT_SOCIAL_CIRCLE\"] = train['DEF_30_CNT_SOCIAL_CIRCLE'] / train['OBS_30_CNT_SOCIAL_CIRCLE']\n",
        "train[\"DAYS_BIRTH+DAYS_LAST_PHONE_CHANGE\"] = train['DAYS_BIRTH'] + train['DAYS_LAST_PHONE_CHANGE']\n",
        "train[\"DEF_30_CNT_SOCIAL_CIRCLE+DEF_60_CNT_SOCIAL_CIRCLE\"] = train['DEF_30_CNT_SOCIAL_CIRCLE'] + train['DEF_60_CNT_SOCIAL_CIRCLE']\n",
        "train[\"AMT_GOODS_PRICE+DAYS_EMPLOYED\"] = train['AMT_GOODS_PRICE'] + train['DAYS_EMPLOYED']\n",
        "train[\"REGION_POPULATION_RELATIVE*AMT_GOODS_PRICE\"] = train['REGION_POPULATION_RELATIVE'] * train['AMT_GOODS_PRICE']\n",
        "\n",
        "train[\"DAYS_LAST_PHONE_CHANGE+CNT_PAYMENT\"] = train[\"DAYS_LAST_PHONE_CHANGE\"] + train[\"CNT_PAYMENT\"]\n",
        "train[\"DAYS_BIRTH+MONTHS_BALANCE\"] = train[\"DAYS_BIRTH\"] + train[\"MONTHS_BALANCE_x\"]\n",
        "train[\"DAYS_LAST_PHONE_CHANGE+DAYS_ENTRY_PAYMENT\"] = train[\"DAYS_LAST_PHONE_CHANGE\"] + train[\"DAYS_ENTRY_PAYMENT\"]\n",
        "train[\"DAYS_BIRTH*DAYS_CREDIT\"] = train[\"DAYS_BIRTH\"] * train[\"DAYS_CREDIT\"]"
      ]
    },
    {
      "cell_type": "code",
      "execution_count": null,
      "metadata": {
        "id": "Xrha_0ZNb0jC"
      },
      "outputs": [],
      "source": [
        "cat_features = [\n",
        "  \"FLAG_DOCUMENT_3\", \"REGION_RATING_CLIENT\", \"REGION_RATING_CLIENT_W_CITY\",\n",
        "  \"NAME_INCOME_TYPE\", \"NAME_EDUCATION_TYPE\", \"HOUR_APPR_PROCESS_START\",\n",
        "  \"OCCUPATION_TYPE\", \"FLAG_DOCUMENT_4\",\n",
        "  \"REG_CITY_NOT_WORK_CITY\", \"REG_CITY_NOT_LIVE_CITY\",\n",
        "\n",
        "  \"NAME_SELLER_INDUSTRY\", \"NAME_PORTFOLIO\", \"CREDIT_TYPE\", \"CREDIT_ACTIVE\",\n",
        "\n",
        "  \"STATUS_MIN\", \"STATUS_MAX\"\n",
        "]\n",
        "\n",
        "num_features = [\n",
        "  \"EXT_SOURCE_3\", \"EXT_SOURCE_2\", \"EXT_SOURCE_1\", \"FLOORSMAX_AVG\",\n",
        "  \"AMT_GOODS_PRICE\", \"REGION_POPULATION_RELATIVE\",\n",
        "  \"ELEVATORS_AVG\", \"DAYS_LAST_PHONE_CHANGE\", \"DAYS_BIRTH\", \"DAYS_ID_PUBLISH\",\n",
        "  \"DAYS_EMPLOYED\", \"FLOORSMIN_AVG\", \"TOTALAREA_MODE\", \"APARTMENTS_AVG\",\n",
        "  \"LIVINGAPARTMENTS_AVG\", \"DAYS_REGISTRATION\", \"OWN_CAR_AGE\",\n",
        "  \"DEF_30_CNT_SOCIAL_CIRCLE\", \"DEF_60_CNT_SOCIAL_CIRCLE\",\n",
        "\n",
        "  \"REGION_POPULATION_RELATIVE*DAYS_ID_PUBLISH\", \"AMT_CREDIT/AMT_GOODS_PRICE\",\n",
        "  \"DEF_30_CNT_SOCIAL_CIRCLE/OBS_30_CNT_SOCIAL_CIRCLE\",\n",
        "  \"DAYS_BIRTH+DAYS_LAST_PHONE_CHANGE\",\n",
        "  \"DEF_30_CNT_SOCIAL_CIRCLE+DEF_60_CNT_SOCIAL_CIRCLE\",\n",
        "  \"AMT_GOODS_PRICE+DAYS_EMPLOYED\", \"REGION_POPULATION_RELATIVE*AMT_GOODS_PRICE\",\n",
        "\n",
        "  \"CNT_INSTALMENT\", \"MONTHS_BALANCE_x\", \"DAYS_ENTRY_PAYMENT\", \"DAYS_INSTALMENT\",\n",
        "  \"DAYS_CREDIT\", \"AMT_BALANCE\", \"MONTHS_BALANCE_y\", \"AMT_CREDIT_LIMIT_ACTUAL\",\n",
        "\n",
        "  \"DAYS_LAST_PHONE_CHANGE+CNT_PAYMENT\", \"DAYS_BIRTH+MONTHS_BALANCE\",\n",
        "  \"DAYS_LAST_PHONE_CHANGE+DAYS_ENTRY_PAYMENT\", \"DAYS_BIRTH*DAYS_CREDIT\",\n",
        "\n",
        "  \"PREV_CNT_INSTALMENT\",\"PREV_CNT_INSTALMENT_FUTURE\",\n",
        "  \"PREV_PCB_MONTHS_BALANCE\",\"PREV_AMT_INSTALMENT\",\"PREV_AMT_PAYMENT\",\n",
        "  \"PREV_DAYS_INSTALMENT\",\"PREV_DAYS_ENTRY_PAYMENT\",\"PREV_AMT_BALANCE\",\n",
        "  \"PREV_CCB_MONTHS_BALANCE\",\"PREV_AMT_CREDIT_LIMIT_ACTUAL\",\n",
        "  \"MONTHS_BALANCE_MIN\",\"STATUS_COUNT\"\n",
        "]"
      ]
    },
    {
      "cell_type": "code",
      "execution_count": null,
      "metadata": {
        "id": "zjxUMJT_b2lb"
      },
      "outputs": [],
      "source": [
        "import torch\n",
        "import torch.nn as nn\n",
        "import numpy as np\n",
        "import torch.optim as optim\n",
        "from sklearn.model_selection import train_test_split\n",
        "train_x = train.loc[:, train.columns != \"TARGET\"]\n",
        "train_y = train['TARGET']\n",
        "train_x, test_x, train_y, test_y = train_test_split(train_x, train_y, test_size=0.15, random_state=30)"
      ]
    },
    {
      "cell_type": "code",
      "execution_count": null,
      "metadata": {
        "id": "nFismXurb5BU"
      },
      "outputs": [],
      "source": [
        "from sklearn.base import BaseEstimator, TransformerMixin\n",
        "from sklearn.pipeline import Pipeline\n",
        "from sklearn.pipeline import FeatureUnion\n",
        "from sklearn.preprocessing import StandardScaler\n",
        "from sklearn.impute import SimpleImputer\n",
        "from sklearn.preprocessing import OneHotEncoder\n",
        "from sklearn.linear_model import LogisticRegression\n",
        "\n",
        "# custom layer to get columns we want from DataFrame\n",
        "class DataFrameSelector(BaseEstimator, TransformerMixin):\n",
        "  def __init__(self, attribute_names):\n",
        "    self.attribute_names = attribute_names\n",
        "  def fit(self, X, y=None):\n",
        "    return self\n",
        "  def transform(self, X):\n",
        "    return X[self.attribute_names].values\n",
        "def pct(x):\n",
        "    return round(100*x,1)\n",
        "num_pipeline = Pipeline([\n",
        "  ('selector', DataFrameSelector(num_features)),\n",
        "  ('imputer', SimpleImputer(strategy='median')),\n",
        "  ('std_scaler', StandardScaler()),\n",
        "])\n",
        "\n",
        "cat_pipeline = Pipeline([\n",
        "  ('selector', DataFrameSelector(cat_features)),\n",
        "  ('imputer', SimpleImputer(strategy='constant')),\n",
        "  ('ohe', OneHotEncoder(sparse=False, handle_unknown=\"ignore\")),\n",
        "])\n",
        "\n",
        "preprocess_pipeline = FeatureUnion(transformer_list=[\n",
        "  (\"num_pipeline\", num_pipeline),\n",
        "  (\"cat_pipeline\", cat_pipeline),\n",
        "])\n",
        "\n",
        "\n",
        "scaler = preprocess_pipeline.fit(train_x, train_y)\n",
        "\n",
        "train_x = scaler.transform(train_x)\n",
        "test_x = scaler.transform(test_x)"
      ]
    },
    {
      "cell_type": "code",
      "execution_count": null,
      "metadata": {
        "id": "Hia0I6e9b-gG"
      },
      "outputs": [],
      "source": [
        "# to tensors\n",
        "train_x_tensor = torch.from_numpy(train_x).float()\n",
        "test_x_tensor = torch.from_numpy(test_x).float()\n",
        "train_y_tensor = torch.from_numpy(np.array(train_y)).float()\n",
        "test_y_tensor = torch.from_numpy(np.array(test_y)).float()"
      ]
    },
    {
      "cell_type": "code",
      "execution_count": null,
      "metadata": {
        "id": "omPtvmf2cF9B"
      },
      "outputs": [],
      "source": [
        "# create data loaders\n",
        "train_set = torch.utils.data.TensorDataset(train_x_tensor, train_y_tensor)\n",
        "data_loader = torch.utils.data.DataLoader(train_set, batch_size=batch_size, shuffle=True)"
      ]
    },
    {
      "cell_type": "code",
      "execution_count": null,
      "metadata": {
        "id": "nzKAAv7ycD0o"
      },
      "outputs": [],
      "source": [
        "# globals\n",
        "# note: realistically we can only get 20 epochs before overfitting\n",
        "batch_size = 64\n",
        "num_epochs = 20\n",
        "num_layer_1 = 20\n",
        "num_in = train_x.shape[1]\n",
        "num_output = 2"
      ]
    },
    {
      "cell_type": "code",
      "execution_count": null,
      "metadata": {
        "id": "gzsEbsu-cJ7f"
      },
      "outputs": [],
      "source": [
        "class CustomModel(nn.Module):\n",
        "  def __init__(self):\n",
        "    super().__init__()\n",
        "    self.linear = nn.Sequential(\n",
        "        nn.Linear(num_in, num_layer_1),\n",
        "        nn.ReLU(),\n",
        "        nn.Linear(num_layer_1, num_output),\n",
        "    )\n",
        "\n",
        "  def forward(self, x):\n",
        "    out = self.linear(x)\n",
        "    return nn.functional.softmax(out)\n",
        "\n",
        "model = CustomModel()\n",
        "opt = optim.Adam(model.parameters(), lr=0.0001, betas=(0.9, 0.999))\n",
        "loss_fn = nn.BCELoss()"
      ]
    },
    {
      "cell_type": "code",
      "execution_count": null,
      "metadata": {
        "id": "N4zGX4XKcSKu"
      },
      "outputs": [],
      "source": [
        "from time import time\n",
        "\n",
        "losses = []\n",
        "roc_scores = []\n",
        "test_roc_scores = []\n",
        "epochs = num_epochs\n",
        "\n",
        "start = time()\n",
        "for epoch in range(epochs):\n",
        "  running_loss = 0.0\n",
        "  running_auc = 0.0\n",
        "  num_train_auc = 0\n",
        "  for batch, data in enumerate(data_loader):\n",
        "    input, labels = data[0], data[1]\n",
        "\n",
        "    opt.zero_grad()\n",
        "    pred = model(input)[:, 0]\n",
        "    loss = loss_fn(pred, labels)\n",
        "    loss.backward()\n",
        "    opt.step()\n",
        "\n",
        "    running_loss += loss.detach()\n",
        "    try:\n",
        "      running_auc += roc_auc_score(labels, pred.detach().numpy())\n",
        "      num_train_auc += 1\n",
        "    except: pass\n",
        "\n",
        "  losses.append(running_loss/batch_size)\n",
        "  roc_scores.append(running_auc/num_train_auc)\n",
        "  preds = model(test_x_tensor)[:,0].detach().numpy()\n",
        "  test_roc_scores.append(roc_auc_score(test_y, preds))\n",
        "train_time = time() - start"
      ]
    },
    {
      "cell_type": "code",
      "execution_count": null,
      "metadata": {
        "colab": {
          "base_uri": "https://localhost:8080/",
          "height": 282
        },
        "id": "hcy2kxNgcPWc",
        "outputId": "8ba6f234-5eba-4505-b243-d591191f808b"
      },
      "outputs": [
        {
          "output_type": "execute_result",
          "data": {
            "text/plain": [
              "[<matplotlib.lines.Line2D at 0x7fa912f21950>]"
            ]
          },
          "metadata": {},
          "execution_count": 150
        },
        {
          "output_type": "display_data",
          "data": {
            "image/png": "[encoded data removed]",
            "text/plain": [
              "<Figure size 432x288 with 1 Axes>"
            ]
          },
          "metadata": {
            "needs_background": "light"
          }
        }
      ],
      "source": [
        "import matplotlib.pyplot as plt\n",
        "\n",
        "plt.plot(range(epochs), losses)"
      ]
    },
    {
      "cell_type": "code",
      "source": [
        "plt.plot(range(epochs), roc_scores, label=\"train AUC\")\n",
        "plt.plot(range(epochs), test_roc_scores, label=\"test AUC\")\n",
        "plt.legend()"
      ],
      "metadata": {
        "colab": {
          "base_uri": "https://localhost:8080/",
          "height": 282
        },
        "id": "6YJ-dpX8jghB",
        "outputId": "4f4500bb-690b-4c34-c13a-c3ba2a997907"
      },
      "execution_count": null,
      "outputs": [
        {
          "output_type": "execute_result",
          "data": {
            "text/plain": [
              "<matplotlib.legend.Legend at 0x7fa9135493d0>"
            ]
          },
          "metadata": {},
          "execution_count": 151
        },
        {
          "output_type": "display_data",
          "data": {
            "image/png": "[encoded data removed]",
            "text/plain": [
              "<Figure size 432x288 with 1 Axes>"
            ]
          },
          "metadata": {
            "needs_background": "light"
          }
        }
      ]
    },
    {
      "cell_type": "code",
      "execution_count": null,
      "metadata": {
        "id": "AMtbomC-cVen"
      },
      "outputs": [],
      "source": [
        "from sklearn.metrics import roc_auc_score\n",
        "\n",
        "start = time()\n",
        "preds = model(test_x_tensor)[:,0].detach().numpy()\n",
        "roc = roc_auc_score(test_y, preds)\n",
        "test_time = time() - start\n",
        "\n",
        "acc = np.sum(np.round(preds) == test_y) / len(test_y)"
      ]
    },
    {
      "cell_type": "code",
      "execution_count": null,
      "metadata": {
        "colab": {
          "base_uri": "https://localhost:8080/",
          "height": 238
        },
        "id": "MNw0NumRcYJH",
        "outputId": "e05df144-0ee6-4917-944e-6b39bc60f736"
      },
      "outputs": [
        {
          "output_type": "execute_result",
          "data": {
            "text/html": [
              "<div>\n",
              "<style scoped>\n",
              "    .dataframe tbody tr th:only-of-type {\n",
              "        vertical-align: middle;\n",
              "    }\n",
              "\n",
              "    .dataframe tbody tr th {\n",
              "        vertical-align: top;\n",
              "    }\n",
              "\n",
              "    .dataframe thead th {\n",
              "        text-align: right;\n",
              "    }\n",
              "</style>\n",
              "<table border=\"1\" class=\"dataframe\">\n",
              "  <thead>\n",
              "    <tr style=\"text-align: right;\">\n",
              "      <th></th>\n",
              "      <th>ExpID</th>\n",
              "      <th>ROC AUC Score</th>\n",
              "      <th>Cross fold train accuracy</th>\n",
              "      <th>Test Accuracy</th>\n",
              "      <th>Train Time(s)</th>\n",
              "      <th>Test Time(s)</th>\n",
              "      <th>Experiment description</th>\n",
              "    </tr>\n",
              "  </thead>\n",
              "  <tbody>\n",
              "    <tr>\n",
              "      <th>0</th>\n",
              "      <td>Deep Learning</td>\n",
              "      <td>0.739418</td>\n",
              "      <td>--</td>\n",
              "      <td>--</td>\n",
              "      <td>1075.331878</td>\n",
              "      <td>0.037791</td>\n",
              "      <td>Deep Learning w/ Application Data</td>\n",
              "    </tr>\n",
              "    <tr>\n",
              "      <th>1</th>\n",
              "      <td>Deep Learning</td>\n",
              "      <td>0.758407</td>\n",
              "      <td>--</td>\n",
              "      <td>--</td>\n",
              "      <td>1400.716561</td>\n",
              "      <td>0.048049</td>\n",
              "      <td>Deep Learning w/ all other data</td>\n",
              "    </tr>\n",
              "    <tr>\n",
              "      <th>2</th>\n",
              "      <td>Deep Learning</td>\n",
              "      <td>0.758704</td>\n",
              "      <td>--</td>\n",
              "      <td>0.917315</td>\n",
              "      <td>238.759920</td>\n",
              "      <td>0.047533</td>\n",
              "      <td>Adam optimizer</td>\n",
              "    </tr>\n",
              "    <tr>\n",
              "      <th>3</th>\n",
              "      <td>Deep Learning</td>\n",
              "      <td>0.671086</td>\n",
              "      <td>--</td>\n",
              "      <td>0.906519</td>\n",
              "      <td>995.408674</td>\n",
              "      <td>0.873410</td>\n",
              "      <td>More layers</td>\n",
              "    </tr>\n",
              "    <tr>\n",
              "      <th>4</th>\n",
              "      <td>Deep Learning</td>\n",
              "      <td>0.732227</td>\n",
              "      <td>--</td>\n",
              "      <td>0.918854</td>\n",
              "      <td>510.319242</td>\n",
              "      <td>1.011763</td>\n",
              "      <td>K-Fold training</td>\n",
              "    </tr>\n",
              "    <tr>\n",
              "      <th>5</th>\n",
              "      <td>Deep Learning</td>\n",
              "      <td>0.750459</td>\n",
              "      <td>--</td>\n",
              "      <td>0.917424</td>\n",
              "      <td>264.229233</td>\n",
              "      <td>0.056706</td>\n",
              "      <td>Modifying Layer Sizes</td>\n",
              "    </tr>\n",
              "  </tbody>\n",
              "</table>\n",
              "</div>"
            ],
            "text/plain": [
              "           ExpID  ...             Experiment description\n",
              "0  Deep Learning  ...  Deep Learning w/ Application Data\n",
              "1  Deep Learning  ...    Deep Learning w/ all other data\n",
              "2  Deep Learning  ...                     Adam optimizer\n",
              "3  Deep Learning  ...                        More layers\n",
              "4  Deep Learning  ...                    K-Fold training\n",
              "5  Deep Learning  ...              Modifying Layer Sizes\n",
              "\n",
              "[6 rows x 7 columns]"
            ]
          },
          "metadata": {},
          "execution_count": 153
        }
      ],
      "source": [
        "results.loc[2] = [\"Deep Learning\", roc, \"--\", acc, \n",
        "                   train_time, test_time, \"Adam optimizer\"]\n",
        "\n",
        "results"
      ]
    },
    {
      "cell_type": "markdown",
      "source": [
        "## Kaggle Submission"
      ],
      "metadata": {
        "id": "rmmz4jHPI-Gc"
      }
    },
    {
      "cell_type": "code",
      "source": [
        "test = datasets['application_test']\n",
        "test = test.merge(PA_df, how='left', on='SK_ID_CURR')\n",
        "test = test.merge(PCB_df, how='left', on='SK_ID_CURR')\n",
        "test = test.merge(IP_df, how='left', on='SK_ID_CURR')\n",
        "test = test.merge(B_df, how='left', on='SK_ID_CURR')\n",
        "test = test.merge(CCB_df, how='left', on='SK_ID_CURR')\n",
        "\n",
        "test[\"REGION_POPULATION_RELATIVE*DAYS_ID_PUBLISH\"] = test['REGION_POPULATION_RELATIVE'] * test['DAYS_ID_PUBLISH']\n",
        "test[\"AMT_CREDIT/AMT_GOODS_PRICE\"] = test['AMT_CREDIT'] / test['AMT_GOODS_PRICE']\n",
        "test[\"DEF_30_CNT_SOCIAL_CIRCLE/OBS_30_CNT_SOCIAL_CIRCLE\"] = test['DEF_30_CNT_SOCIAL_CIRCLE'] / test['OBS_30_CNT_SOCIAL_CIRCLE']\n",
        "test[\"DAYS_BIRTH+DAYS_LAST_PHONE_CHANGE\"] = test['DAYS_BIRTH'] + test['DAYS_LAST_PHONE_CHANGE']\n",
        "test[\"DEF_30_CNT_SOCIAL_CIRCLE+DEF_60_CNT_SOCIAL_CIRCLE\"] = test['DEF_30_CNT_SOCIAL_CIRCLE'] + test['DEF_60_CNT_SOCIAL_CIRCLE']\n",
        "test[\"AMT_GOODS_PRICE+DAYS_EMPLOYED\"] = test['AMT_GOODS_PRICE'] + test['DAYS_EMPLOYED']\n",
        "test[\"REGION_POPULATION_RELATIVE*AMT_GOODS_PRICE\"] = test['REGION_POPULATION_RELATIVE'] * test['AMT_GOODS_PRICE']\n",
        "\n",
        "test[\"DAYS_LAST_PHONE_CHANGE+CNT_PAYMENT\"] = test[\"DAYS_LAST_PHONE_CHANGE\"] + test[\"CNT_PAYMENT\"]\n",
        "test[\"DAYS_BIRTH+MONTHS_BALANCE\"] = test[\"DAYS_BIRTH\"] + test[\"MONTHS_BALANCE_x\"]\n",
        "test[\"DAYS_LAST_PHONE_CHANGE+DAYS_ENTRY_PAYMENT\"] = test[\"DAYS_LAST_PHONE_CHANGE\"] + test[\"DAYS_ENTRY_PAYMENT\"]\n",
        "test[\"DAYS_BIRTH*DAYS_CREDIT\"] = test[\"DAYS_BIRTH\"] * test[\"DAYS_CREDIT\"]"
      ],
      "metadata": {
        "id": "KfxFw9gJI_fE"
      },
      "execution_count": null,
      "outputs": []
    },
    {
      "cell_type": "code",
      "source": [
        "# convert test to tensor\n",
        "test_numpy = scaler.transform(test)\n",
        "test_tensor = torch.from_numpy(test_numpy).float()\n",
        "\n",
        "preds = model(test_tensor)[:, 0].detach().numpy()\n",
        "submit_df = test[['SK_ID_CURR']]\n",
        "submit_df['TARGET'] = preds\n",
        "\n",
        "submit_df.to_csv(\"submission.csv\",index=False)\n",
        "\n",
        "submit_df.head()"
      ],
      "metadata": {
        "colab": {
          "base_uri": "https://localhost:8080/",
          "height": 206
        },
        "id": "ecwQlZ1KJBLV",
        "outputId": "5a913eac-c126-47dc-c64d-646035ccab23"
      },
      "execution_count": null,
      "outputs": [
        {
          "output_type": "execute_result",
          "data": {
            "text/html": [
              "<div>\n",
              "<style scoped>\n",
              "    .dataframe tbody tr th:only-of-type {\n",
              "        vertical-align: middle;\n",
              "    }\n",
              "\n",
              "    .dataframe tbody tr th {\n",
              "        vertical-align: top;\n",
              "    }\n",
              "\n",
              "    .dataframe thead th {\n",
              "        text-align: right;\n",
              "    }\n",
              "</style>\n",
              "<table border=\"1\" class=\"dataframe\">\n",
              "  <thead>\n",
              "    <tr style=\"text-align: right;\">\n",
              "      <th></th>\n",
              "      <th>SK_ID_CURR</th>\n",
              "      <th>TARGET</th>\n",
              "    </tr>\n",
              "  </thead>\n",
              "  <tbody>\n",
              "    <tr>\n",
              "      <th>0</th>\n",
              "      <td>100001</td>\n",
              "      <td>0.040534</td>\n",
              "    </tr>\n",
              "    <tr>\n",
              "      <th>1</th>\n",
              "      <td>100005</td>\n",
              "      <td>0.196219</td>\n",
              "    </tr>\n",
              "    <tr>\n",
              "      <th>2</th>\n",
              "      <td>100013</td>\n",
              "      <td>0.023798</td>\n",
              "    </tr>\n",
              "    <tr>\n",
              "      <th>3</th>\n",
              "      <td>100028</td>\n",
              "      <td>0.053782</td>\n",
              "    </tr>\n",
              "    <tr>\n",
              "      <th>4</th>\n",
              "      <td>100038</td>\n",
              "      <td>0.170401</td>\n",
              "    </tr>\n",
              "  </tbody>\n",
              "</table>\n",
              "</div>"
            ],
            "text/plain": [
              "   SK_ID_CURR    TARGET\n",
              "0      100001  0.040534\n",
              "1      100005  0.196219\n",
              "2      100013  0.023798\n",
              "3      100028  0.053782\n",
              "4      100038  0.170401"
            ]
          },
          "metadata": {},
          "execution_count": 154
        }
      ]
    },
    {
      "cell_type": "code",
      "source": [
        "! kaggle competitions submit -c home-credit-default-risk -f submission.csv -m \"NN submission\""
      ],
      "metadata": {
        "colab": {
          "base_uri": "https://localhost:8080/"
        },
        "id": "DdlVKIJkJFn3",
        "outputId": "a6b72f7a-e2ad-4f63-e012-72644c34b5a2"
      },
      "execution_count": null,
      "outputs": [
        {
          "output_type": "stream",
          "name": "stdout",
          "text": [
            "Warning: Your Kaggle API key is readable by other users on this system! To fix this, you can run 'chmod 600 /root/.kaggle/kaggle.json'\n",
            "Warning: Looks like you're using an outdated API Version, please consider updating (server 1.5.12 / client 1.5.4)\n",
            "100% 878k/878k [00:00<00:00, 4.15MB/s]\n",
            "Successfully submitted to Home Credit Default Risk"
          ]
        }
      ]
    },
    {
      "cell_type": "markdown",
      "metadata": {
        "id": "7KzzR40son2F"
      },
      "source": [
        "# More Layers"
      ]
    },
    {
      "cell_type": "code",
      "execution_count": null,
      "metadata": {
        "id": "mOYPihFpo6M0"
      },
      "outputs": [],
      "source": [
        "train = datasets['application_train']\n",
        "train = train.merge(PA_df, how='left', on='SK_ID_CURR')\n",
        "train = train.merge(PCB_df, how='left', on='SK_ID_CURR')\n",
        "train = train.merge(IP_df, how='left', on='SK_ID_CURR')\n",
        "train = train.merge(B_df, how='left', on='SK_ID_CURR')\n",
        "train = train.merge(CCB_df, how='left', on='SK_ID_CURR')\n",
        "\n",
        "train[\"REGION_POPULATION_RELATIVE*DAYS_ID_PUBLISH\"] = train['REGION_POPULATION_RELATIVE'] * train['DAYS_ID_PUBLISH']\n",
        "train[\"AMT_CREDIT/AMT_GOODS_PRICE\"] = train['AMT_CREDIT'] / train['AMT_GOODS_PRICE']\n",
        "train[\"DEF_30_CNT_SOCIAL_CIRCLE/OBS_30_CNT_SOCIAL_CIRCLE\"] = train['DEF_30_CNT_SOCIAL_CIRCLE'] / train['OBS_30_CNT_SOCIAL_CIRCLE']\n",
        "train[\"DAYS_BIRTH+DAYS_LAST_PHONE_CHANGE\"] = train['DAYS_BIRTH'] + train['DAYS_LAST_PHONE_CHANGE']\n",
        "train[\"DEF_30_CNT_SOCIAL_CIRCLE+DEF_60_CNT_SOCIAL_CIRCLE\"] = train['DEF_30_CNT_SOCIAL_CIRCLE'] + train['DEF_60_CNT_SOCIAL_CIRCLE']\n",
        "train[\"AMT_GOODS_PRICE+DAYS_EMPLOYED\"] = train['AMT_GOODS_PRICE'] + train['DAYS_EMPLOYED']\n",
        "train[\"REGION_POPULATION_RELATIVE*AMT_GOODS_PRICE\"] = train['REGION_POPULATION_RELATIVE'] * train['AMT_GOODS_PRICE']\n",
        "\n",
        "train[\"DAYS_LAST_PHONE_CHANGE+CNT_PAYMENT\"] = train[\"DAYS_LAST_PHONE_CHANGE\"] + train[\"CNT_PAYMENT\"]\n",
        "train[\"DAYS_BIRTH+MONTHS_BALANCE\"] = train[\"DAYS_BIRTH\"] + train[\"MONTHS_BALANCE_x\"]\n",
        "train[\"DAYS_LAST_PHONE_CHANGE+DAYS_ENTRY_PAYMENT\"] = train[\"DAYS_LAST_PHONE_CHANGE\"] + train[\"DAYS_ENTRY_PAYMENT\"]\n",
        "train[\"DAYS_BIRTH*DAYS_CREDIT\"] = train[\"DAYS_BIRTH\"] * train[\"DAYS_CREDIT\"]"
      ]
    },
    {
      "cell_type": "code",
      "execution_count": null,
      "metadata": {
        "id": "NCDV8lSko65s"
      },
      "outputs": [],
      "source": [
        "cat_features = [\n",
        "  \"FLAG_DOCUMENT_3\", \"REGION_RATING_CLIENT\", \"REGION_RATING_CLIENT_W_CITY\",\n",
        "  \"NAME_INCOME_TYPE\", \"NAME_EDUCATION_TYPE\", \"HOUR_APPR_PROCESS_START\",\n",
        "  \"OCCUPATION_TYPE\", \"FLAG_DOCUMENT_4\",\n",
        "  \"REG_CITY_NOT_WORK_CITY\", \"REG_CITY_NOT_LIVE_CITY\",\n",
        "\n",
        "  \"NAME_SELLER_INDUSTRY\", \"NAME_PORTFOLIO\", \"CREDIT_TYPE\", \"CREDIT_ACTIVE\",\n",
        "\n",
        "  \"STATUS_MIN\", \"STATUS_MAX\"\n",
        "]\n",
        "\n",
        "num_features = [\n",
        "  \"EXT_SOURCE_3\", \"EXT_SOURCE_2\", \"EXT_SOURCE_1\", \"FLOORSMAX_AVG\",\n",
        "  \"AMT_GOODS_PRICE\", \"REGION_POPULATION_RELATIVE\",\n",
        "  \"ELEVATORS_AVG\", \"DAYS_LAST_PHONE_CHANGE\", \"DAYS_BIRTH\", \"DAYS_ID_PUBLISH\",\n",
        "  \"DAYS_EMPLOYED\", \"FLOORSMIN_AVG\", \"TOTALAREA_MODE\", \"APARTMENTS_AVG\",\n",
        "  \"LIVINGAPARTMENTS_AVG\", \"DAYS_REGISTRATION\", \"OWN_CAR_AGE\",\n",
        "  \"DEF_30_CNT_SOCIAL_CIRCLE\", \"DEF_60_CNT_SOCIAL_CIRCLE\",\n",
        "\n",
        "  \"REGION_POPULATION_RELATIVE*DAYS_ID_PUBLISH\", \"AMT_CREDIT/AMT_GOODS_PRICE\",\n",
        "  \"DEF_30_CNT_SOCIAL_CIRCLE/OBS_30_CNT_SOCIAL_CIRCLE\",\n",
        "  \"DAYS_BIRTH+DAYS_LAST_PHONE_CHANGE\",\n",
        "  \"DEF_30_CNT_SOCIAL_CIRCLE+DEF_60_CNT_SOCIAL_CIRCLE\",\n",
        "  \"AMT_GOODS_PRICE+DAYS_EMPLOYED\", \"REGION_POPULATION_RELATIVE*AMT_GOODS_PRICE\",\n",
        "\n",
        "  \"CNT_INSTALMENT\", \"MONTHS_BALANCE_x\", \"DAYS_ENTRY_PAYMENT\", \"DAYS_INSTALMENT\",\n",
        "  \"DAYS_CREDIT\", \"AMT_BALANCE\", \"MONTHS_BALANCE_y\", \"AMT_CREDIT_LIMIT_ACTUAL\",\n",
        "\n",
        "  \"DAYS_LAST_PHONE_CHANGE+CNT_PAYMENT\", \"DAYS_BIRTH+MONTHS_BALANCE\",\n",
        "  \"DAYS_LAST_PHONE_CHANGE+DAYS_ENTRY_PAYMENT\", \"DAYS_BIRTH*DAYS_CREDIT\",\n",
        "\n",
        "  \"PREV_CNT_INSTALMENT\",\"PREV_CNT_INSTALMENT_FUTURE\",\n",
        "  \"PREV_PCB_MONTHS_BALANCE\",\"PREV_AMT_INSTALMENT\",\"PREV_AMT_PAYMENT\",\n",
        "  \"PREV_DAYS_INSTALMENT\",\"PREV_DAYS_ENTRY_PAYMENT\",\"PREV_AMT_BALANCE\",\n",
        "  \"PREV_CCB_MONTHS_BALANCE\",\"PREV_AMT_CREDIT_LIMIT_ACTUAL\",\n",
        "  \"MONTHS_BALANCE_MIN\",\"STATUS_COUNT\"\n",
        "]"
      ]
    },
    {
      "cell_type": "code",
      "execution_count": null,
      "metadata": {
        "id": "I72su8-ro9ss"
      },
      "outputs": [],
      "source": [
        "import torch\n",
        "import torch.nn as nn\n",
        "import numpy as np\n",
        "import torch.optim as optim\n",
        "from sklearn.model_selection import train_test_split\n",
        "train_x = train.loc[:, train.columns != \"TARGET\"]\n",
        "train_y = train['TARGET']\n",
        "train_x, test_x, train_y, test_y = train_test_split(train_x, train_y, test_size=0.15, stratify=train_y, random_state=30)"
      ]
    },
    {
      "cell_type": "code",
      "execution_count": null,
      "metadata": {
        "id": "z_6f5P-tpAGu"
      },
      "outputs": [],
      "source": [
        "from sklearn.base import BaseEstimator, TransformerMixin\n",
        "from sklearn.pipeline import Pipeline\n",
        "from sklearn.pipeline import FeatureUnion\n",
        "from sklearn.preprocessing import StandardScaler\n",
        "from sklearn.impute import SimpleImputer\n",
        "from sklearn.preprocessing import OneHotEncoder\n",
        "from sklearn.linear_model import LogisticRegression\n",
        "from sklearn.metrics import roc_auc_score\n",
        "\n",
        "# custom layer to get columns we want from DataFrame\n",
        "class DataFrameSelector(BaseEstimator, TransformerMixin):\n",
        "  def __init__(self, attribute_names):\n",
        "    self.attribute_names = attribute_names\n",
        "  def fit(self, X, y=None):\n",
        "    return self\n",
        "  def transform(self, X):\n",
        "    return X[self.attribute_names].values\n",
        "def pct(x):\n",
        "    return round(100*x,1)\n",
        "num_pipeline = Pipeline([\n",
        "  ('selector', DataFrameSelector(num_features)),\n",
        "  ('imputer', SimpleImputer(strategy='median')),\n",
        "  ('std_scaler', StandardScaler()),\n",
        "])\n",
        "\n",
        "cat_pipeline = Pipeline([\n",
        "  ('selector', DataFrameSelector(cat_features)),\n",
        "  ('imputer', SimpleImputer(strategy='constant')),\n",
        "  ('ohe', OneHotEncoder(sparse=False, handle_unknown=\"ignore\")),\n",
        "])\n",
        "\n",
        "preprocess_pipeline = FeatureUnion(transformer_list=[\n",
        "  (\"num_pipeline\", num_pipeline),\n",
        "  (\"cat_pipeline\", cat_pipeline),\n",
        "])\n",
        "\n",
        "\n",
        "scaler = preprocess_pipeline.fit(train_x, train_y)\n",
        "\n",
        "train_x = scaler.transform(train_x)\n",
        "test_x = scaler.transform(test_x)"
      ]
    },
    {
      "cell_type": "code",
      "execution_count": null,
      "metadata": {
        "id": "JyKo56JDpDF3"
      },
      "outputs": [],
      "source": [
        "# to tensors\n",
        "train_x_tensor = torch.from_numpy(train_x).float()\n",
        "test_x_tensor = torch.from_numpy(test_x).float()\n",
        "train_y_tensor = torch.from_numpy(np.array(train_y)).float()\n",
        "test_y_tensor = torch.from_numpy(np.array(test_y)).float()"
      ]
    },
    {
      "cell_type": "code",
      "execution_count": null,
      "metadata": {
        "id": "LjqRX-3rpHAx"
      },
      "outputs": [],
      "source": [
        "# globals\n",
        "# note: realistically we can only get 20 epochs before overfitting\n",
        "batch_size = 64\n",
        "num_epochs = 20\n",
        "num_in = train_x.shape[1]\n",
        "num_output = 2"
      ]
    },
    {
      "cell_type": "code",
      "execution_count": null,
      "metadata": {
        "id": "fkOGh6HSpFBy"
      },
      "outputs": [],
      "source": [
        "# create data loaders\n",
        "train_set = torch.utils.data.TensorDataset(train_x_tensor, train_y_tensor)\n",
        "data_loader = torch.utils.data.DataLoader(train_set, batch_size=batch_size, shuffle=True)"
      ]
    },
    {
      "cell_type": "code",
      "execution_count": null,
      "metadata": {
        "id": "F4pxqgJ4opDC"
      },
      "outputs": [],
      "source": [
        "class CustomModel(nn.Module):\n",
        "  def __init__(self):\n",
        "    super().__init__()\n",
        "    self.linear = nn.Sequential(\n",
        "        nn.Linear(num_in, 256),\n",
        "        nn.ReLU(),\n",
        "        nn.BatchNorm1d(256),\n",
        "        nn.Linear(256, 512),\n",
        "        nn.ReLU(),\n",
        "        nn.BatchNorm1d(512),\n",
        "        nn.Linear(512, 256),\n",
        "        nn.ReLU(),\n",
        "        nn.BatchNorm1d(256),\n",
        "        nn.Linear(256, 128),\n",
        "        nn.ReLU(),\n",
        "        nn.BatchNorm1d(128),\n",
        "        nn.Linear(128, 64),\n",
        "        nn.ReLU(),\n",
        "        nn.BatchNorm1d(64),\n",
        "        nn.Linear(64, 32),\n",
        "        nn.ReLU(),\n",
        "        nn.BatchNorm1d(32),\n",
        "        nn.Dropout(0.1),\n",
        "        nn.Linear(32, num_output)\n",
        "    )\n",
        "\n",
        "  def forward(self, x):\n",
        "    out = self.linear(x)\n",
        "    return nn.functional.softmax(out)\n",
        "\n",
        "model = CustomModel()\n",
        "opt = optim.Adam(model.parameters(), lr=0.0001)\n",
        "loss_fn = nn.BCELoss()"
      ]
    },
    {
      "cell_type": "code",
      "execution_count": null,
      "metadata": {
        "id": "GE2sF3fWpI1J"
      },
      "outputs": [],
      "source": [
        "from time import time\n",
        "\n",
        "losses = []\n",
        "roc_scores = []\n",
        "test_roc_scores = []\n",
        "epochs = num_epochs\n",
        "\n",
        "start = time()\n",
        "for epoch in range(epochs):\n",
        "  running_loss = 0.0\n",
        "  running_auc = 0.0\n",
        "  num_train_auc = 0\n",
        "  for batch, data in enumerate(data_loader):\n",
        "    input, labels = data[0], data[1]\n",
        "\n",
        "    opt.zero_grad()\n",
        "    pred = model(input)[:, 0]\n",
        "    loss = loss_fn(pred, labels)\n",
        "    loss.backward()\n",
        "    opt.step()\n",
        "\n",
        "    running_loss += loss.detach()\n",
        "    try:\n",
        "      running_auc += roc_auc_score(labels, pred.detach().numpy())\n",
        "      num_train_auc += 1\n",
        "    except: pass\n",
        "\n",
        "  losses.append(running_loss/batch_size)\n",
        "  roc_scores.append(running_auc/num_train_auc)\n",
        "  preds = model(test_x_tensor)[:,0].detach().numpy()\n",
        "  test_roc_scores.append(roc_auc_score(test_y, preds))\n",
        "train_time = time() - start"
      ]
    },
    {
      "cell_type": "code",
      "execution_count": null,
      "metadata": {
        "colab": {
          "base_uri": "https://localhost:8080/",
          "height": 282
        },
        "id": "94DaaUHepOQ7",
        "outputId": "be7b9cca-ff28-4f8b-feca-020cc73b0e0f"
      },
      "outputs": [
        {
          "output_type": "execute_result",
          "data": {
            "text/plain": [
              "[<matplotlib.lines.Line2D at 0x7fa912314190>]"
            ]
          },
          "metadata": {},
          "execution_count": 86
        },
        {
          "output_type": "display_data",
          "data": {
            "image/png": "[encoded data removed]",
            "text/plain": [
              "<Figure size 432x288 with 1 Axes>"
            ]
          },
          "metadata": {
            "needs_background": "light"
          }
        }
      ],
      "source": [
        "import matplotlib.pyplot as plt\n",
        "\n",
        "plt.plot(range(epochs), losses)"
      ]
    },
    {
      "cell_type": "code",
      "execution_count": null,
      "metadata": {
        "colab": {
          "base_uri": "https://localhost:8080/",
          "height": 282
        },
        "id": "tFHQoPDK5dyY",
        "outputId": "980362fc-8dd3-475c-9ea1-17a6d01485eb"
      },
      "outputs": [
        {
          "output_type": "execute_result",
          "data": {
            "text/plain": [
              "<matplotlib.legend.Legend at 0x7fa9188ece50>"
            ]
          },
          "metadata": {},
          "execution_count": 87
        },
        {
          "output_type": "display_data",
          "data": {
            "image/png": "[encoded data removed]",
            "text/plain": [
              "<Figure size 432x288 with 1 Axes>"
            ]
          },
          "metadata": {
            "needs_background": "light"
          }
        }
      ],
      "source": [
        "plt.plot(range(epochs), roc_scores, label=\"train AUC\")\n",
        "plt.plot(range(epochs), test_roc_scores, label=\"test AUC\")\n",
        "plt.legend()"
      ]
    },
    {
      "cell_type": "code",
      "execution_count": null,
      "metadata": {
        "id": "IXhpsgaHpic8"
      },
      "outputs": [],
      "source": [
        "start = time()\n",
        "preds = model(test_x_tensor)[:,0].detach().numpy()\n",
        "roc = roc_auc_score(test_y, preds)\n",
        "test_time = time() - start\n",
        "\n",
        "acc = np.sum(np.round(preds) == test_y) / len(test_y)"
      ]
    },
    {
      "cell_type": "code",
      "execution_count": null,
      "metadata": {
        "colab": {
          "base_uri": "https://localhost:8080/",
          "height": 175
        },
        "id": "XYl-MJ4mplTa",
        "outputId": "4da0bf0d-ee94-4a84-c5db-ce18d0bdc630"
      },
      "outputs": [
        {
          "output_type": "execute_result",
          "data": {
            "text/html": [
              "<div>\n",
              "<style scoped>\n",
              "    .dataframe tbody tr th:only-of-type {\n",
              "        vertical-align: middle;\n",
              "    }\n",
              "\n",
              "    .dataframe tbody tr th {\n",
              "        vertical-align: top;\n",
              "    }\n",
              "\n",
              "    .dataframe thead th {\n",
              "        text-align: right;\n",
              "    }\n",
              "</style>\n",
              "<table border=\"1\" class=\"dataframe\">\n",
              "  <thead>\n",
              "    <tr style=\"text-align: right;\">\n",
              "      <th></th>\n",
              "      <th>ExpID</th>\n",
              "      <th>ROC AUC Score</th>\n",
              "      <th>Cross fold train accuracy</th>\n",
              "      <th>Test Accuracy</th>\n",
              "      <th>Train Time(s)</th>\n",
              "      <th>Test Time(s)</th>\n",
              "      <th>Experiment description</th>\n",
              "    </tr>\n",
              "  </thead>\n",
              "  <tbody>\n",
              "    <tr>\n",
              "      <th>0</th>\n",
              "      <td>Deep Learning</td>\n",
              "      <td>0.739418</td>\n",
              "      <td>--</td>\n",
              "      <td>--</td>\n",
              "      <td>1075.331878</td>\n",
              "      <td>0.037791</td>\n",
              "      <td>Deep Learning w/ Application Data</td>\n",
              "    </tr>\n",
              "    <tr>\n",
              "      <th>1</th>\n",
              "      <td>Deep Learning</td>\n",
              "      <td>0.758407</td>\n",
              "      <td>--</td>\n",
              "      <td>--</td>\n",
              "      <td>1400.716561</td>\n",
              "      <td>0.048049</td>\n",
              "      <td>Deep Learning w/ all other data</td>\n",
              "    </tr>\n",
              "    <tr>\n",
              "      <th>2</th>\n",
              "      <td>Deep Learning</td>\n",
              "      <td>0.758383</td>\n",
              "      <td>--</td>\n",
              "      <td>0.917359</td>\n",
              "      <td>254.027061</td>\n",
              "      <td>0.046805</td>\n",
              "      <td>Adam optimizer</td>\n",
              "    </tr>\n",
              "    <tr>\n",
              "      <th>3</th>\n",
              "      <td>Deep Learning</td>\n",
              "      <td>0.671086</td>\n",
              "      <td>--</td>\n",
              "      <td>0.906519</td>\n",
              "      <td>995.408674</td>\n",
              "      <td>0.873410</td>\n",
              "      <td>More layers</td>\n",
              "    </tr>\n",
              "  </tbody>\n",
              "</table>\n",
              "</div>"
            ],
            "text/plain": [
              "           ExpID  ...             Experiment description\n",
              "0  Deep Learning  ...  Deep Learning w/ Application Data\n",
              "1  Deep Learning  ...    Deep Learning w/ all other data\n",
              "2  Deep Learning  ...                     Adam optimizer\n",
              "3  Deep Learning  ...                        More layers\n",
              "\n",
              "[4 rows x 7 columns]"
            ]
          },
          "metadata": {},
          "execution_count": 89
        }
      ],
      "source": [
        "results.loc[3] = [\"Deep Learning\", roc, \"--\", acc, \n",
        "                   train_time, test_time, \"More layers\"]\n",
        "\n",
        "results"
      ]
    },
    {
      "cell_type": "markdown",
      "metadata": {
        "id": "p89sIJSEHloN"
      },
      "source": [
        "# K-Fold Training"
      ]
    },
    {
      "cell_type": "code",
      "execution_count": null,
      "metadata": {
        "id": "x3K_zeIwHniM"
      },
      "outputs": [],
      "source": [
        "train = datasets['application_train']\n",
        "train = train.merge(PA_df, how='left', on='SK_ID_CURR')\n",
        "train = train.merge(PCB_df, how='left', on='SK_ID_CURR')\n",
        "train = train.merge(IP_df, how='left', on='SK_ID_CURR')\n",
        "train = train.merge(B_df, how='left', on='SK_ID_CURR')\n",
        "train = train.merge(CCB_df, how='left', on='SK_ID_CURR')\n",
        "\n",
        "train[\"REGION_POPULATION_RELATIVE*DAYS_ID_PUBLISH\"] = train['REGION_POPULATION_RELATIVE'] * train['DAYS_ID_PUBLISH']\n",
        "train[\"AMT_CREDIT/AMT_GOODS_PRICE\"] = train['AMT_CREDIT'] / train['AMT_GOODS_PRICE']\n",
        "train[\"DEF_30_CNT_SOCIAL_CIRCLE/OBS_30_CNT_SOCIAL_CIRCLE\"] = train['DEF_30_CNT_SOCIAL_CIRCLE'] / train['OBS_30_CNT_SOCIAL_CIRCLE']\n",
        "train[\"DAYS_BIRTH+DAYS_LAST_PHONE_CHANGE\"] = train['DAYS_BIRTH'] + train['DAYS_LAST_PHONE_CHANGE']\n",
        "train[\"DEF_30_CNT_SOCIAL_CIRCLE+DEF_60_CNT_SOCIAL_CIRCLE\"] = train['DEF_30_CNT_SOCIAL_CIRCLE'] + train['DEF_60_CNT_SOCIAL_CIRCLE']\n",
        "train[\"AMT_GOODS_PRICE+DAYS_EMPLOYED\"] = train['AMT_GOODS_PRICE'] + train['DAYS_EMPLOYED']\n",
        "train[\"REGION_POPULATION_RELATIVE*AMT_GOODS_PRICE\"] = train['REGION_POPULATION_RELATIVE'] * train['AMT_GOODS_PRICE']\n",
        "\n",
        "train[\"DAYS_LAST_PHONE_CHANGE+CNT_PAYMENT\"] = train[\"DAYS_LAST_PHONE_CHANGE\"] + train[\"CNT_PAYMENT\"]\n",
        "train[\"DAYS_BIRTH+MONTHS_BALANCE\"] = train[\"DAYS_BIRTH\"] + train[\"MONTHS_BALANCE_x\"]\n",
        "train[\"DAYS_LAST_PHONE_CHANGE+DAYS_ENTRY_PAYMENT\"] = train[\"DAYS_LAST_PHONE_CHANGE\"] + train[\"DAYS_ENTRY_PAYMENT\"]\n",
        "train[\"DAYS_BIRTH*DAYS_CREDIT\"] = train[\"DAYS_BIRTH\"] * train[\"DAYS_CREDIT\"]"
      ]
    },
    {
      "cell_type": "code",
      "execution_count": null,
      "metadata": {
        "id": "bAyyEQ-eHqCd"
      },
      "outputs": [],
      "source": [
        "cat_features = [\n",
        "  \"FLAG_DOCUMENT_3\", \"REGION_RATING_CLIENT\", \"REGION_RATING_CLIENT_W_CITY\",\n",
        "  \"NAME_INCOME_TYPE\", \"NAME_EDUCATION_TYPE\", \"HOUR_APPR_PROCESS_START\",\n",
        "  \"OCCUPATION_TYPE\", \"FLAG_DOCUMENT_4\",\n",
        "  \"REG_CITY_NOT_WORK_CITY\", \"REG_CITY_NOT_LIVE_CITY\",\n",
        "\n",
        "  \"NAME_SELLER_INDUSTRY\", \"NAME_PORTFOLIO\", \"CREDIT_TYPE\", \"CREDIT_ACTIVE\",\n",
        "\n",
        "  \"STATUS_MIN\", \"STATUS_MAX\"\n",
        "]\n",
        "\n",
        "num_features = [\n",
        "  \"EXT_SOURCE_3\", \"EXT_SOURCE_2\", \"EXT_SOURCE_1\", \"FLOORSMAX_AVG\",\n",
        "  \"AMT_GOODS_PRICE\", \"REGION_POPULATION_RELATIVE\",\n",
        "  \"ELEVATORS_AVG\", \"DAYS_LAST_PHONE_CHANGE\", \"DAYS_BIRTH\", \"DAYS_ID_PUBLISH\",\n",
        "  \"DAYS_EMPLOYED\", \"FLOORSMIN_AVG\", \"TOTALAREA_MODE\", \"APARTMENTS_AVG\",\n",
        "  \"LIVINGAPARTMENTS_AVG\", \"DAYS_REGISTRATION\", \"OWN_CAR_AGE\",\n",
        "  \"DEF_30_CNT_SOCIAL_CIRCLE\", \"DEF_60_CNT_SOCIAL_CIRCLE\",\n",
        "\n",
        "  \"REGION_POPULATION_RELATIVE*DAYS_ID_PUBLISH\", \"AMT_CREDIT/AMT_GOODS_PRICE\",\n",
        "  \"DEF_30_CNT_SOCIAL_CIRCLE/OBS_30_CNT_SOCIAL_CIRCLE\",\n",
        "  \"DAYS_BIRTH+DAYS_LAST_PHONE_CHANGE\",\n",
        "  \"DEF_30_CNT_SOCIAL_CIRCLE+DEF_60_CNT_SOCIAL_CIRCLE\",\n",
        "  \"AMT_GOODS_PRICE+DAYS_EMPLOYED\", \"REGION_POPULATION_RELATIVE*AMT_GOODS_PRICE\",\n",
        "\n",
        "  \"CNT_INSTALMENT\", \"MONTHS_BALANCE_x\", \"DAYS_ENTRY_PAYMENT\", \"DAYS_INSTALMENT\",\n",
        "  \"DAYS_CREDIT\", \"AMT_BALANCE\", \"MONTHS_BALANCE_y\", \"AMT_CREDIT_LIMIT_ACTUAL\",\n",
        "\n",
        "  \"DAYS_LAST_PHONE_CHANGE+CNT_PAYMENT\", \"DAYS_BIRTH+MONTHS_BALANCE\",\n",
        "  \"DAYS_LAST_PHONE_CHANGE+DAYS_ENTRY_PAYMENT\", \"DAYS_BIRTH*DAYS_CREDIT\",\n",
        "\n",
        "  \"PREV_CNT_INSTALMENT\",\"PREV_CNT_INSTALMENT_FUTURE\",\n",
        "  \"PREV_PCB_MONTHS_BALANCE\",\"PREV_AMT_INSTALMENT\",\"PREV_AMT_PAYMENT\",\n",
        "  \"PREV_DAYS_INSTALMENT\",\"PREV_DAYS_ENTRY_PAYMENT\",\"PREV_AMT_BALANCE\",\n",
        "  \"PREV_CCB_MONTHS_BALANCE\",\"PREV_AMT_CREDIT_LIMIT_ACTUAL\",\n",
        "  \"MONTHS_BALANCE_MIN\",\"STATUS_COUNT\"\n",
        "]"
      ]
    },
    {
      "cell_type": "code",
      "execution_count": null,
      "metadata": {
        "id": "fAD-y-A6HsQu"
      },
      "outputs": [],
      "source": [
        "import torch\n",
        "import torch.nn as nn\n",
        "import numpy as np\n",
        "import torch.optim as optim\n",
        "from sklearn.model_selection import train_test_split\n",
        "train_x = train.loc[:, train.columns != \"TARGET\"]\n",
        "train_y = train['TARGET']\n",
        "train_x, test_x, train_y, test_y = train_test_split(train_x, train_y, test_size=0.15, stratify=train_y, random_state=30)"
      ]
    },
    {
      "cell_type": "code",
      "execution_count": null,
      "metadata": {
        "id": "ujY1UUeUHvDH"
      },
      "outputs": [],
      "source": [
        "from sklearn.base import BaseEstimator, TransformerMixin\n",
        "from sklearn.pipeline import Pipeline\n",
        "from sklearn.pipeline import FeatureUnion\n",
        "from sklearn.preprocessing import StandardScaler\n",
        "from sklearn.impute import SimpleImputer\n",
        "from sklearn.preprocessing import OneHotEncoder\n",
        "from sklearn.linear_model import LogisticRegression\n",
        "from sklearn.metrics import roc_auc_score\n",
        "from sklearn.model_selection import KFold\n",
        "\n",
        "# custom layer to get columns we want from DataFrame\n",
        "class DataFrameSelector(BaseEstimator, TransformerMixin):\n",
        "  def __init__(self, attribute_names):\n",
        "    self.attribute_names = attribute_names\n",
        "  def fit(self, X, y=None):\n",
        "    return self\n",
        "  def transform(self, X):\n",
        "    return X[self.attribute_names].values\n",
        "def pct(x):\n",
        "    return round(100*x,1)\n",
        "num_pipeline = Pipeline([\n",
        "  ('selector', DataFrameSelector(num_features)),\n",
        "  ('imputer', SimpleImputer(strategy='median')),\n",
        "  ('std_scaler', StandardScaler()),\n",
        "])\n",
        "\n",
        "cat_pipeline = Pipeline([\n",
        "  ('selector', DataFrameSelector(cat_features)),\n",
        "  ('imputer', SimpleImputer(strategy='constant')),\n",
        "  ('ohe', OneHotEncoder(sparse=False, handle_unknown=\"ignore\")),\n",
        "])\n",
        "\n",
        "preprocess_pipeline = FeatureUnion(transformer_list=[\n",
        "  (\"num_pipeline\", num_pipeline),\n",
        "  (\"cat_pipeline\", cat_pipeline),\n",
        "])\n",
        "\n",
        "\n",
        "scaler = preprocess_pipeline.fit(train_x, train_y)\n",
        "\n",
        "train_x = scaler.transform(train_x)\n",
        "test_x = scaler.transform(test_x)"
      ]
    },
    {
      "cell_type": "code",
      "execution_count": null,
      "metadata": {
        "id": "HtZd4-OJHxjg"
      },
      "outputs": [],
      "source": [
        "# to tensors\n",
        "train_x_tensor = torch.from_numpy(train_x).float()\n",
        "test_x_tensor = torch.from_numpy(test_x).float()\n",
        "train_y_tensor = torch.from_numpy(np.array(train_y)).float()\n",
        "test_y_tensor = torch.from_numpy(np.array(test_y)).float()"
      ]
    },
    {
      "cell_type": "code",
      "execution_count": null,
      "metadata": {
        "id": "y-jvd2MMH1Hb"
      },
      "outputs": [],
      "source": [
        "# globals\n",
        "batch_size = 128\n",
        "num_epochs = 20\n",
        "num_in = train_x.shape[1]\n",
        "num_output = 2\n",
        "\n",
        "kfold = KFold(n_splits=5, shuffle=True)\n",
        "indexes_gen = kfold.split(train_x_tensor)"
      ]
    },
    {
      "cell_type": "code",
      "execution_count": null,
      "metadata": {
        "id": "DzRLFXKcH8GE"
      },
      "outputs": [],
      "source": [
        "class CustomModel(nn.Module):\n",
        "  def __init__(self):\n",
        "    super().__init__()\n",
        "    self.linear = nn.Sequential(\n",
        "        nn.Linear(num_in, 256),\n",
        "        nn.ReLU(),\n",
        "        nn.Dropout(0.2),\n",
        "        nn.BatchNorm1d(256),\n",
        "        nn.Linear(256, 512),\n",
        "        nn.ReLU(),\n",
        "        nn.BatchNorm1d(512),\n",
        "        nn.Linear(512, 256),\n",
        "        nn.ReLU(),\n",
        "        nn.BatchNorm1d(256),\n",
        "        nn.Linear(256, 128),\n",
        "        nn.ReLU(),\n",
        "        nn.Dropout(0.2),\n",
        "        nn.BatchNorm1d(128),\n",
        "        nn.Linear(128, 64),\n",
        "        nn.ReLU(),\n",
        "        nn.BatchNorm1d(64),\n",
        "        nn.Linear(64, 32),\n",
        "        nn.ReLU(),\n",
        "        nn.BatchNorm1d(32),\n",
        "        nn.Dropout(0.2),\n",
        "        nn.Linear(32, num_output)\n",
        "    )\n",
        "\n",
        "  def forward(self, x):\n",
        "    out = self.linear(x)\n",
        "    return nn.functional.softmax(out)\n",
        "\n",
        "model = CustomModel()\n",
        "opt = optim.Adam(model.parameters(), lr=0.0001)\n",
        "loss_fn = nn.BCELoss()"
      ]
    },
    {
      "cell_type": "code",
      "execution_count": null,
      "metadata": {
        "id": "o4JtWsm8inVQ"
      },
      "outputs": [],
      "source": [
        "data_loaders = []\n",
        "test_idxs = []\n",
        "for train_idx, test_idx in kfold.split(train_x_tensor):\n",
        "  dataset = torch.utils.data.TensorDataset(train_x_tensor[train_idx], train_y_tensor[train_idx])\n",
        "  data_loaders.append(torch.utils.data.DataLoader(dataset, batch_size=batch_size, shuffle=True))\n",
        "  test_idxs.append(test_idx)"
      ]
    },
    {
      "cell_type": "code",
      "execution_count": null,
      "metadata": {
        "id": "eR7VOpNfIBV7"
      },
      "outputs": [],
      "source": [
        "from time import time\n",
        "\n",
        "losses = []\n",
        "roc_scores = []\n",
        "test_roc_scores = []\n",
        "epochs = num_epochs\n",
        "curr_fold = 0\n",
        "\n",
        "start = time()\n",
        "for epoch in range(epochs):\n",
        "  # get fold\n",
        "  if curr_fold+1 >= len(data_loaders):\n",
        "    curr_fold = 0\n",
        "  data_loader = data_loaders[curr_fold]\n",
        "  test_idx = test_idxs[curr_fold]\n",
        "\n",
        "  for batch, data in enumerate(data_loader):\n",
        "    input, labels = data[0], data[1]\n",
        "\n",
        "    opt.zero_grad()\n",
        "    pred = model(input)[:, 0]\n",
        "    loss = loss_fn(pred, labels)\n",
        "    loss.backward()\n",
        "    opt.step()\n",
        "\n",
        "  # get test-train scores\n",
        "  preds = model(train_x_tensor[test_idx])[:, 0].detach()\n",
        "  loss = loss_fn(preds, train_y_tensor[test_idx]).detach()\n",
        "  try:\n",
        "    auc = roc_auc_score(train_y_tensor[test_idx], preds.detach().numpy())\n",
        "  except:\n",
        "    auc = 0\n",
        "\n",
        "  losses.append(loss)\n",
        "  roc_scores.append(auc)\n",
        "  preds = model(test_x_tensor)[:,0].detach().numpy()\n",
        "  test_roc_scores.append(roc_auc_score(test_y, preds))\n",
        "  curr_fold += 1\n",
        "train_time = time() - start"
      ]
    },
    {
      "cell_type": "code",
      "execution_count": null,
      "metadata": {
        "id": "BJB0yVyfIG3I",
        "colab": {
          "base_uri": "https://localhost:8080/",
          "height": 282
        },
        "outputId": "ed0b1d20-146e-4115-c03a-00758b209707"
      },
      "outputs": [
        {
          "output_type": "execute_result",
          "data": {
            "text/plain": [
              "[<matplotlib.lines.Line2D at 0x7fa91252b110>]"
            ]
          },
          "metadata": {},
          "execution_count": 99
        },
        {
          "output_type": "display_data",
          "data": {
            "image/png": "[encoded data removed]",
            "text/plain": [
              "<Figure size 432x288 with 1 Axes>"
            ]
          },
          "metadata": {
            "needs_background": "light"
          }
        }
      ],
      "source": [
        "import matplotlib.pyplot as plt\n",
        "\n",
        "plt.plot(range(epochs), losses)"
      ]
    },
    {
      "cell_type": "code",
      "execution_count": null,
      "metadata": {
        "id": "0c5157JaIJWp",
        "colab": {
          "base_uri": "https://localhost:8080/",
          "height": 283
        },
        "outputId": "61c9f5a8-6704-4ab1-976e-4e5e726f65ef"
      },
      "outputs": [
        {
          "output_type": "execute_result",
          "data": {
            "text/plain": [
              "<matplotlib.legend.Legend at 0x7fa913044b10>"
            ]
          },
          "metadata": {},
          "execution_count": 100
        },
        {
          "output_type": "display_data",
          "data": {
            "image/png": "[encoded data removed]",
            "text/plain": [
              "<Figure size 432x288 with 1 Axes>"
            ]
          },
          "metadata": {
            "needs_background": "light"
          }
        }
      ],
      "source": [
        "plt.plot(range(epochs), roc_scores, label=\"train AUC\")\n",
        "plt.plot(range(epochs), test_roc_scores, label=\"test AUC\")\n",
        "plt.legend()"
      ]
    },
    {
      "cell_type": "code",
      "execution_count": null,
      "metadata": {
        "id": "8L830ma8IMOD"
      },
      "outputs": [],
      "source": [
        "start = time()\n",
        "preds = model(test_x_tensor)[:,0].detach().numpy()\n",
        "roc = roc_auc_score(test_y, preds)\n",
        "test_time = time() - start\n",
        "\n",
        "acc = np.sum(np.round(preds) == test_y) / len(test_y)"
      ]
    },
    {
      "cell_type": "code",
      "execution_count": null,
      "metadata": {
        "id": "gQcZUf-6IOkT",
        "colab": {
          "base_uri": "https://localhost:8080/",
          "height": 206
        },
        "outputId": "667202c2-dce5-47e2-9a32-e2adf39c0849"
      },
      "outputs": [
        {
          "output_type": "execute_result",
          "data": {
            "text/html": [
              "<div>\n",
              "<style scoped>\n",
              "    .dataframe tbody tr th:only-of-type {\n",
              "        vertical-align: middle;\n",
              "    }\n",
              "\n",
              "    .dataframe tbody tr th {\n",
              "        vertical-align: top;\n",
              "    }\n",
              "\n",
              "    .dataframe thead th {\n",
              "        text-align: right;\n",
              "    }\n",
              "</style>\n",
              "<table border=\"1\" class=\"dataframe\">\n",
              "  <thead>\n",
              "    <tr style=\"text-align: right;\">\n",
              "      <th></th>\n",
              "      <th>ExpID</th>\n",
              "      <th>ROC AUC Score</th>\n",
              "      <th>Cross fold train accuracy</th>\n",
              "      <th>Test Accuracy</th>\n",
              "      <th>Train Time(s)</th>\n",
              "      <th>Test Time(s)</th>\n",
              "      <th>Experiment description</th>\n",
              "    </tr>\n",
              "  </thead>\n",
              "  <tbody>\n",
              "    <tr>\n",
              "      <th>0</th>\n",
              "      <td>Deep Learning</td>\n",
              "      <td>0.739418</td>\n",
              "      <td>--</td>\n",
              "      <td>--</td>\n",
              "      <td>1075.331878</td>\n",
              "      <td>0.037791</td>\n",
              "      <td>Deep Learning w/ Application Data</td>\n",
              "    </tr>\n",
              "    <tr>\n",
              "      <th>1</th>\n",
              "      <td>Deep Learning</td>\n",
              "      <td>0.758407</td>\n",
              "      <td>--</td>\n",
              "      <td>--</td>\n",
              "      <td>1400.716561</td>\n",
              "      <td>0.048049</td>\n",
              "      <td>Deep Learning w/ all other data</td>\n",
              "    </tr>\n",
              "    <tr>\n",
              "      <th>2</th>\n",
              "      <td>Deep Learning</td>\n",
              "      <td>0.758383</td>\n",
              "      <td>--</td>\n",
              "      <td>0.917359</td>\n",
              "      <td>254.027061</td>\n",
              "      <td>0.046805</td>\n",
              "      <td>Adam optimizer</td>\n",
              "    </tr>\n",
              "    <tr>\n",
              "      <th>3</th>\n",
              "      <td>Deep Learning</td>\n",
              "      <td>0.671086</td>\n",
              "      <td>--</td>\n",
              "      <td>0.906519</td>\n",
              "      <td>995.408674</td>\n",
              "      <td>0.873410</td>\n",
              "      <td>More layers</td>\n",
              "    </tr>\n",
              "    <tr>\n",
              "      <th>4</th>\n",
              "      <td>Deep Learning</td>\n",
              "      <td>0.732227</td>\n",
              "      <td>--</td>\n",
              "      <td>0.918854</td>\n",
              "      <td>510.319242</td>\n",
              "      <td>1.011763</td>\n",
              "      <td>K-Fold training</td>\n",
              "    </tr>\n",
              "  </tbody>\n",
              "</table>\n",
              "</div>"
            ],
            "text/plain": [
              "           ExpID  ...             Experiment description\n",
              "0  Deep Learning  ...  Deep Learning w/ Application Data\n",
              "1  Deep Learning  ...    Deep Learning w/ all other data\n",
              "2  Deep Learning  ...                     Adam optimizer\n",
              "3  Deep Learning  ...                        More layers\n",
              "4  Deep Learning  ...                    K-Fold training\n",
              "\n",
              "[5 rows x 7 columns]"
            ]
          },
          "metadata": {},
          "execution_count": 102
        }
      ],
      "source": [
        "results.loc[4] = [\"Deep Learning\", roc, \"--\", acc, \n",
        "                   train_time, test_time, \"K-Fold training\"]\n",
        "\n",
        "results"
      ]
    },
    {
      "cell_type": "markdown",
      "source": [
        "# Other Layer Sizes"
      ],
      "metadata": {
        "id": "R3qlLetl5AJB"
      }
    },
    {
      "cell_type": "code",
      "source": [
        "train = datasets['application_train']\n",
        "train = train.merge(PA_df, how='left', on='SK_ID_CURR')\n",
        "train = train.merge(PCB_df, how='left', on='SK_ID_CURR')\n",
        "train = train.merge(IP_df, how='left', on='SK_ID_CURR')\n",
        "train = train.merge(B_df, how='left', on='SK_ID_CURR')\n",
        "train = train.merge(CCB_df, how='left', on='SK_ID_CURR')\n",
        "\n",
        "train[\"REGION_POPULATION_RELATIVE*DAYS_ID_PUBLISH\"] = train['REGION_POPULATION_RELATIVE'] * train['DAYS_ID_PUBLISH']\n",
        "train[\"AMT_CREDIT/AMT_GOODS_PRICE\"] = train['AMT_CREDIT'] / train['AMT_GOODS_PRICE']\n",
        "train[\"DEF_30_CNT_SOCIAL_CIRCLE/OBS_30_CNT_SOCIAL_CIRCLE\"] = train['DEF_30_CNT_SOCIAL_CIRCLE'] / train['OBS_30_CNT_SOCIAL_CIRCLE']\n",
        "train[\"DAYS_BIRTH+DAYS_LAST_PHONE_CHANGE\"] = train['DAYS_BIRTH'] + train['DAYS_LAST_PHONE_CHANGE']\n",
        "train[\"DEF_30_CNT_SOCIAL_CIRCLE+DEF_60_CNT_SOCIAL_CIRCLE\"] = train['DEF_30_CNT_SOCIAL_CIRCLE'] + train['DEF_60_CNT_SOCIAL_CIRCLE']\n",
        "train[\"AMT_GOODS_PRICE+DAYS_EMPLOYED\"] = train['AMT_GOODS_PRICE'] + train['DAYS_EMPLOYED']\n",
        "train[\"REGION_POPULATION_RELATIVE*AMT_GOODS_PRICE\"] = train['REGION_POPULATION_RELATIVE'] * train['AMT_GOODS_PRICE']\n",
        "\n",
        "train[\"DAYS_LAST_PHONE_CHANGE+CNT_PAYMENT\"] = train[\"DAYS_LAST_PHONE_CHANGE\"] + train[\"CNT_PAYMENT\"]\n",
        "train[\"DAYS_BIRTH+MONTHS_BALANCE\"] = train[\"DAYS_BIRTH\"] + train[\"MONTHS_BALANCE_x\"]\n",
        "train[\"DAYS_LAST_PHONE_CHANGE+DAYS_ENTRY_PAYMENT\"] = train[\"DAYS_LAST_PHONE_CHANGE\"] + train[\"DAYS_ENTRY_PAYMENT\"]\n",
        "train[\"DAYS_BIRTH*DAYS_CREDIT\"] = train[\"DAYS_BIRTH\"] * train[\"DAYS_CREDIT\"]"
      ],
      "metadata": {
        "id": "34ZESJPX5C1Z"
      },
      "execution_count": null,
      "outputs": []
    },
    {
      "cell_type": "code",
      "source": [
        "cat_features = [\n",
        "  \"FLAG_DOCUMENT_3\", \"REGION_RATING_CLIENT\", \"REGION_RATING_CLIENT_W_CITY\",\n",
        "  \"NAME_INCOME_TYPE\", \"NAME_EDUCATION_TYPE\", \"HOUR_APPR_PROCESS_START\",\n",
        "  \"OCCUPATION_TYPE\", \"FLAG_DOCUMENT_4\",\n",
        "  \"REG_CITY_NOT_WORK_CITY\", \"REG_CITY_NOT_LIVE_CITY\",\n",
        "\n",
        "  \"NAME_SELLER_INDUSTRY\", \"NAME_PORTFOLIO\", \"CREDIT_TYPE\", \"CREDIT_ACTIVE\",\n",
        "\n",
        "  \"STATUS_MIN\", \"STATUS_MAX\"\n",
        "]\n",
        "\n",
        "num_features = [\n",
        "  \"EXT_SOURCE_3\", \"EXT_SOURCE_2\", \"EXT_SOURCE_1\", \"FLOORSMAX_AVG\",\n",
        "  \"AMT_GOODS_PRICE\", \"REGION_POPULATION_RELATIVE\",\n",
        "  \"ELEVATORS_AVG\", \"DAYS_LAST_PHONE_CHANGE\", \"DAYS_BIRTH\", \"DAYS_ID_PUBLISH\",\n",
        "  \"DAYS_EMPLOYED\", \"FLOORSMIN_AVG\", \"TOTALAREA_MODE\", \"APARTMENTS_AVG\",\n",
        "  \"LIVINGAPARTMENTS_AVG\", \"DAYS_REGISTRATION\", \"OWN_CAR_AGE\",\n",
        "  \"DEF_30_CNT_SOCIAL_CIRCLE\", \"DEF_60_CNT_SOCIAL_CIRCLE\",\n",
        "\n",
        "  \"REGION_POPULATION_RELATIVE*DAYS_ID_PUBLISH\", \"AMT_CREDIT/AMT_GOODS_PRICE\",\n",
        "  \"DEF_30_CNT_SOCIAL_CIRCLE/OBS_30_CNT_SOCIAL_CIRCLE\",\n",
        "  \"DAYS_BIRTH+DAYS_LAST_PHONE_CHANGE\",\n",
        "  \"DEF_30_CNT_SOCIAL_CIRCLE+DEF_60_CNT_SOCIAL_CIRCLE\",\n",
        "  \"AMT_GOODS_PRICE+DAYS_EMPLOYED\", \"REGION_POPULATION_RELATIVE*AMT_GOODS_PRICE\",\n",
        "\n",
        "  \"CNT_INSTALMENT\", \"MONTHS_BALANCE_x\", \"DAYS_ENTRY_PAYMENT\", \"DAYS_INSTALMENT\",\n",
        "  \"DAYS_CREDIT\", \"AMT_BALANCE\", \"MONTHS_BALANCE_y\", \"AMT_CREDIT_LIMIT_ACTUAL\",\n",
        "\n",
        "  \"DAYS_LAST_PHONE_CHANGE+CNT_PAYMENT\", \"DAYS_BIRTH+MONTHS_BALANCE\",\n",
        "  \"DAYS_LAST_PHONE_CHANGE+DAYS_ENTRY_PAYMENT\", \"DAYS_BIRTH*DAYS_CREDIT\",\n",
        "\n",
        "  \"PREV_CNT_INSTALMENT\",\"PREV_CNT_INSTALMENT_FUTURE\",\n",
        "  \"PREV_PCB_MONTHS_BALANCE\",\"PREV_AMT_INSTALMENT\",\"PREV_AMT_PAYMENT\",\n",
        "  \"PREV_DAYS_INSTALMENT\",\"PREV_DAYS_ENTRY_PAYMENT\",\"PREV_AMT_BALANCE\",\n",
        "  \"PREV_CCB_MONTHS_BALANCE\",\"PREV_AMT_CREDIT_LIMIT_ACTUAL\",\n",
        "  \"MONTHS_BALANCE_MIN\",\"STATUS_COUNT\"\n",
        "]"
      ],
      "metadata": {
        "id": "o85R3KrB5FEq"
      },
      "execution_count": null,
      "outputs": []
    },
    {
      "cell_type": "code",
      "source": [
        "import torch\n",
        "import torch.nn as nn\n",
        "import numpy as np\n",
        "import torch.optim as optim\n",
        "from sklearn.model_selection import train_test_split\n",
        "train_x = train.loc[:, train.columns != \"TARGET\"]\n",
        "train_y = train['TARGET']\n",
        "train_x, test_x, train_y, test_y = train_test_split(train_x, train_y, test_size=0.15, random_state=30)"
      ],
      "metadata": {
        "id": "njOZRuGK5HLQ"
      },
      "execution_count": null,
      "outputs": []
    },
    {
      "cell_type": "code",
      "source": [
        "from sklearn.base import BaseEstimator, TransformerMixin\n",
        "from sklearn.pipeline import Pipeline\n",
        "from sklearn.pipeline import FeatureUnion\n",
        "from sklearn.preprocessing import StandardScaler\n",
        "from sklearn.impute import SimpleImputer\n",
        "from sklearn.preprocessing import OneHotEncoder\n",
        "from sklearn.linear_model import LogisticRegression\n",
        "from sklearn.metrics import roc_auc_score\n",
        "\n",
        "# custom layer to get columns we want from DataFrame\n",
        "class DataFrameSelector(BaseEstimator, TransformerMixin):\n",
        "  def __init__(self, attribute_names):\n",
        "    self.attribute_names = attribute_names\n",
        "  def fit(self, X, y=None):\n",
        "    return self\n",
        "  def transform(self, X):\n",
        "    return X[self.attribute_names].values\n",
        "def pct(x):\n",
        "    return round(100*x,1)\n",
        "num_pipeline = Pipeline([\n",
        "  ('selector', DataFrameSelector(num_features)),\n",
        "  ('imputer', SimpleImputer(strategy='median')),\n",
        "  ('std_scaler', StandardScaler()),\n",
        "])\n",
        "\n",
        "cat_pipeline = Pipeline([\n",
        "  ('selector', DataFrameSelector(cat_features)),\n",
        "  ('imputer', SimpleImputer(strategy='constant')),\n",
        "  ('ohe', OneHotEncoder(sparse=False, handle_unknown=\"ignore\")),\n",
        "])\n",
        "\n",
        "preprocess_pipeline = FeatureUnion(transformer_list=[\n",
        "  (\"num_pipeline\", num_pipeline),\n",
        "  (\"cat_pipeline\", cat_pipeline),\n",
        "])\n",
        "\n",
        "\n",
        "scaler = preprocess_pipeline.fit(train_x, train_y)\n",
        "\n",
        "train_x = scaler.transform(train_x)\n",
        "test_x = scaler.transform(test_x)"
      ],
      "metadata": {
        "id": "x8MQ5PQ15JU9"
      },
      "execution_count": null,
      "outputs": []
    },
    {
      "cell_type": "code",
      "source": [
        "# to tensors\n",
        "train_x_tensor = torch.from_numpy(train_x).float()\n",
        "test_x_tensor = torch.from_numpy(test_x).float()\n",
        "train_y_tensor = torch.from_numpy(np.array(train_y)).float()\n",
        "test_y_tensor = torch.from_numpy(np.array(test_y)).float()"
      ],
      "metadata": {
        "id": "NeHhXUQW5PHW"
      },
      "execution_count": null,
      "outputs": []
    },
    {
      "cell_type": "code",
      "source": [
        "# globals\n",
        "batch_size = 64\n",
        "num_epochs = 20\n",
        "num_in = train_x.shape[1]\n",
        "num_output = 2"
      ],
      "metadata": {
        "id": "0aJuLAAt5SXY"
      },
      "execution_count": null,
      "outputs": []
    },
    {
      "cell_type": "code",
      "source": [
        "# create data loaders\n",
        "train_set = torch.utils.data.TensorDataset(train_x_tensor, train_y_tensor)\n",
        "data_loader = torch.utils.data.DataLoader(train_set, batch_size=batch_size, shuffle=True)"
      ],
      "metadata": {
        "id": "qEFLccu7lAJU"
      },
      "execution_count": null,
      "outputs": []
    },
    {
      "cell_type": "code",
      "source": [
        "class CustomModel(nn.Module):\n",
        "  def __init__(self):\n",
        "    super().__init__()\n",
        "    self.linear = nn.Sequential(\n",
        "        nn.Linear(num_in, 20),\n",
        "        nn.ReLU(),\n",
        "        nn.Linear(20, 20),\n",
        "        nn.ReLU(),\n",
        "        nn.Linear(20, num_output),\n",
        "    )\n",
        "\n",
        "  def forward(self, x):\n",
        "    out = self.linear(x)\n",
        "    return nn.functional.softmax(out)\n",
        "\n",
        "model = CustomModel()\n",
        "opt = optim.Adam(model.parameters(), lr=0.0001, betas=(0.9, 0.9))\n",
        "loss_fn = nn.BCELoss()"
      ],
      "metadata": {
        "id": "ztMXtr7E5XwZ"
      },
      "execution_count": null,
      "outputs": []
    },
    {
      "cell_type": "code",
      "source": [
        "from time import time\n",
        "\n",
        "losses = []\n",
        "roc_scores = []\n",
        "test_roc_scores = []\n",
        "epochs = num_epochs\n",
        "\n",
        "start = time()\n",
        "for epoch in range(epochs):\n",
        "  running_loss = 0.0\n",
        "  running_auc = 0.0\n",
        "  num_train_auc = 0\n",
        "  for batch, data in enumerate(data_loader):\n",
        "    input, labels = data[0], data[1]\n",
        "\n",
        "    opt.zero_grad()\n",
        "    pred = model(input)[:, 0]\n",
        "    loss = loss_fn(pred, labels)\n",
        "    loss.backward()\n",
        "    opt.step()\n",
        "\n",
        "    running_loss += loss.detach()\n",
        "    try:\n",
        "      running_auc += roc_auc_score(labels, pred.detach().numpy())\n",
        "      num_train_auc += 1\n",
        "    except: pass\n",
        "\n",
        "  losses.append(running_loss/batch_size)\n",
        "  roc_scores.append(running_auc/num_train_auc)\n",
        "  preds = model(test_x_tensor)[:,0].detach().numpy()\n",
        "  test_roc_scores.append(roc_auc_score(test_y, preds))\n",
        "train_time = time() - start"
      ],
      "metadata": {
        "id": "1Q0Nb3w55xak"
      },
      "execution_count": null,
      "outputs": []
    },
    {
      "cell_type": "code",
      "source": [
        "import matplotlib.pyplot as plt\n",
        "\n",
        "plt.plot(range(epochs), losses)"
      ],
      "metadata": {
        "colab": {
          "base_uri": "https://localhost:8080/",
          "height": 282
        },
        "id": "TtEfs1Ju6E9T",
        "outputId": "f0716e3b-e303-4703-ba77-a979c5f605fe"
      },
      "execution_count": null,
      "outputs": [
        {
          "output_type": "execute_result",
          "data": {
            "text/plain": [
              "[<matplotlib.lines.Line2D at 0x7fa91273fbd0>]"
            ]
          },
          "metadata": {},
          "execution_count": 136
        },
        {
          "output_type": "display_data",
          "data": {
            "image/png": "[encoded data removed]",
            "text/plain": [
              "<Figure size 432x288 with 1 Axes>"
            ]
          },
          "metadata": {
            "needs_background": "light"
          }
        }
      ]
    },
    {
      "cell_type": "code",
      "source": [
        "plt.plot(range(epochs), roc_scores, label=\"train AUC\")\n",
        "plt.plot(range(epochs), test_roc_scores, label=\"test AUC\")\n",
        "plt.legend()"
      ],
      "metadata": {
        "colab": {
          "base_uri": "https://localhost:8080/",
          "height": 282
        },
        "id": "UBhNpmdR51Tl",
        "outputId": "8f857996-1c01-44f2-8a46-812937d7a9d1"
      },
      "execution_count": null,
      "outputs": [
        {
          "output_type": "execute_result",
          "data": {
            "text/plain": [
              "<matplotlib.legend.Legend at 0x7fa91236aed0>"
            ]
          },
          "metadata": {},
          "execution_count": 137
        },
        {
          "output_type": "display_data",
          "data": {
            "image/png": "[encoded data removed]",
            "text/plain": [
              "<Figure size 432x288 with 1 Axes>"
            ]
          },
          "metadata": {
            "needs_background": "light"
          }
        }
      ]
    },
    {
      "cell_type": "code",
      "source": [
        "start = time()\n",
        "preds = model(test_x_tensor)[:,0].detach().numpy()\n",
        "roc = roc_auc_score(test_y, preds)\n",
        "test_time = time() - start\n",
        "\n",
        "acc = np.sum(np.round(preds) == test_y) / len(test_y)"
      ],
      "metadata": {
        "id": "Rfmdzuc76Mpl"
      },
      "execution_count": null,
      "outputs": []
    },
    {
      "cell_type": "code",
      "source": [
        "results.loc[5] = [\"Deep Learning\", roc, \"--\", acc, \n",
        "                   train_time, test_time, \"Modifying Layer Sizes\"]\n",
        "\n",
        "results"
      ],
      "metadata": {
        "colab": {
          "base_uri": "https://localhost:8080/",
          "height": 238
        },
        "id": "KyCF48P06P4m",
        "outputId": "5858c71f-1cf3-4b01-b462-9cd03f4ba985"
      },
      "execution_count": null,
      "outputs": [
        {
          "output_type": "execute_result",
          "data": {
            "text/html": [
              "<div>\n",
              "<style scoped>\n",
              "    .dataframe tbody tr th:only-of-type {\n",
              "        vertical-align: middle;\n",
              "    }\n",
              "\n",
              "    .dataframe tbody tr th {\n",
              "        vertical-align: top;\n",
              "    }\n",
              "\n",
              "    .dataframe thead th {\n",
              "        text-align: right;\n",
              "    }\n",
              "</style>\n",
              "<table border=\"1\" class=\"dataframe\">\n",
              "  <thead>\n",
              "    <tr style=\"text-align: right;\">\n",
              "      <th></th>\n",
              "      <th>ExpID</th>\n",
              "      <th>ROC AUC Score</th>\n",
              "      <th>Cross fold train accuracy</th>\n",
              "      <th>Test Accuracy</th>\n",
              "      <th>Train Time(s)</th>\n",
              "      <th>Test Time(s)</th>\n",
              "      <th>Experiment description</th>\n",
              "    </tr>\n",
              "  </thead>\n",
              "  <tbody>\n",
              "    <tr>\n",
              "      <th>0</th>\n",
              "      <td>Deep Learning</td>\n",
              "      <td>0.739418</td>\n",
              "      <td>--</td>\n",
              "      <td>--</td>\n",
              "      <td>1075.331878</td>\n",
              "      <td>0.037791</td>\n",
              "      <td>Deep Learning w/ Application Data</td>\n",
              "    </tr>\n",
              "    <tr>\n",
              "      <th>1</th>\n",
              "      <td>Deep Learning</td>\n",
              "      <td>0.758407</td>\n",
              "      <td>--</td>\n",
              "      <td>--</td>\n",
              "      <td>1400.716561</td>\n",
              "      <td>0.048049</td>\n",
              "      <td>Deep Learning w/ all other data</td>\n",
              "    </tr>\n",
              "    <tr>\n",
              "      <th>2</th>\n",
              "      <td>Deep Learning</td>\n",
              "      <td>0.758383</td>\n",
              "      <td>--</td>\n",
              "      <td>0.917359</td>\n",
              "      <td>254.027061</td>\n",
              "      <td>0.046805</td>\n",
              "      <td>Adam optimizer</td>\n",
              "    </tr>\n",
              "    <tr>\n",
              "      <th>3</th>\n",
              "      <td>Deep Learning</td>\n",
              "      <td>0.671086</td>\n",
              "      <td>--</td>\n",
              "      <td>0.906519</td>\n",
              "      <td>995.408674</td>\n",
              "      <td>0.873410</td>\n",
              "      <td>More layers</td>\n",
              "    </tr>\n",
              "    <tr>\n",
              "      <th>4</th>\n",
              "      <td>Deep Learning</td>\n",
              "      <td>0.732227</td>\n",
              "      <td>--</td>\n",
              "      <td>0.918854</td>\n",
              "      <td>510.319242</td>\n",
              "      <td>1.011763</td>\n",
              "      <td>K-Fold training</td>\n",
              "    </tr>\n",
              "    <tr>\n",
              "      <th>5</th>\n",
              "      <td>Deep Learning</td>\n",
              "      <td>0.750459</td>\n",
              "      <td>--</td>\n",
              "      <td>0.917424</td>\n",
              "      <td>264.229233</td>\n",
              "      <td>0.056706</td>\n",
              "      <td>Modifying Layer Sizes</td>\n",
              "    </tr>\n",
              "  </tbody>\n",
              "</table>\n",
              "</div>"
            ],
            "text/plain": [
              "           ExpID  ...             Experiment description\n",
              "0  Deep Learning  ...  Deep Learning w/ Application Data\n",
              "1  Deep Learning  ...    Deep Learning w/ all other data\n",
              "2  Deep Learning  ...                     Adam optimizer\n",
              "3  Deep Learning  ...                        More layers\n",
              "4  Deep Learning  ...                    K-Fold training\n",
              "5  Deep Learning  ...              Modifying Layer Sizes\n",
              "\n",
              "[6 rows x 7 columns]"
            ]
          },
          "metadata": {},
          "execution_count": 139
        }
      ]
    },
    {
      "cell_type": "markdown",
      "source": [
        "## Kaggle Submission"
      ],
      "metadata": {
        "id": "shNgG-bHEV80"
      }
    },
    {
      "cell_type": "code",
      "source": [
        "test = datasets['application_test']\n",
        "test = test.merge(PA_df, how='left', on='SK_ID_CURR')\n",
        "test = test.merge(PCB_df, how='left', on='SK_ID_CURR')\n",
        "test = test.merge(IP_df, how='left', on='SK_ID_CURR')\n",
        "test = test.merge(B_df, how='left', on='SK_ID_CURR')\n",
        "test = test.merge(CCB_df, how='left', on='SK_ID_CURR')\n",
        "\n",
        "test[\"REGION_POPULATION_RELATIVE*DAYS_ID_PUBLISH\"] = test['REGION_POPULATION_RELATIVE'] * test['DAYS_ID_PUBLISH']\n",
        "test[\"AMT_CREDIT/AMT_GOODS_PRICE\"] = test['AMT_CREDIT'] / test['AMT_GOODS_PRICE']\n",
        "test[\"DEF_30_CNT_SOCIAL_CIRCLE/OBS_30_CNT_SOCIAL_CIRCLE\"] = test['DEF_30_CNT_SOCIAL_CIRCLE'] / test['OBS_30_CNT_SOCIAL_CIRCLE']\n",
        "test[\"DAYS_BIRTH+DAYS_LAST_PHONE_CHANGE\"] = test['DAYS_BIRTH'] + test['DAYS_LAST_PHONE_CHANGE']\n",
        "test[\"DEF_30_CNT_SOCIAL_CIRCLE+DEF_60_CNT_SOCIAL_CIRCLE\"] = test['DEF_30_CNT_SOCIAL_CIRCLE'] + test['DEF_60_CNT_SOCIAL_CIRCLE']\n",
        "test[\"AMT_GOODS_PRICE+DAYS_EMPLOYED\"] = test['AMT_GOODS_PRICE'] + test['DAYS_EMPLOYED']\n",
        "test[\"REGION_POPULATION_RELATIVE*AMT_GOODS_PRICE\"] = test['REGION_POPULATION_RELATIVE'] * test['AMT_GOODS_PRICE']\n",
        "\n",
        "test[\"DAYS_LAST_PHONE_CHANGE+CNT_PAYMENT\"] = test[\"DAYS_LAST_PHONE_CHANGE\"] + test[\"CNT_PAYMENT\"]\n",
        "test[\"DAYS_BIRTH+MONTHS_BALANCE\"] = test[\"DAYS_BIRTH\"] + test[\"MONTHS_BALANCE_x\"]\n",
        "test[\"DAYS_LAST_PHONE_CHANGE+DAYS_ENTRY_PAYMENT\"] = test[\"DAYS_LAST_PHONE_CHANGE\"] + test[\"DAYS_ENTRY_PAYMENT\"]\n",
        "test[\"DAYS_BIRTH*DAYS_CREDIT\"] = test[\"DAYS_BIRTH\"] * test[\"DAYS_CREDIT\"]"
      ],
      "metadata": {
        "id": "pXYvUsLxEg84"
      },
      "execution_count": null,
      "outputs": []
    },
    {
      "cell_type": "code",
      "source": [
        "# convert test to tensor\n",
        "test_numpy = scaler.transform(test)\n",
        "test_tensor = torch.from_numpy(test_numpy).float()\n",
        "\n",
        "preds = model(test_tensor)[:, 0].detach().numpy()\n",
        "submit_df = test[['SK_ID_CURR']]\n",
        "submit_df['TARGET'] = preds\n",
        "\n",
        "submit_df.to_csv(\"submission.csv\",index=False)\n",
        "\n",
        "submit_df.head()"
      ],
      "metadata": {
        "colab": {
          "base_uri": "https://localhost:8080/",
          "height": 206
        },
        "id": "l89gMvLkEhxI",
        "outputId": "64647460-42b9-4006-ad0b-3afdb00ca72d"
      },
      "execution_count": null,
      "outputs": [
        {
          "output_type": "execute_result",
          "data": {
            "text/html": [
              "<div>\n",
              "<style scoped>\n",
              "    .dataframe tbody tr th:only-of-type {\n",
              "        vertical-align: middle;\n",
              "    }\n",
              "\n",
              "    .dataframe tbody tr th {\n",
              "        vertical-align: top;\n",
              "    }\n",
              "\n",
              "    .dataframe thead th {\n",
              "        text-align: right;\n",
              "    }\n",
              "</style>\n",
              "<table border=\"1\" class=\"dataframe\">\n",
              "  <thead>\n",
              "    <tr style=\"text-align: right;\">\n",
              "      <th></th>\n",
              "      <th>SK_ID_CURR</th>\n",
              "      <th>TARGET</th>\n",
              "    </tr>\n",
              "  </thead>\n",
              "  <tbody>\n",
              "    <tr>\n",
              "      <th>0</th>\n",
              "      <td>100001</td>\n",
              "      <td>0.060307</td>\n",
              "    </tr>\n",
              "    <tr>\n",
              "      <th>1</th>\n",
              "      <td>100005</td>\n",
              "      <td>0.231580</td>\n",
              "    </tr>\n",
              "    <tr>\n",
              "      <th>2</th>\n",
              "      <td>100013</td>\n",
              "      <td>0.022034</td>\n",
              "    </tr>\n",
              "    <tr>\n",
              "      <th>3</th>\n",
              "      <td>100028</td>\n",
              "      <td>0.028798</td>\n",
              "    </tr>\n",
              "    <tr>\n",
              "      <th>4</th>\n",
              "      <td>100038</td>\n",
              "      <td>0.170697</td>\n",
              "    </tr>\n",
              "  </tbody>\n",
              "</table>\n",
              "</div>"
            ],
            "text/plain": [
              "   SK_ID_CURR    TARGET\n",
              "0      100001  0.060307\n",
              "1      100005  0.231580\n",
              "2      100013  0.022034\n",
              "3      100028  0.028798\n",
              "4      100038  0.170697"
            ]
          },
          "metadata": {},
          "execution_count": 119
        }
      ]
    },
    {
      "cell_type": "code",
      "source": [
        "! kaggle competitions submit -c home-credit-default-risk -f submission.csv -m \"NN submission\""
      ],
      "metadata": {
        "colab": {
          "base_uri": "https://localhost:8080/"
        },
        "id": "fo5HwkfMFBTN",
        "outputId": "b3053cde-dba9-4749-f332-453433bc3829"
      },
      "execution_count": null,
      "outputs": [
        {
          "output_type": "stream",
          "name": "stdout",
          "text": [
            "Warning: Your Kaggle API key is readable by other users on this system! To fix this, you can run 'chmod 600 /root/.kaggle/kaggle.json'\n",
            "Warning: Looks like you're using an outdated API Version, please consider updating (server 1.5.12 / client 1.5.4)\n",
            "100% 877k/877k [00:00<00:00, 3.37MB/s]\n",
            "Successfully submitted to Home Credit Default Risk"
          ]
        }
      ]
    },
    {
      "cell_type": "markdown",
      "metadata": {
        "id": "_rnANkKSbuN4"
      },
      "source": [
        "# Other Stuff"
      ]
    },
    {
      "cell_type": "code",
      "execution_count": null,
      "metadata": {
        "id": "frxZ8pjC_LxW"
      },
      "outputs": [],
      "source": [
        "#Sequential API"
      ]
    },
    {
      "cell_type": "code",
      "source": [
        "\n",
        "import torch\n",
        "import torch.nn as nn\n",
        "import numpy as np\n",
        "import torch.optim as optim\n",
        "from sklearn.model_selection import train_test_split\n",
        "train_x = train.loc[:, train.columns != \"TARGET\"]\n",
        "train_y = train['TARGET']\n",
        "train_x, test_x, train_y, test_y = train_test_split(train_x, train_y, test_size=0.15, random_state=30)\n",
        "\n",
        "\n"
      ],
      "metadata": {
        "id": "SRtmTYZdG12M"
      },
      "execution_count": null,
      "outputs": []
    },
    {
      "cell_type": "code",
      "source": [
        "from sklearn.base import BaseEstimator, TransformerMixin\n",
        "from sklearn.pipeline import Pipeline\n",
        "from sklearn.pipeline import FeatureUnion\n",
        "from sklearn.preprocessing import StandardScaler\n",
        "from sklearn.impute import SimpleImputer\n",
        "from sklearn.preprocessing import OneHotEncoder\n",
        "from sklearn.linear_model import LogisticRegression\n",
        "\n",
        "# custom layer to get columns we want from DataFrame\n",
        "class DataFrameSelector(BaseEstimator, TransformerMixin):\n",
        "  def __init__(self, attribute_names):\n",
        "    self.attribute_names = attribute_names\n",
        "  def fit(self, X, y=None):\n",
        "    return self\n",
        "  def transform(self, X):\n",
        "    return X[self.attribute_names].values\n",
        "def pct(x):\n",
        "    return round(100*x,1)\n",
        "num_pipeline = Pipeline([\n",
        "  ('selector', DataFrameSelector(num_features)),\n",
        "  ('imputer', SimpleImputer(strategy='median')),\n",
        "  ('std_scaler', StandardScaler()),\n",
        "])\n",
        "\n",
        "cat_pipeline = Pipeline([\n",
        "  ('selector', DataFrameSelector(cat_features)),\n",
        "  ('imputer', SimpleImputer(strategy='constant')),\n",
        "  ('ohe', OneHotEncoder(sparse=False, handle_unknown=\"ignore\")),\n",
        "])\n",
        "\n",
        "preprocess_pipeline = FeatureUnion(transformer_list=[\n",
        "  (\"num_pipeline\", num_pipeline),\n",
        "  (\"cat_pipeline\", cat_pipeline),\n",
        "])\n",
        "\n",
        "\n",
        "scaler = preprocess_pipeline.fit(train_x, train_y)\n",
        "\n",
        "train_x = scaler.transform(train_x)\n",
        "test_x = scaler.transform(test_x)\n"
      ],
      "metadata": {
        "id": "K9FUqcCCAl2c"
      },
      "execution_count": null,
      "outputs": []
    },
    {
      "cell_type": "code",
      "source": [
        "\n",
        "train_x_tensor = torch.from_numpy(train_x).float()\n",
        "test_x_tensor = torch.from_numpy(test_x).float()\n",
        "train_y_tensor = torch.from_numpy(np.array(train_y)).float()\n",
        "test_y_tensor = torch.from_numpy(np.array(test_y)).float()"
      ],
      "metadata": {
        "id": "OL4qcyVrAW71"
      },
      "execution_count": null,
      "outputs": []
    },
    {
      "cell_type": "code",
      "source": [
        "batch_size = 128\n",
        "num_epochs = 20\n",
        "num_in = train_x.shape[1]\n",
        "num_output = 2"
      ],
      "metadata": {
        "id": "RCaKMDk8__Ax"
      },
      "execution_count": null,
      "outputs": []
    },
    {
      "cell_type": "code",
      "source": [
        "class CustomModel(nn.Module):\n",
        "  def __init__(self):\n",
        "    super().__init__()\n",
        "    self.linear = nn.Sequential(\n",
        "        nn.Linear(num_in, 256),\n",
        "        nn.ReLU(),\n",
        "        nn.Dropout(0.2),\n",
        "        nn.BatchNorm1d(256),\n",
        "        nn.Linear(256, 512),\n",
        "        nn.ReLU(),\n",
        "        nn.BatchNorm1d(512),\n",
        "        nn.Linear(512, 256),\n",
        "        nn.ReLU(),\n",
        "        nn.BatchNorm1d(256),\n",
        "        nn.Linear(256, 128),\n",
        "        nn.ReLU(),\n",
        "        nn.Dropout(0.2),\n",
        "        nn.BatchNorm1d(128),\n",
        "        nn.Linear(128, 64),\n",
        "        nn.ReLU(),\n",
        "        nn.BatchNorm1d(64),\n",
        "        nn.Linear(64, 32),\n",
        "        nn.ReLU(),\n",
        "        nn.BatchNorm1d(32),\n",
        "        nn.Dropout(0.2),\n",
        "        nn.Linear(32, num_output)\n",
        "    )\n",
        "\n",
        "  def forward(self, x):\n",
        "    out = self.linear(x)\n",
        "    return nn.functional.softmax(out)\n",
        "\n",
        "model = CustomModel()\n",
        "opt = optim.Adam(model.parameters(), lr=0.0001)\n",
        "loss_fn = nn.BCELoss()"
      ],
      "metadata": {
        "id": "69KyCOJh_qzC"
      },
      "execution_count": null,
      "outputs": []
    },
    {
      "cell_type": "code",
      "source": [
        "# create data loaders\n",
        "train_set = torch.utils.data.TensorDataset(train_x_tensor, train_y_tensor)\n",
        "data_loader = torch.utils.data.DataLoader(train_set, batch_size=batch_size, shuffle=True)"
      ],
      "metadata": {
        "id": "vsvNhkAmIaCD"
      },
      "execution_count": null,
      "outputs": []
    },
    {
      "cell_type": "code",
      "execution_count": null,
      "metadata": {
        "colab": {
          "base_uri": "https://localhost:8080/"
        },
        "id": "LTsFdzX4_PlX",
        "outputId": "a4ac47f1-76ee-49fb-be2b-4577611230b8"
      },
      "outputs": [
        {
          "output_type": "stream",
          "name": "stdout",
          "text": [
            "cpu\n",
            "173\n",
            "Epoch 0 batch 2722 BCE Loss is 0.0008841883391141891\n",
            "Epoch 1 batch 2722 BCE Loss is 0.00023666309425607324\n",
            "Epoch 2 batch 2722 BCE Loss is 0.0010994228068739176\n",
            "Epoch 3 batch 2722 BCE Loss is 0.0012235455214977264\n",
            "Epoch 4 batch 2722 BCE Loss is 0.000625741551630199\n",
            "finished training\n",
            " TEST  BCE loss: 0.103\n"
          ]
        }
      ],
      "source": [
        "import torch\n",
        "import torchvision\n",
        "import torch.utils.data\n",
        "import torchvision.transforms as transforms\n",
        "import torch.nn as nn\n",
        "import torch.nn.functional as F\n",
        "import torch.optim as optim\n",
        "from sklearn.datasets import load_boston\n",
        "from sklearn.model_selection import train_test_split\n",
        "import matplotlib.pyplot as plt\n",
        "import numpy as np\n",
        "import pandas as pd\n",
        "from sklearn.model_selection import train_test_split\n",
        "from sklearn.preprocessing import MinMaxScaler\n",
        "from sklearn.metrics import mean_absolute_error, mean_squared_error\n",
        "test_size=0.15\n",
        "\n",
        "losses = []\n",
        "# is there a GPU availabale. If available use it\n",
        "device = torch.device(\"cuda:0\" if torch.cuda.is_available() else \"cpu\")\n",
        "\n",
        "# Assuming that we are on a CUDA machine, this should print a CUDA device:\n",
        "print(device)\n",
        "\n",
        "train_x = train.loc[:, train.columns != \"TARGET\"]\n",
        "train_y = train['TARGET']\n",
        "train_x, test_x, train_y, test_y = train_test_split(train_x, train_y, test_size=0.15,random_state=30)\n",
        "## Scaling\n",
        "\n",
        "scaler = preprocess_pipeline.fit(train_x, train_y)\n",
        "\n",
        "train_x = scaler.transform(train_x)\n",
        "test_x = scaler.transform(test_x) #Transform test set with the same constants\n",
        "\n",
        "# convert numpy arrays to tensors\n",
        "\n",
        "train_x_tensor = torch.from_numpy(train_x).float()\n",
        "test_x_tensor = torch.from_numpy(test_x).float()\n",
        "train_y_tensor = torch.from_numpy(np.array(train_y)).float()\n",
        "test_y_tensor = torch.from_numpy(np.array(test_y)).float()\n",
        "\n",
        "\n",
        "\n",
        "# create TensorDataset in PyTorch\n",
        "boston_train = torch.utils.data.TensorDataset(train_x_tensor, train_y_tensor)\n",
        "boston_validation = torch.utils.data.TensorDataset(test_x_tensor, test_y_tensor)\n",
        "boston_test = torch.utils.data.TensorDataset(test_x_tensor, test_y_tensor)\n",
        "# create dataloader\n",
        "batch_size = 128\n",
        "trainloader_boston = torch.utils.data.DataLoader(boston_train, batch_size=batch_size, shuffle=True, num_workers=2)\n",
        "validloader_boston = torch.utils.data.DataLoader(boston_validation, batch_size=test_x.shape[0], shuffle=False, num_workers=2)\n",
        "testloader_boston = torch.utils.data.DataLoader(boston_test, batch_size=test_x.shape[0], shuffle=False, num_workers=2)\n",
        "\n",
        "D_in = test_x.shape[1]\n",
        "print(D_in)\n",
        "D_hidden =20\n",
        "D_out = 2\n",
        "\n",
        "#optimizer = optim.SGD(model.parameters(), lr=0.0001)\n",
        "\n",
        "epochs = range(5)\n",
        "count = 0 \n",
        "running_loss = 0.0\n",
        "for epoch in epochs:\n",
        "    running_loss = 0.0\n",
        "    for batch, data in enumerate(data_loader):\n",
        "        input, labels = data[0], data[1]\n",
        "        \n",
        "        running_loss = 0.0\n",
        "        running_auc = 0.0\n",
        "        num_train_auc = 0\n",
        "        opt.zero_grad()\n",
        "        pred = model(input)[:, 0]\n",
        "        loss = loss_fn(pred, labels)\n",
        "        loss.backward()\n",
        "        opt.step()\n",
        "        \n",
        "\n",
        "        # Clear gradient buffers because we don't want any gradient from previous epoch to carry forward, dont want to cummulate gradients\n",
        "\n",
        "        # perform gradient update\n",
        "        #running_loss += loss.item()*input.size(0)\n",
        "        count += input.size(0)\n",
        "        running_loss += loss.detach()\n",
        "        losses.append(running_loss/batch_size)\n",
        "    print(\"Epoch {} batch {} BCE Loss is {}\".format(epoch,batch,(running_loss/batch_size)))\n",
        "        # print statistics\n",
        "    #print(f\"Epoch {epoch+1}, mini batch loss {batch+1}, MSE loss: {np.round(running_loss/count, 3)}\")\n",
        "#print(losses)\n",
        "print(\"finished training\")\n",
        "\n",
        "\n",
        "count = 0 \n",
        "running_loss = 0.0\n",
        "for batch, data in enumerate(testloader_boston):\n",
        "    input, labels = data[0], data[1]\n",
        "    # do forward pass\n",
        "    output = model(input.float())\n",
        "\n",
        "    # compute loss and gradients\n",
        "    loss = loss_fn(output, torch.unsqueeze(labels.float(), dim=1))\n",
        "    # print statistics\n",
        "    running_loss += loss.item()*input.size(0)\n",
        "    count += input.size(0) \n",
        "    test_size +=batch_size\n",
        "print(f\" TEST  BCE loss: {np.round(running_loss/count, 3)}\")\n",
        "\n",
        "# predict test\n",
        "output = model(test_x_tensor.float())\n",
        "# calculate loss via torch\n",
        "loss = loss_fn(output, torch.unsqueeze(test_y_tensor.float(), dim=1)).detach().numpy()/test_size\n",
        "#print(loss)"
      ]
    },
    {
      "cell_type": "code",
      "source": [
        ""
      ],
      "metadata": {
        "id": "Dv4nv8r2WkZt"
      },
      "execution_count": null,
      "outputs": []
    }
  ],
  "metadata": {
    "colab": {
      "collapsed_sections": [],
      "name": "Final Project Neural Network.ipynb",
      "toc_visible": true,
      "provenance": []
    },
    "kernelspec": {
      "display_name": "Python 3",
      "name": "python3"
    },
    "language_info": {
      "name": "python"
    }
  },
  "nbformat": 4,
  "nbformat_minor": 0
}